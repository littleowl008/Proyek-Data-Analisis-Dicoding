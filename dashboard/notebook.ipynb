{
  "nbformat": 4,
  "nbformat_minor": 0,
  "metadata": {
    "colab": {
      "provenance": []
    },
    "kernelspec": {
      "name": "python3",
      "display_name": "Python 3"
    },
    "language_info": {
      "name": "python"
    }
  },
  "cells": [
    {
      "cell_type": "markdown",
      "source": [
        "# Proyek Analisis Data: Nama dataset\n",
        "- Nama: Jane Tamara Setiadi\n",
        "- Email: littleowl008@yahoo.com\n",
        "- Id Dicoding: Jane Tamara"
      ],
      "metadata": {
        "id": "cP5zh7Ww85Fm"
      }
    },
    {
      "cell_type": "markdown",
      "source": [
        "## Menentukan Pertanyaan Bisnis"
      ],
      "metadata": {
        "id": "ggwOFmpI88dG"
      }
    },
    {
      "cell_type": "markdown",
      "source": [
        "- Bagaimana performa penjualan dan revenue perusahaan dalam beberapa bulan terakhir?\n",
        "- Produk apa yang paling banyak dan paling sedikit terjual?\n",
        "- Kapan terakhir pelanggan melakukan transaksi?\n",
        "- Seberapa sering seorang pelanggan melakukan pembelian dalam beberapa bulan terakhir?\n",
        "- Berapa banyak uang yang dihabiskan pelanggan dalam beberapa bulan terakhir?"
      ],
      "metadata": {
        "id": "6irqmTtg8-IC"
      }
    },
    {
      "cell_type": "markdown",
      "source": [
        "## Menyiapkan semua library yang dibutuhkan"
      ],
      "metadata": {
        "id": "EueHsNk89AsY"
      }
    },
    {
      "cell_type": "code",
      "execution_count": 98,
      "metadata": {
        "id": "4cmWv4qc8xWu",
        "colab": {
          "base_uri": "https://localhost:8080/",
          "height": 107
        },
        "outputId": "871cb14f-d947-4640-d841-31bfb3a9dd7d"
      },
      "outputs": [
        {
          "output_type": "display_data",
          "data": {
            "text/plain": [
              "<IPython.core.display.HTML object>"
            ],
            "text/html": [
              "\n",
              "     <input type=\"file\" id=\"files-a0dd07d4-5e1c-4142-98c0-637d2a16a0f1\" name=\"files[]\" multiple disabled\n",
              "        style=\"border:none\" />\n",
              "     <output id=\"result-a0dd07d4-5e1c-4142-98c0-637d2a16a0f1\">\n",
              "      Upload widget is only available when the cell has been executed in the\n",
              "      current browser session. Please rerun this cell to enable.\n",
              "      </output>\n",
              "      <script>// Copyright 2017 Google LLC\n",
              "//\n",
              "// Licensed under the Apache License, Version 2.0 (the \"License\");\n",
              "// you may not use this file except in compliance with the License.\n",
              "// You may obtain a copy of the License at\n",
              "//\n",
              "//      http://www.apache.org/licenses/LICENSE-2.0\n",
              "//\n",
              "// Unless required by applicable law or agreed to in writing, software\n",
              "// distributed under the License is distributed on an \"AS IS\" BASIS,\n",
              "// WITHOUT WARRANTIES OR CONDITIONS OF ANY KIND, either express or implied.\n",
              "// See the License for the specific language governing permissions and\n",
              "// limitations under the License.\n",
              "\n",
              "/**\n",
              " * @fileoverview Helpers for google.colab Python module.\n",
              " */\n",
              "(function(scope) {\n",
              "function span(text, styleAttributes = {}) {\n",
              "  const element = document.createElement('span');\n",
              "  element.textContent = text;\n",
              "  for (const key of Object.keys(styleAttributes)) {\n",
              "    element.style[key] = styleAttributes[key];\n",
              "  }\n",
              "  return element;\n",
              "}\n",
              "\n",
              "// Max number of bytes which will be uploaded at a time.\n",
              "const MAX_PAYLOAD_SIZE = 100 * 1024;\n",
              "\n",
              "function _uploadFiles(inputId, outputId) {\n",
              "  const steps = uploadFilesStep(inputId, outputId);\n",
              "  const outputElement = document.getElementById(outputId);\n",
              "  // Cache steps on the outputElement to make it available for the next call\n",
              "  // to uploadFilesContinue from Python.\n",
              "  outputElement.steps = steps;\n",
              "\n",
              "  return _uploadFilesContinue(outputId);\n",
              "}\n",
              "\n",
              "// This is roughly an async generator (not supported in the browser yet),\n",
              "// where there are multiple asynchronous steps and the Python side is going\n",
              "// to poll for completion of each step.\n",
              "// This uses a Promise to block the python side on completion of each step,\n",
              "// then passes the result of the previous step as the input to the next step.\n",
              "function _uploadFilesContinue(outputId) {\n",
              "  const outputElement = document.getElementById(outputId);\n",
              "  const steps = outputElement.steps;\n",
              "\n",
              "  const next = steps.next(outputElement.lastPromiseValue);\n",
              "  return Promise.resolve(next.value.promise).then((value) => {\n",
              "    // Cache the last promise value to make it available to the next\n",
              "    // step of the generator.\n",
              "    outputElement.lastPromiseValue = value;\n",
              "    return next.value.response;\n",
              "  });\n",
              "}\n",
              "\n",
              "/**\n",
              " * Generator function which is called between each async step of the upload\n",
              " * process.\n",
              " * @param {string} inputId Element ID of the input file picker element.\n",
              " * @param {string} outputId Element ID of the output display.\n",
              " * @return {!Iterable<!Object>} Iterable of next steps.\n",
              " */\n",
              "function* uploadFilesStep(inputId, outputId) {\n",
              "  const inputElement = document.getElementById(inputId);\n",
              "  inputElement.disabled = false;\n",
              "\n",
              "  const outputElement = document.getElementById(outputId);\n",
              "  outputElement.innerHTML = '';\n",
              "\n",
              "  const pickedPromise = new Promise((resolve) => {\n",
              "    inputElement.addEventListener('change', (e) => {\n",
              "      resolve(e.target.files);\n",
              "    });\n",
              "  });\n",
              "\n",
              "  const cancel = document.createElement('button');\n",
              "  inputElement.parentElement.appendChild(cancel);\n",
              "  cancel.textContent = 'Cancel upload';\n",
              "  const cancelPromise = new Promise((resolve) => {\n",
              "    cancel.onclick = () => {\n",
              "      resolve(null);\n",
              "    };\n",
              "  });\n",
              "\n",
              "  // Wait for the user to pick the files.\n",
              "  const files = yield {\n",
              "    promise: Promise.race([pickedPromise, cancelPromise]),\n",
              "    response: {\n",
              "      action: 'starting',\n",
              "    }\n",
              "  };\n",
              "\n",
              "  cancel.remove();\n",
              "\n",
              "  // Disable the input element since further picks are not allowed.\n",
              "  inputElement.disabled = true;\n",
              "\n",
              "  if (!files) {\n",
              "    return {\n",
              "      response: {\n",
              "        action: 'complete',\n",
              "      }\n",
              "    };\n",
              "  }\n",
              "\n",
              "  for (const file of files) {\n",
              "    const li = document.createElement('li');\n",
              "    li.append(span(file.name, {fontWeight: 'bold'}));\n",
              "    li.append(span(\n",
              "        `(${file.type || 'n/a'}) - ${file.size} bytes, ` +\n",
              "        `last modified: ${\n",
              "            file.lastModifiedDate ? file.lastModifiedDate.toLocaleDateString() :\n",
              "                                    'n/a'} - `));\n",
              "    const percent = span('0% done');\n",
              "    li.appendChild(percent);\n",
              "\n",
              "    outputElement.appendChild(li);\n",
              "\n",
              "    const fileDataPromise = new Promise((resolve) => {\n",
              "      const reader = new FileReader();\n",
              "      reader.onload = (e) => {\n",
              "        resolve(e.target.result);\n",
              "      };\n",
              "      reader.readAsArrayBuffer(file);\n",
              "    });\n",
              "    // Wait for the data to be ready.\n",
              "    let fileData = yield {\n",
              "      promise: fileDataPromise,\n",
              "      response: {\n",
              "        action: 'continue',\n",
              "      }\n",
              "    };\n",
              "\n",
              "    // Use a chunked sending to avoid message size limits. See b/62115660.\n",
              "    let position = 0;\n",
              "    do {\n",
              "      const length = Math.min(fileData.byteLength - position, MAX_PAYLOAD_SIZE);\n",
              "      const chunk = new Uint8Array(fileData, position, length);\n",
              "      position += length;\n",
              "\n",
              "      const base64 = btoa(String.fromCharCode.apply(null, chunk));\n",
              "      yield {\n",
              "        response: {\n",
              "          action: 'append',\n",
              "          file: file.name,\n",
              "          data: base64,\n",
              "        },\n",
              "      };\n",
              "\n",
              "      let percentDone = fileData.byteLength === 0 ?\n",
              "          100 :\n",
              "          Math.round((position / fileData.byteLength) * 100);\n",
              "      percent.textContent = `${percentDone}% done`;\n",
              "\n",
              "    } while (position < fileData.byteLength);\n",
              "  }\n",
              "\n",
              "  // All done.\n",
              "  yield {\n",
              "    response: {\n",
              "      action: 'complete',\n",
              "    }\n",
              "  };\n",
              "}\n",
              "\n",
              "scope.google = scope.google || {};\n",
              "scope.google.colab = scope.google.colab || {};\n",
              "scope.google.colab._files = {\n",
              "  _uploadFiles,\n",
              "  _uploadFilesContinue,\n",
              "};\n",
              "})(self);\n",
              "</script> "
            ]
          },
          "metadata": {}
        },
        {
          "output_type": "stream",
          "name": "stdout",
          "text": [
            "Saving kaggle.json to kaggle (1).json\n"
          ]
        },
        {
          "output_type": "execute_result",
          "data": {
            "text/plain": [
              "{'kaggle (1).json': b'{\"username\":\"janetas\",\"key\":\"65b90c92b410b57ca9ddca7c2b00a07a\"}'}"
            ]
          },
          "metadata": {},
          "execution_count": 98
        }
      ],
      "source": [
        "import pandas as pd\n",
        "import numpy as np\n",
        "import matplotlib.pyplot as plt\n",
        "import seaborn as sns\n",
        "from google.colab import files\n",
        "files.upload()"
      ]
    },
    {
      "cell_type": "code",
      "source": [
        "!mkdir -p ~/.kaggle\n",
        "!cp kaggle.json ~/.kaggle\n",
        "\n",
        "!chmod 600 ~/.kaggle/kaggle.json"
      ],
      "metadata": {
        "id": "ymy1UdYgj10z"
      },
      "execution_count": 99,
      "outputs": []
    },
    {
      "cell_type": "code",
      "source": [
        "!kaggle datasets download -d olistbr/brazilian-ecommerce"
      ],
      "metadata": {
        "colab": {
          "base_uri": "https://localhost:8080/"
        },
        "id": "5wdsDy8qkmgL",
        "outputId": "8149ae4b-19e7-4982-fc39-1ad112dea895"
      },
      "execution_count": 100,
      "outputs": [
        {
          "output_type": "stream",
          "name": "stdout",
          "text": [
            "brazilian-ecommerce.zip: Skipping, found more recently modified local copy (use --force to force download)\n"
          ]
        }
      ]
    },
    {
      "cell_type": "markdown",
      "source": [
        "## Data Wrangling"
      ],
      "metadata": {
        "id": "7DwSpkkZ9BqV"
      }
    },
    {
      "cell_type": "markdown",
      "source": [
        "Data wrangling merupakan sebuah proses atau kumpulan kegiatan yang meliputi pengumpulan data (Gathering data), penilaian data (Assessing data), serta pembersihan data (Cleaning data) sebelum data digunakan dalam proses analisis data."
      ],
      "metadata": {
        "id": "cGOVg7j7415o"
      }
    },
    {
      "cell_type": "markdown",
      "source": [
        "### Gathering Data"
      ],
      "metadata": {
        "id": "ZuJuLGxe9D9O"
      }
    },
    {
      "cell_type": "markdown",
      "source": [
        "Sumber data : E-Commerce Public Dataset\n",
        "\n",
        "https://www.kaggle.com/datasets/olistbr/brazilian-ecommerce/data"
      ],
      "metadata": {
        "id": "xvT14RSra7ls"
      }
    },
    {
      "cell_type": "code",
      "source": [
        "import zipfile\n",
        "import os\n",
        "\n",
        "zip_path = \"brazilian-ecommerce.zip\"\n",
        "extract_path = \"extracted_data\"\n",
        "\n",
        "with zipfile.ZipFile(zip_path, 'r') as zip_ref:\n",
        "  zip_ref.extractall(extract_path)\n",
        "\n",
        "extracted_files = os.listdir(extract_path)\n",
        "print(extracted_files)"
      ],
      "metadata": {
        "colab": {
          "base_uri": "https://localhost:8080/"
        },
        "id": "4-oSWqiDl2_4",
        "outputId": "e4a7a7d9-fd60-4910-97ed-cbf5f3fd2fb9"
      },
      "execution_count": 101,
      "outputs": [
        {
          "output_type": "stream",
          "name": "stdout",
          "text": [
            "['olist_customers_dataset.csv', 'olist_order_reviews_dataset.csv', 'olist_geolocation_dataset.csv', 'olist_sellers_dataset.csv', 'product_category_name_translation.csv', 'olist_order_payments_dataset.csv', 'olist_products_dataset.csv', 'olist_order_items_dataset.csv', 'olist_orders_dataset.csv']\n"
          ]
        }
      ]
    },
    {
      "cell_type": "code",
      "source": [
        "dfs = {}\n",
        "for file_name in extracted_files:\n",
        "  if file_name.endswith('.csv'):\n",
        "    file_path = os.path.join(extract_path, file_name)\n",
        "    print(file_path)"
      ],
      "metadata": {
        "colab": {
          "base_uri": "https://localhost:8080/"
        },
        "id": "naI8u6SUpbou",
        "outputId": "45b56ebb-5b05-40b1-dd02-476db8a59335"
      },
      "execution_count": 102,
      "outputs": [
        {
          "output_type": "stream",
          "name": "stdout",
          "text": [
            "extracted_data/olist_customers_dataset.csv\n",
            "extracted_data/olist_order_reviews_dataset.csv\n",
            "extracted_data/olist_geolocation_dataset.csv\n",
            "extracted_data/olist_sellers_dataset.csv\n",
            "extracted_data/product_category_name_translation.csv\n",
            "extracted_data/olist_order_payments_dataset.csv\n",
            "extracted_data/olist_products_dataset.csv\n",
            "extracted_data/olist_order_items_dataset.csv\n",
            "extracted_data/olist_orders_dataset.csv\n"
          ]
        }
      ]
    },
    {
      "cell_type": "code",
      "source": [
        "# Membuat dataframe berdasarkan masing-masing dataset :\n",
        "\n",
        "cust = pd.read_csv('extracted_data/olist_customers_dataset.csv')\n",
        "items = pd.read_csv('extracted_data/olist_order_items_dataset.csv')\n",
        "geo = pd.read_csv('extracted_data/olist_geolocation_dataset.csv')\n",
        "payments = pd.read_csv('extracted_data/olist_order_payments_dataset.csv')\n",
        "reviews = pd.read_csv('extracted_data/olist_order_reviews_dataset.csv')\n",
        "orders = pd.read_csv('extracted_data/olist_orders_dataset.csv')\n",
        "products = pd.read_csv('extracted_data/olist_products_dataset.csv')\n",
        "sellers = pd.read_csv('extracted_data/olist_sellers_dataset.csv')\n",
        "category = pd.read_csv('extracted_data/product_category_name_translation.csv')"
      ],
      "metadata": {
        "id": "bdk1sWWD4QAE"
      },
      "execution_count": 103,
      "outputs": []
    },
    {
      "cell_type": "markdown",
      "source": [
        "Data Schema"
      ],
      "metadata": {
        "id": "95WVpmXt5uSk"
      }
    },
    {
      "cell_type": "markdown",
      "source": [
        "![image.png](data:image/png;base64,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)"
      ],
      "metadata": {
        "id": "u9cOSZy74FPs"
      }
    },
    {
      "cell_type": "markdown",
      "source": [
        "### Assessing Data"
      ],
      "metadata": {
        "id": "BvZAfrSH9F2U"
      }
    },
    {
      "cell_type": "markdown",
      "source": [
        "Memeriksa setiap data yang tersedia untuk menilai apakah ada null, duplikasi atau error dalam data"
      ],
      "metadata": {
        "id": "vxXtpqPRDdSl"
      }
    },
    {
      "cell_type": "code",
      "source": [
        "# customers :\n",
        "\n",
        "cust.info()"
      ],
      "metadata": {
        "id": "fx7PaLsV9G8M",
        "colab": {
          "base_uri": "https://localhost:8080/"
        },
        "outputId": "fa9f1171-307b-43cd-9c50-cba8d28e718a"
      },
      "execution_count": 104,
      "outputs": [
        {
          "output_type": "stream",
          "name": "stdout",
          "text": [
            "<class 'pandas.core.frame.DataFrame'>\n",
            "RangeIndex: 99441 entries, 0 to 99440\n",
            "Data columns (total 5 columns):\n",
            " #   Column                    Non-Null Count  Dtype \n",
            "---  ------                    --------------  ----- \n",
            " 0   customer_id               99441 non-null  object\n",
            " 1   customer_unique_id        99441 non-null  object\n",
            " 2   customer_zip_code_prefix  99441 non-null  int64 \n",
            " 3   customer_city             99441 non-null  object\n",
            " 4   customer_state            99441 non-null  object\n",
            "dtypes: int64(1), object(4)\n",
            "memory usage: 3.8+ MB\n"
          ]
        }
      ]
    },
    {
      "cell_type": "code",
      "source": [
        "cust.duplicated().sum()"
      ],
      "metadata": {
        "colab": {
          "base_uri": "https://localhost:8080/"
        },
        "id": "Ib78r361D_AS",
        "outputId": "6bc0c244-4dc0-45ad-9f3c-6e186c88abc0"
      },
      "execution_count": 105,
      "outputs": [
        {
          "output_type": "execute_result",
          "data": {
            "text/plain": [
              "0"
            ]
          },
          "metadata": {},
          "execution_count": 105
        }
      ]
    },
    {
      "cell_type": "code",
      "source": [
        "# geolocation :\n",
        "geo.info()"
      ],
      "metadata": {
        "colab": {
          "base_uri": "https://localhost:8080/"
        },
        "id": "xBJ15U1-Dnfh",
        "outputId": "c456bc81-a574-4141-ba3d-155d12b805d8"
      },
      "execution_count": 106,
      "outputs": [
        {
          "output_type": "stream",
          "name": "stdout",
          "text": [
            "<class 'pandas.core.frame.DataFrame'>\n",
            "RangeIndex: 1000163 entries, 0 to 1000162\n",
            "Data columns (total 5 columns):\n",
            " #   Column                       Non-Null Count    Dtype  \n",
            "---  ------                       --------------    -----  \n",
            " 0   geolocation_zip_code_prefix  1000163 non-null  int64  \n",
            " 1   geolocation_lat              1000163 non-null  float64\n",
            " 2   geolocation_lng              1000163 non-null  float64\n",
            " 3   geolocation_city             1000163 non-null  object \n",
            " 4   geolocation_state            1000163 non-null  object \n",
            "dtypes: float64(2), int64(1), object(2)\n",
            "memory usage: 38.2+ MB\n"
          ]
        }
      ]
    },
    {
      "cell_type": "code",
      "source": [
        "geo.duplicated().sum()"
      ],
      "metadata": {
        "colab": {
          "base_uri": "https://localhost:8080/"
        },
        "id": "g7CFOhWXDzJw",
        "outputId": "c71786fa-92d2-4866-ada1-21774da7827f"
      },
      "execution_count": 11,
      "outputs": [
        {
          "output_type": "execute_result",
          "data": {
            "text/plain": [
              "261831"
            ]
          },
          "metadata": {},
          "execution_count": 11
        }
      ]
    },
    {
      "cell_type": "code",
      "source": [
        "# order_items :\n",
        "items.info()"
      ],
      "metadata": {
        "colab": {
          "base_uri": "https://localhost:8080/"
        },
        "id": "9FkexIaGITrT",
        "outputId": "46038fda-7836-4c72-b045-4485c6f3a8b8"
      },
      "execution_count": 12,
      "outputs": [
        {
          "output_type": "stream",
          "name": "stdout",
          "text": [
            "<class 'pandas.core.frame.DataFrame'>\n",
            "RangeIndex: 112650 entries, 0 to 112649\n",
            "Data columns (total 7 columns):\n",
            " #   Column               Non-Null Count   Dtype  \n",
            "---  ------               --------------   -----  \n",
            " 0   order_id             112650 non-null  object \n",
            " 1   order_item_id        112650 non-null  int64  \n",
            " 2   product_id           112650 non-null  object \n",
            " 3   seller_id            112650 non-null  object \n",
            " 4   shipping_limit_date  112650 non-null  object \n",
            " 5   price                112650 non-null  float64\n",
            " 6   freight_value        112650 non-null  float64\n",
            "dtypes: float64(2), int64(1), object(4)\n",
            "memory usage: 6.0+ MB\n"
          ]
        }
      ]
    },
    {
      "cell_type": "code",
      "source": [
        "items.duplicated().sum()"
      ],
      "metadata": {
        "colab": {
          "base_uri": "https://localhost:8080/"
        },
        "id": "XZEpfrD_Idiz",
        "outputId": "62a35a2e-c6cf-4c1b-f813-df1fe5df9fea"
      },
      "execution_count": 13,
      "outputs": [
        {
          "output_type": "execute_result",
          "data": {
            "text/plain": [
              "0"
            ]
          },
          "metadata": {},
          "execution_count": 13
        }
      ]
    },
    {
      "cell_type": "code",
      "source": [
        "# order_payments :\n",
        "payments.info()"
      ],
      "metadata": {
        "colab": {
          "base_uri": "https://localhost:8080/"
        },
        "id": "BuiUxtwBItCA",
        "outputId": "8bee3c73-57e8-4b85-c24d-46528344a03b"
      },
      "execution_count": 14,
      "outputs": [
        {
          "output_type": "stream",
          "name": "stdout",
          "text": [
            "<class 'pandas.core.frame.DataFrame'>\n",
            "RangeIndex: 103886 entries, 0 to 103885\n",
            "Data columns (total 5 columns):\n",
            " #   Column                Non-Null Count   Dtype  \n",
            "---  ------                --------------   -----  \n",
            " 0   order_id              103886 non-null  object \n",
            " 1   payment_sequential    103886 non-null  int64  \n",
            " 2   payment_type          103886 non-null  object \n",
            " 3   payment_installments  103886 non-null  int64  \n",
            " 4   payment_value         103886 non-null  float64\n",
            "dtypes: float64(1), int64(2), object(2)\n",
            "memory usage: 4.0+ MB\n"
          ]
        }
      ]
    },
    {
      "cell_type": "code",
      "source": [
        "payments.duplicated().sum()"
      ],
      "metadata": {
        "colab": {
          "base_uri": "https://localhost:8080/"
        },
        "id": "TdfYCer1I7W_",
        "outputId": "e6ab228f-df5b-4609-d497-a85b930f7bec"
      },
      "execution_count": 15,
      "outputs": [
        {
          "output_type": "execute_result",
          "data": {
            "text/plain": [
              "0"
            ]
          },
          "metadata": {},
          "execution_count": 15
        }
      ]
    },
    {
      "cell_type": "code",
      "source": [
        "# order_reviews :\n",
        "reviews.info()"
      ],
      "metadata": {
        "colab": {
          "base_uri": "https://localhost:8080/"
        },
        "id": "Sa_Z7ZdEJDyQ",
        "outputId": "524eea8a-0f38-4665-c45c-e0dc7becbf0f"
      },
      "execution_count": 16,
      "outputs": [
        {
          "output_type": "stream",
          "name": "stdout",
          "text": [
            "<class 'pandas.core.frame.DataFrame'>\n",
            "RangeIndex: 99224 entries, 0 to 99223\n",
            "Data columns (total 7 columns):\n",
            " #   Column                   Non-Null Count  Dtype \n",
            "---  ------                   --------------  ----- \n",
            " 0   review_id                99224 non-null  object\n",
            " 1   order_id                 99224 non-null  object\n",
            " 2   review_score             99224 non-null  int64 \n",
            " 3   review_comment_title     11568 non-null  object\n",
            " 4   review_comment_message   40977 non-null  object\n",
            " 5   review_creation_date     99224 non-null  object\n",
            " 6   review_answer_timestamp  99224 non-null  object\n",
            "dtypes: int64(1), object(6)\n",
            "memory usage: 5.3+ MB\n"
          ]
        }
      ]
    },
    {
      "cell_type": "code",
      "source": [
        "reviews.isnull().sum()"
      ],
      "metadata": {
        "colab": {
          "base_uri": "https://localhost:8080/"
        },
        "id": "5pHMJOHZLXUn",
        "outputId": "852de912-dd18-4a7b-faa7-30d99708df04"
      },
      "execution_count": 17,
      "outputs": [
        {
          "output_type": "execute_result",
          "data": {
            "text/plain": [
              "review_id                      0\n",
              "order_id                       0\n",
              "review_score                   0\n",
              "review_comment_title       87656\n",
              "review_comment_message     58247\n",
              "review_creation_date           0\n",
              "review_answer_timestamp        0\n",
              "dtype: int64"
            ]
          },
          "metadata": {},
          "execution_count": 17
        }
      ]
    },
    {
      "cell_type": "code",
      "source": [
        "reviews.duplicated().sum()"
      ],
      "metadata": {
        "colab": {
          "base_uri": "https://localhost:8080/"
        },
        "id": "XK3dyGZoJK1J",
        "outputId": "aa91f71e-d97a-49ce-bc6b-1ba8c12f72c9"
      },
      "execution_count": 18,
      "outputs": [
        {
          "output_type": "execute_result",
          "data": {
            "text/plain": [
              "0"
            ]
          },
          "metadata": {},
          "execution_count": 18
        }
      ]
    },
    {
      "cell_type": "code",
      "source": [
        "# orders :\n",
        "orders.info()"
      ],
      "metadata": {
        "colab": {
          "base_uri": "https://localhost:8080/"
        },
        "id": "-CTmNEXDJT1y",
        "outputId": "9f37eb7e-87bd-4d8c-db3a-98f7c842b2b8"
      },
      "execution_count": 19,
      "outputs": [
        {
          "output_type": "stream",
          "name": "stdout",
          "text": [
            "<class 'pandas.core.frame.DataFrame'>\n",
            "RangeIndex: 99441 entries, 0 to 99440\n",
            "Data columns (total 8 columns):\n",
            " #   Column                         Non-Null Count  Dtype \n",
            "---  ------                         --------------  ----- \n",
            " 0   order_id                       99441 non-null  object\n",
            " 1   customer_id                    99441 non-null  object\n",
            " 2   order_status                   99441 non-null  object\n",
            " 3   order_purchase_timestamp       99441 non-null  object\n",
            " 4   order_approved_at              99281 non-null  object\n",
            " 5   order_delivered_carrier_date   97658 non-null  object\n",
            " 6   order_delivered_customer_date  96476 non-null  object\n",
            " 7   order_estimated_delivery_date  99441 non-null  object\n",
            "dtypes: object(8)\n",
            "memory usage: 6.1+ MB\n"
          ]
        }
      ]
    },
    {
      "cell_type": "code",
      "source": [
        "orders.isnull().sum()"
      ],
      "metadata": {
        "colab": {
          "base_uri": "https://localhost:8080/"
        },
        "id": "FXFWgM8NLCMQ",
        "outputId": "4b5f3560-dcee-4ec4-96b1-b21294594b39"
      },
      "execution_count": 20,
      "outputs": [
        {
          "output_type": "execute_result",
          "data": {
            "text/plain": [
              "order_id                            0\n",
              "customer_id                         0\n",
              "order_status                        0\n",
              "order_purchase_timestamp            0\n",
              "order_approved_at                 160\n",
              "order_delivered_carrier_date     1783\n",
              "order_delivered_customer_date    2965\n",
              "order_estimated_delivery_date       0\n",
              "dtype: int64"
            ]
          },
          "metadata": {},
          "execution_count": 20
        }
      ]
    },
    {
      "cell_type": "code",
      "source": [
        "orders.duplicated().sum()"
      ],
      "metadata": {
        "colab": {
          "base_uri": "https://localhost:8080/"
        },
        "id": "hDK9iRtpJ53S",
        "outputId": "6cc34f38-0742-48d2-ac3b-cfc5d28710ac"
      },
      "execution_count": 21,
      "outputs": [
        {
          "output_type": "execute_result",
          "data": {
            "text/plain": [
              "0"
            ]
          },
          "metadata": {},
          "execution_count": 21
        }
      ]
    },
    {
      "cell_type": "code",
      "source": [
        "# products :\n",
        "products.info()"
      ],
      "metadata": {
        "colab": {
          "base_uri": "https://localhost:8080/"
        },
        "id": "azk4j8OoKgSY",
        "outputId": "0a64df68-c295-4d42-a084-940bf92112bb"
      },
      "execution_count": 22,
      "outputs": [
        {
          "output_type": "stream",
          "name": "stdout",
          "text": [
            "<class 'pandas.core.frame.DataFrame'>\n",
            "RangeIndex: 32951 entries, 0 to 32950\n",
            "Data columns (total 9 columns):\n",
            " #   Column                      Non-Null Count  Dtype  \n",
            "---  ------                      --------------  -----  \n",
            " 0   product_id                  32951 non-null  object \n",
            " 1   product_category_name       32341 non-null  object \n",
            " 2   product_name_lenght         32341 non-null  float64\n",
            " 3   product_description_lenght  32341 non-null  float64\n",
            " 4   product_photos_qty          32341 non-null  float64\n",
            " 5   product_weight_g            32949 non-null  float64\n",
            " 6   product_length_cm           32949 non-null  float64\n",
            " 7   product_height_cm           32949 non-null  float64\n",
            " 8   product_width_cm            32949 non-null  float64\n",
            "dtypes: float64(7), object(2)\n",
            "memory usage: 2.3+ MB\n"
          ]
        }
      ]
    },
    {
      "cell_type": "code",
      "source": [
        "products.isnull().sum()"
      ],
      "metadata": {
        "colab": {
          "base_uri": "https://localhost:8080/"
        },
        "id": "zwNnfIKmKnMy",
        "outputId": "d0de39bb-e868-4b4a-b66d-1c961857e455"
      },
      "execution_count": 23,
      "outputs": [
        {
          "output_type": "execute_result",
          "data": {
            "text/plain": [
              "product_id                      0\n",
              "product_category_name         610\n",
              "product_name_lenght           610\n",
              "product_description_lenght    610\n",
              "product_photos_qty            610\n",
              "product_weight_g                2\n",
              "product_length_cm               2\n",
              "product_height_cm               2\n",
              "product_width_cm                2\n",
              "dtype: int64"
            ]
          },
          "metadata": {},
          "execution_count": 23
        }
      ]
    },
    {
      "cell_type": "code",
      "source": [
        "products.duplicated().sum()"
      ],
      "metadata": {
        "colab": {
          "base_uri": "https://localhost:8080/"
        },
        "id": "5B5jDL6CMBDw",
        "outputId": "22d46833-97d8-4858-c2bd-24938f8ac271"
      },
      "execution_count": 24,
      "outputs": [
        {
          "output_type": "execute_result",
          "data": {
            "text/plain": [
              "0"
            ]
          },
          "metadata": {},
          "execution_count": 24
        }
      ]
    },
    {
      "cell_type": "code",
      "source": [
        "# sellers :\n",
        "sellers.info()"
      ],
      "metadata": {
        "colab": {
          "base_uri": "https://localhost:8080/"
        },
        "id": "UKgPTqIxMNSA",
        "outputId": "d6a2e9cb-13ad-4166-c01f-972f42fc0308"
      },
      "execution_count": 25,
      "outputs": [
        {
          "output_type": "stream",
          "name": "stdout",
          "text": [
            "<class 'pandas.core.frame.DataFrame'>\n",
            "RangeIndex: 3095 entries, 0 to 3094\n",
            "Data columns (total 4 columns):\n",
            " #   Column                  Non-Null Count  Dtype \n",
            "---  ------                  --------------  ----- \n",
            " 0   seller_id               3095 non-null   object\n",
            " 1   seller_zip_code_prefix  3095 non-null   int64 \n",
            " 2   seller_city             3095 non-null   object\n",
            " 3   seller_state            3095 non-null   object\n",
            "dtypes: int64(1), object(3)\n",
            "memory usage: 96.8+ KB\n"
          ]
        }
      ]
    },
    {
      "cell_type": "code",
      "source": [
        "sellers.duplicated().sum()"
      ],
      "metadata": {
        "colab": {
          "base_uri": "https://localhost:8080/"
        },
        "id": "BGvCayI6MQ2T",
        "outputId": "eb990301-8036-4f58-daf4-ce0e41c895b1"
      },
      "execution_count": 26,
      "outputs": [
        {
          "output_type": "execute_result",
          "data": {
            "text/plain": [
              "0"
            ]
          },
          "metadata": {},
          "execution_count": 26
        }
      ]
    },
    {
      "cell_type": "code",
      "source": [
        "# product_category_name :\n",
        "category.info()"
      ],
      "metadata": {
        "colab": {
          "base_uri": "https://localhost:8080/"
        },
        "id": "xUO_obTdN_Se",
        "outputId": "50a31c70-2560-4572-c5ef-ad9ae981582f"
      },
      "execution_count": 27,
      "outputs": [
        {
          "output_type": "stream",
          "name": "stdout",
          "text": [
            "<class 'pandas.core.frame.DataFrame'>\n",
            "RangeIndex: 71 entries, 0 to 70\n",
            "Data columns (total 2 columns):\n",
            " #   Column                         Non-Null Count  Dtype \n",
            "---  ------                         --------------  ----- \n",
            " 0   product_category_name          71 non-null     object\n",
            " 1   product_category_name_english  71 non-null     object\n",
            "dtypes: object(2)\n",
            "memory usage: 1.2+ KB\n"
          ]
        }
      ]
    },
    {
      "cell_type": "code",
      "source": [
        "category.duplicated().sum()"
      ],
      "metadata": {
        "colab": {
          "base_uri": "https://localhost:8080/"
        },
        "id": "n4-uivl2OHeV",
        "outputId": "c756cf7c-77cb-4ff1-a4c9-b433ce3c75b8"
      },
      "execution_count": 28,
      "outputs": [
        {
          "output_type": "execute_result",
          "data": {
            "text/plain": [
              "0"
            ]
          },
          "metadata": {},
          "execution_count": 28
        }
      ]
    },
    {
      "cell_type": "markdown",
      "source": [
        "Lakukan penggabungan data untuk menghasilkan main dataframe"
      ],
      "metadata": {
        "id": "H2BDm2MHhpOz"
      }
    },
    {
      "cell_type": "code",
      "source": [
        "# menghapus duplikasi data geological :\n",
        "geo.drop_duplicates()"
      ],
      "metadata": {
        "colab": {
          "base_uri": "https://localhost:8080/",
          "height": 443
        },
        "id": "JqC_SbQoihUH",
        "outputId": "5321c328-d19e-4eba-e019-deae5bb09c84"
      },
      "execution_count": 107,
      "outputs": [
        {
          "output_type": "execute_result",
          "data": {
            "text/plain": [
              "         geolocation_zip_code_prefix  geolocation_lat  geolocation_lng  \\\n",
              "0                               1037       -23.545621       -46.639292   \n",
              "1                               1046       -23.546081       -46.644820   \n",
              "2                               1046       -23.546129       -46.642951   \n",
              "3                               1041       -23.544392       -46.639499   \n",
              "4                               1035       -23.541578       -46.641607   \n",
              "...                              ...              ...              ...   \n",
              "1000155                        99965       -28.180655       -52.034367   \n",
              "1000156                        99950       -28.072188       -52.011272   \n",
              "1000157                        99950       -28.068864       -52.012964   \n",
              "1000158                        99950       -28.068639       -52.010705   \n",
              "1000161                        99980       -28.388932       -51.846871   \n",
              "\n",
              "        geolocation_city geolocation_state  \n",
              "0              sao paulo                SP  \n",
              "1              sao paulo                SP  \n",
              "2              sao paulo                SP  \n",
              "3              sao paulo                SP  \n",
              "4              sao paulo                SP  \n",
              "...                  ...               ...  \n",
              "1000155       agua santa                RS  \n",
              "1000156         tapejara                RS  \n",
              "1000157         tapejara                RS  \n",
              "1000158         tapejara                RS  \n",
              "1000161  david canabarro                RS  \n",
              "\n",
              "[738332 rows x 5 columns]"
            ],
            "text/html": [
              "\n",
              "  <div id=\"df-85cae710-491b-4839-831f-9c4033c3bf31\" class=\"colab-df-container\">\n",
              "    <div>\n",
              "<style scoped>\n",
              "    .dataframe tbody tr th:only-of-type {\n",
              "        vertical-align: middle;\n",
              "    }\n",
              "\n",
              "    .dataframe tbody tr th {\n",
              "        vertical-align: top;\n",
              "    }\n",
              "\n",
              "    .dataframe thead th {\n",
              "        text-align: right;\n",
              "    }\n",
              "</style>\n",
              "<table border=\"1\" class=\"dataframe\">\n",
              "  <thead>\n",
              "    <tr style=\"text-align: right;\">\n",
              "      <th></th>\n",
              "      <th>geolocation_zip_code_prefix</th>\n",
              "      <th>geolocation_lat</th>\n",
              "      <th>geolocation_lng</th>\n",
              "      <th>geolocation_city</th>\n",
              "      <th>geolocation_state</th>\n",
              "    </tr>\n",
              "  </thead>\n",
              "  <tbody>\n",
              "    <tr>\n",
              "      <th>0</th>\n",
              "      <td>1037</td>\n",
              "      <td>-23.545621</td>\n",
              "      <td>-46.639292</td>\n",
              "      <td>sao paulo</td>\n",
              "      <td>SP</td>\n",
              "    </tr>\n",
              "    <tr>\n",
              "      <th>1</th>\n",
              "      <td>1046</td>\n",
              "      <td>-23.546081</td>\n",
              "      <td>-46.644820</td>\n",
              "      <td>sao paulo</td>\n",
              "      <td>SP</td>\n",
              "    </tr>\n",
              "    <tr>\n",
              "      <th>2</th>\n",
              "      <td>1046</td>\n",
              "      <td>-23.546129</td>\n",
              "      <td>-46.642951</td>\n",
              "      <td>sao paulo</td>\n",
              "      <td>SP</td>\n",
              "    </tr>\n",
              "    <tr>\n",
              "      <th>3</th>\n",
              "      <td>1041</td>\n",
              "      <td>-23.544392</td>\n",
              "      <td>-46.639499</td>\n",
              "      <td>sao paulo</td>\n",
              "      <td>SP</td>\n",
              "    </tr>\n",
              "    <tr>\n",
              "      <th>4</th>\n",
              "      <td>1035</td>\n",
              "      <td>-23.541578</td>\n",
              "      <td>-46.641607</td>\n",
              "      <td>sao paulo</td>\n",
              "      <td>SP</td>\n",
              "    </tr>\n",
              "    <tr>\n",
              "      <th>...</th>\n",
              "      <td>...</td>\n",
              "      <td>...</td>\n",
              "      <td>...</td>\n",
              "      <td>...</td>\n",
              "      <td>...</td>\n",
              "    </tr>\n",
              "    <tr>\n",
              "      <th>1000155</th>\n",
              "      <td>99965</td>\n",
              "      <td>-28.180655</td>\n",
              "      <td>-52.034367</td>\n",
              "      <td>agua santa</td>\n",
              "      <td>RS</td>\n",
              "    </tr>\n",
              "    <tr>\n",
              "      <th>1000156</th>\n",
              "      <td>99950</td>\n",
              "      <td>-28.072188</td>\n",
              "      <td>-52.011272</td>\n",
              "      <td>tapejara</td>\n",
              "      <td>RS</td>\n",
              "    </tr>\n",
              "    <tr>\n",
              "      <th>1000157</th>\n",
              "      <td>99950</td>\n",
              "      <td>-28.068864</td>\n",
              "      <td>-52.012964</td>\n",
              "      <td>tapejara</td>\n",
              "      <td>RS</td>\n",
              "    </tr>\n",
              "    <tr>\n",
              "      <th>1000158</th>\n",
              "      <td>99950</td>\n",
              "      <td>-28.068639</td>\n",
              "      <td>-52.010705</td>\n",
              "      <td>tapejara</td>\n",
              "      <td>RS</td>\n",
              "    </tr>\n",
              "    <tr>\n",
              "      <th>1000161</th>\n",
              "      <td>99980</td>\n",
              "      <td>-28.388932</td>\n",
              "      <td>-51.846871</td>\n",
              "      <td>david canabarro</td>\n",
              "      <td>RS</td>\n",
              "    </tr>\n",
              "  </tbody>\n",
              "</table>\n",
              "<p>738332 rows × 5 columns</p>\n",
              "</div>\n",
              "    <div class=\"colab-df-buttons\">\n",
              "\n",
              "  <div class=\"colab-df-container\">\n",
              "    <button class=\"colab-df-convert\" onclick=\"convertToInteractive('df-85cae710-491b-4839-831f-9c4033c3bf31')\"\n",
              "            title=\"Convert this dataframe to an interactive table.\"\n",
              "            style=\"display:none;\">\n",
              "\n",
              "  <svg xmlns=\"http://www.w3.org/2000/svg\" height=\"24px\" viewBox=\"0 -960 960 960\">\n",
              "    <path d=\"M120-120v-720h720v720H120Zm60-500h600v-160H180v160Zm220 220h160v-160H400v160Zm0 220h160v-160H400v160ZM180-400h160v-160H180v160Zm440 0h160v-160H620v160ZM180-180h160v-160H180v160Zm440 0h160v-160H620v160Z\"/>\n",
              "  </svg>\n",
              "    </button>\n",
              "\n",
              "  <style>\n",
              "    .colab-df-container {\n",
              "      display:flex;\n",
              "      gap: 12px;\n",
              "    }\n",
              "\n",
              "    .colab-df-convert {\n",
              "      background-color: #E8F0FE;\n",
              "      border: none;\n",
              "      border-radius: 50%;\n",
              "      cursor: pointer;\n",
              "      display: none;\n",
              "      fill: #1967D2;\n",
              "      height: 32px;\n",
              "      padding: 0 0 0 0;\n",
              "      width: 32px;\n",
              "    }\n",
              "\n",
              "    .colab-df-convert:hover {\n",
              "      background-color: #E2EBFA;\n",
              "      box-shadow: 0px 1px 2px rgba(60, 64, 67, 0.3), 0px 1px 3px 1px rgba(60, 64, 67, 0.15);\n",
              "      fill: #174EA6;\n",
              "    }\n",
              "\n",
              "    .colab-df-buttons div {\n",
              "      margin-bottom: 4px;\n",
              "    }\n",
              "\n",
              "    [theme=dark] .colab-df-convert {\n",
              "      background-color: #3B4455;\n",
              "      fill: #D2E3FC;\n",
              "    }\n",
              "\n",
              "    [theme=dark] .colab-df-convert:hover {\n",
              "      background-color: #434B5C;\n",
              "      box-shadow: 0px 1px 3px 1px rgba(0, 0, 0, 0.15);\n",
              "      filter: drop-shadow(0px 1px 2px rgba(0, 0, 0, 0.3));\n",
              "      fill: #FFFFFF;\n",
              "    }\n",
              "  </style>\n",
              "\n",
              "    <script>\n",
              "      const buttonEl =\n",
              "        document.querySelector('#df-85cae710-491b-4839-831f-9c4033c3bf31 button.colab-df-convert');\n",
              "      buttonEl.style.display =\n",
              "        google.colab.kernel.accessAllowed ? 'block' : 'none';\n",
              "\n",
              "      async function convertToInteractive(key) {\n",
              "        const element = document.querySelector('#df-85cae710-491b-4839-831f-9c4033c3bf31');\n",
              "        const dataTable =\n",
              "          await google.colab.kernel.invokeFunction('convertToInteractive',\n",
              "                                                    [key], {});\n",
              "        if (!dataTable) return;\n",
              "\n",
              "        const docLinkHtml = 'Like what you see? Visit the ' +\n",
              "          '<a target=\"_blank\" href=https://colab.research.google.com/notebooks/data_table.ipynb>data table notebook</a>'\n",
              "          + ' to learn more about interactive tables.';\n",
              "        element.innerHTML = '';\n",
              "        dataTable['output_type'] = 'display_data';\n",
              "        await google.colab.output.renderOutput(dataTable, element);\n",
              "        const docLink = document.createElement('div');\n",
              "        docLink.innerHTML = docLinkHtml;\n",
              "        element.appendChild(docLink);\n",
              "      }\n",
              "    </script>\n",
              "  </div>\n",
              "\n",
              "\n",
              "<div id=\"df-86b0cddb-691f-4f03-ad24-8fc12f15cd2d\">\n",
              "  <button class=\"colab-df-quickchart\" onclick=\"quickchart('df-86b0cddb-691f-4f03-ad24-8fc12f15cd2d')\"\n",
              "            title=\"Suggest charts\"\n",
              "            style=\"display:none;\">\n",
              "\n",
              "<svg xmlns=\"http://www.w3.org/2000/svg\" height=\"24px\"viewBox=\"0 0 24 24\"\n",
              "     width=\"24px\">\n",
              "    <g>\n",
              "        <path d=\"M19 3H5c-1.1 0-2 .9-2 2v14c0 1.1.9 2 2 2h14c1.1 0 2-.9 2-2V5c0-1.1-.9-2-2-2zM9 17H7v-7h2v7zm4 0h-2V7h2v10zm4 0h-2v-4h2v4z\"/>\n",
              "    </g>\n",
              "</svg>\n",
              "  </button>\n",
              "\n",
              "<style>\n",
              "  .colab-df-quickchart {\n",
              "      --bg-color: #E8F0FE;\n",
              "      --fill-color: #1967D2;\n",
              "      --hover-bg-color: #E2EBFA;\n",
              "      --hover-fill-color: #174EA6;\n",
              "      --disabled-fill-color: #AAA;\n",
              "      --disabled-bg-color: #DDD;\n",
              "  }\n",
              "\n",
              "  [theme=dark] .colab-df-quickchart {\n",
              "      --bg-color: #3B4455;\n",
              "      --fill-color: #D2E3FC;\n",
              "      --hover-bg-color: #434B5C;\n",
              "      --hover-fill-color: #FFFFFF;\n",
              "      --disabled-bg-color: #3B4455;\n",
              "      --disabled-fill-color: #666;\n",
              "  }\n",
              "\n",
              "  .colab-df-quickchart {\n",
              "    background-color: var(--bg-color);\n",
              "    border: none;\n",
              "    border-radius: 50%;\n",
              "    cursor: pointer;\n",
              "    display: none;\n",
              "    fill: var(--fill-color);\n",
              "    height: 32px;\n",
              "    padding: 0;\n",
              "    width: 32px;\n",
              "  }\n",
              "\n",
              "  .colab-df-quickchart:hover {\n",
              "    background-color: var(--hover-bg-color);\n",
              "    box-shadow: 0 1px 2px rgba(60, 64, 67, 0.3), 0 1px 3px 1px rgba(60, 64, 67, 0.15);\n",
              "    fill: var(--button-hover-fill-color);\n",
              "  }\n",
              "\n",
              "  .colab-df-quickchart-complete:disabled,\n",
              "  .colab-df-quickchart-complete:disabled:hover {\n",
              "    background-color: var(--disabled-bg-color);\n",
              "    fill: var(--disabled-fill-color);\n",
              "    box-shadow: none;\n",
              "  }\n",
              "\n",
              "  .colab-df-spinner {\n",
              "    border: 2px solid var(--fill-color);\n",
              "    border-color: transparent;\n",
              "    border-bottom-color: var(--fill-color);\n",
              "    animation:\n",
              "      spin 1s steps(1) infinite;\n",
              "  }\n",
              "\n",
              "  @keyframes spin {\n",
              "    0% {\n",
              "      border-color: transparent;\n",
              "      border-bottom-color: var(--fill-color);\n",
              "      border-left-color: var(--fill-color);\n",
              "    }\n",
              "    20% {\n",
              "      border-color: transparent;\n",
              "      border-left-color: var(--fill-color);\n",
              "      border-top-color: var(--fill-color);\n",
              "    }\n",
              "    30% {\n",
              "      border-color: transparent;\n",
              "      border-left-color: var(--fill-color);\n",
              "      border-top-color: var(--fill-color);\n",
              "      border-right-color: var(--fill-color);\n",
              "    }\n",
              "    40% {\n",
              "      border-color: transparent;\n",
              "      border-right-color: var(--fill-color);\n",
              "      border-top-color: var(--fill-color);\n",
              "    }\n",
              "    60% {\n",
              "      border-color: transparent;\n",
              "      border-right-color: var(--fill-color);\n",
              "    }\n",
              "    80% {\n",
              "      border-color: transparent;\n",
              "      border-right-color: var(--fill-color);\n",
              "      border-bottom-color: var(--fill-color);\n",
              "    }\n",
              "    90% {\n",
              "      border-color: transparent;\n",
              "      border-bottom-color: var(--fill-color);\n",
              "    }\n",
              "  }\n",
              "</style>\n",
              "\n",
              "  <script>\n",
              "    async function quickchart(key) {\n",
              "      const quickchartButtonEl =\n",
              "        document.querySelector('#' + key + ' button');\n",
              "      quickchartButtonEl.disabled = true;  // To prevent multiple clicks.\n",
              "      quickchartButtonEl.classList.add('colab-df-spinner');\n",
              "      try {\n",
              "        const charts = await google.colab.kernel.invokeFunction(\n",
              "            'suggestCharts', [key], {});\n",
              "      } catch (error) {\n",
              "        console.error('Error during call to suggestCharts:', error);\n",
              "      }\n",
              "      quickchartButtonEl.classList.remove('colab-df-spinner');\n",
              "      quickchartButtonEl.classList.add('colab-df-quickchart-complete');\n",
              "    }\n",
              "    (() => {\n",
              "      let quickchartButtonEl =\n",
              "        document.querySelector('#df-86b0cddb-691f-4f03-ad24-8fc12f15cd2d button');\n",
              "      quickchartButtonEl.style.display =\n",
              "        google.colab.kernel.accessAllowed ? 'block' : 'none';\n",
              "    })();\n",
              "  </script>\n",
              "</div>\n",
              "    </div>\n",
              "  </div>\n"
            ]
          },
          "metadata": {},
          "execution_count": 107
        }
      ]
    },
    {
      "cell_type": "code",
      "source": [
        "# penggabungan data :\n",
        "\n",
        "items_products = pd.merge(items,products,on='product_id',how='outer')\n",
        "items_products_sellers = pd.merge(items_products,sellers, on='seller_id',how='outer')\n",
        "items_products_sellers_orders = pd.merge(items_products_sellers,orders,on='order_id',how='outer')\n",
        "items_products_sellers_orders_cust = pd.merge(items_products_sellers_orders,cust,on='customer_id',how='outer')\n",
        "items_products_sellers_orders_cust_reviews = pd.merge(items_products_sellers_orders_cust,reviews,on='order_id',how='outer')\n",
        "items_products_sellers_orders_cust_reviews_payments = pd.merge(items_products_sellers_orders_cust_reviews,payments,on='order_id',how='outer')\n",
        "items_products_sellers_orders_cust_reviews_payments_category = items_products_sellers_orders_cust_reviews_payments.merge(category, on='product_category_name', how='left')\n",
        "\n",
        "items_products_sellers_orders_cust_reviews_payments_category['product_category_name'] = items_products_sellers_orders_cust_reviews_payments_category['product_category_name_english']\n",
        "items_products_sellers_orders_cust_reviews_payments_category.drop(['product_category_name'], axis=1, inplace=True)\n",
        "\n",
        "# main dataframe :\n",
        "df=items_products_sellers_orders_cust_reviews_payments_category"
      ],
      "metadata": {
        "id": "SOuhJJ_jjDuR"
      },
      "execution_count": 108,
      "outputs": []
    },
    {
      "cell_type": "markdown",
      "source": [
        "### Cleaning Data"
      ],
      "metadata": {
        "id": "Uz5dgcJm9HW5"
      }
    },
    {
      "cell_type": "code",
      "source": [
        "# memeriksa duplikasi data\n",
        "df.duplicated().sum()"
      ],
      "metadata": {
        "id": "CCszTdXD9Ivf",
        "colab": {
          "base_uri": "https://localhost:8080/"
        },
        "outputId": "aea634c8-e6be-41c8-efaf-df0db691c7d1"
      },
      "execution_count": 109,
      "outputs": [
        {
          "output_type": "execute_result",
          "data": {
            "text/plain": [
              "0"
            ]
          },
          "metadata": {},
          "execution_count": 109
        }
      ]
    },
    {
      "cell_type": "code",
      "source": [
        "# memeriksa data numerik\n",
        "df.describe()"
      ],
      "metadata": {
        "colab": {
          "base_uri": "https://localhost:8080/",
          "height": 320
        },
        "id": "7Dqa7Dmmm5YW",
        "outputId": "d4f690e9-350a-427e-e366-cffed863758f"
      },
      "execution_count": 110,
      "outputs": [
        {
          "output_type": "execute_result",
          "data": {
            "text/plain": [
              "       order_item_id          price  freight_value  product_name_lenght  \\\n",
              "count  118310.000000  118310.000000  118310.000000        116601.000000   \n",
              "mean        1.196543     120.646603      20.032387            48.767498   \n",
              "std         0.699489     184.109691      15.836850            10.033540   \n",
              "min         1.000000       0.850000       0.000000             5.000000   \n",
              "25%         1.000000      39.900000      13.080000            42.000000   \n",
              "50%         1.000000      74.900000      16.280000            52.000000   \n",
              "75%         1.000000     134.900000      21.180000            57.000000   \n",
              "max        21.000000    6735.000000     409.680000            76.000000   \n",
              "\n",
              "       product_description_lenght  product_photos_qty  product_weight_g  \\\n",
              "count               116601.000000       116601.000000     118290.000000   \n",
              "mean                   785.967822            2.205161       2112.250740   \n",
              "std                    652.584121            1.717452       3786.695111   \n",
              "min                      4.000000            1.000000          0.000000   \n",
              "25%                    346.000000            1.000000        300.000000   \n",
              "50%                    600.000000            1.000000        700.000000   \n",
              "75%                    983.000000            3.000000       1800.000000   \n",
              "max                   3992.000000           20.000000      40425.000000   \n",
              "\n",
              "       product_length_cm  product_height_cm  product_width_cm  \\\n",
              "count      118290.000000      118290.000000     118290.000000   \n",
              "mean           30.265145          16.619706         23.074799   \n",
              "std            16.189367          13.453584         11.749139   \n",
              "min             7.000000           2.000000          6.000000   \n",
              "25%            18.000000           8.000000         15.000000   \n",
              "50%            25.000000          13.000000         20.000000   \n",
              "75%            38.000000          20.000000         30.000000   \n",
              "max           105.000000         105.000000        118.000000   \n",
              "\n",
              "       seller_zip_code_prefix  customer_zip_code_prefix   review_score  \\\n",
              "count           118310.000000             119143.000000  118146.000000   \n",
              "mean             24442.410413              35033.451298       4.015582   \n",
              "std              27573.004511              29823.198969       1.400436   \n",
              "min               1001.000000               1003.000000       1.000000   \n",
              "25%               6429.000000              11250.000000       4.000000   \n",
              "50%              13660.000000              24240.000000       5.000000   \n",
              "75%              27972.000000              58475.000000       5.000000   \n",
              "max              99730.000000              99990.000000       5.000000   \n",
              "\n",
              "       payment_sequential  payment_installments  payment_value  \n",
              "count       119140.000000         119140.000000  119140.000000  \n",
              "mean             1.094737              2.941246     172.735135  \n",
              "std              0.730141              2.777848     267.776077  \n",
              "min              1.000000              0.000000       0.000000  \n",
              "25%              1.000000              1.000000      60.850000  \n",
              "50%              1.000000              2.000000     108.160000  \n",
              "75%              1.000000              4.000000     189.240000  \n",
              "max             29.000000             24.000000   13664.080000  "
            ],
            "text/html": [
              "\n",
              "  <div id=\"df-76fb0ca6-acc5-453f-b604-15fc1955268a\" class=\"colab-df-container\">\n",
              "    <div>\n",
              "<style scoped>\n",
              "    .dataframe tbody tr th:only-of-type {\n",
              "        vertical-align: middle;\n",
              "    }\n",
              "\n",
              "    .dataframe tbody tr th {\n",
              "        vertical-align: top;\n",
              "    }\n",
              "\n",
              "    .dataframe thead th {\n",
              "        text-align: right;\n",
              "    }\n",
              "</style>\n",
              "<table border=\"1\" class=\"dataframe\">\n",
              "  <thead>\n",
              "    <tr style=\"text-align: right;\">\n",
              "      <th></th>\n",
              "      <th>order_item_id</th>\n",
              "      <th>price</th>\n",
              "      <th>freight_value</th>\n",
              "      <th>product_name_lenght</th>\n",
              "      <th>product_description_lenght</th>\n",
              "      <th>product_photos_qty</th>\n",
              "      <th>product_weight_g</th>\n",
              "      <th>product_length_cm</th>\n",
              "      <th>product_height_cm</th>\n",
              "      <th>product_width_cm</th>\n",
              "      <th>seller_zip_code_prefix</th>\n",
              "      <th>customer_zip_code_prefix</th>\n",
              "      <th>review_score</th>\n",
              "      <th>payment_sequential</th>\n",
              "      <th>payment_installments</th>\n",
              "      <th>payment_value</th>\n",
              "    </tr>\n",
              "  </thead>\n",
              "  <tbody>\n",
              "    <tr>\n",
              "      <th>count</th>\n",
              "      <td>118310.000000</td>\n",
              "      <td>118310.000000</td>\n",
              "      <td>118310.000000</td>\n",
              "      <td>116601.000000</td>\n",
              "      <td>116601.000000</td>\n",
              "      <td>116601.000000</td>\n",
              "      <td>118290.000000</td>\n",
              "      <td>118290.000000</td>\n",
              "      <td>118290.000000</td>\n",
              "      <td>118290.000000</td>\n",
              "      <td>118310.000000</td>\n",
              "      <td>119143.000000</td>\n",
              "      <td>118146.000000</td>\n",
              "      <td>119140.000000</td>\n",
              "      <td>119140.000000</td>\n",
              "      <td>119140.000000</td>\n",
              "    </tr>\n",
              "    <tr>\n",
              "      <th>mean</th>\n",
              "      <td>1.196543</td>\n",
              "      <td>120.646603</td>\n",
              "      <td>20.032387</td>\n",
              "      <td>48.767498</td>\n",
              "      <td>785.967822</td>\n",
              "      <td>2.205161</td>\n",
              "      <td>2112.250740</td>\n",
              "      <td>30.265145</td>\n",
              "      <td>16.619706</td>\n",
              "      <td>23.074799</td>\n",
              "      <td>24442.410413</td>\n",
              "      <td>35033.451298</td>\n",
              "      <td>4.015582</td>\n",
              "      <td>1.094737</td>\n",
              "      <td>2.941246</td>\n",
              "      <td>172.735135</td>\n",
              "    </tr>\n",
              "    <tr>\n",
              "      <th>std</th>\n",
              "      <td>0.699489</td>\n",
              "      <td>184.109691</td>\n",
              "      <td>15.836850</td>\n",
              "      <td>10.033540</td>\n",
              "      <td>652.584121</td>\n",
              "      <td>1.717452</td>\n",
              "      <td>3786.695111</td>\n",
              "      <td>16.189367</td>\n",
              "      <td>13.453584</td>\n",
              "      <td>11.749139</td>\n",
              "      <td>27573.004511</td>\n",
              "      <td>29823.198969</td>\n",
              "      <td>1.400436</td>\n",
              "      <td>0.730141</td>\n",
              "      <td>2.777848</td>\n",
              "      <td>267.776077</td>\n",
              "    </tr>\n",
              "    <tr>\n",
              "      <th>min</th>\n",
              "      <td>1.000000</td>\n",
              "      <td>0.850000</td>\n",
              "      <td>0.000000</td>\n",
              "      <td>5.000000</td>\n",
              "      <td>4.000000</td>\n",
              "      <td>1.000000</td>\n",
              "      <td>0.000000</td>\n",
              "      <td>7.000000</td>\n",
              "      <td>2.000000</td>\n",
              "      <td>6.000000</td>\n",
              "      <td>1001.000000</td>\n",
              "      <td>1003.000000</td>\n",
              "      <td>1.000000</td>\n",
              "      <td>1.000000</td>\n",
              "      <td>0.000000</td>\n",
              "      <td>0.000000</td>\n",
              "    </tr>\n",
              "    <tr>\n",
              "      <th>25%</th>\n",
              "      <td>1.000000</td>\n",
              "      <td>39.900000</td>\n",
              "      <td>13.080000</td>\n",
              "      <td>42.000000</td>\n",
              "      <td>346.000000</td>\n",
              "      <td>1.000000</td>\n",
              "      <td>300.000000</td>\n",
              "      <td>18.000000</td>\n",
              "      <td>8.000000</td>\n",
              "      <td>15.000000</td>\n",
              "      <td>6429.000000</td>\n",
              "      <td>11250.000000</td>\n",
              "      <td>4.000000</td>\n",
              "      <td>1.000000</td>\n",
              "      <td>1.000000</td>\n",
              "      <td>60.850000</td>\n",
              "    </tr>\n",
              "    <tr>\n",
              "      <th>50%</th>\n",
              "      <td>1.000000</td>\n",
              "      <td>74.900000</td>\n",
              "      <td>16.280000</td>\n",
              "      <td>52.000000</td>\n",
              "      <td>600.000000</td>\n",
              "      <td>1.000000</td>\n",
              "      <td>700.000000</td>\n",
              "      <td>25.000000</td>\n",
              "      <td>13.000000</td>\n",
              "      <td>20.000000</td>\n",
              "      <td>13660.000000</td>\n",
              "      <td>24240.000000</td>\n",
              "      <td>5.000000</td>\n",
              "      <td>1.000000</td>\n",
              "      <td>2.000000</td>\n",
              "      <td>108.160000</td>\n",
              "    </tr>\n",
              "    <tr>\n",
              "      <th>75%</th>\n",
              "      <td>1.000000</td>\n",
              "      <td>134.900000</td>\n",
              "      <td>21.180000</td>\n",
              "      <td>57.000000</td>\n",
              "      <td>983.000000</td>\n",
              "      <td>3.000000</td>\n",
              "      <td>1800.000000</td>\n",
              "      <td>38.000000</td>\n",
              "      <td>20.000000</td>\n",
              "      <td>30.000000</td>\n",
              "      <td>27972.000000</td>\n",
              "      <td>58475.000000</td>\n",
              "      <td>5.000000</td>\n",
              "      <td>1.000000</td>\n",
              "      <td>4.000000</td>\n",
              "      <td>189.240000</td>\n",
              "    </tr>\n",
              "    <tr>\n",
              "      <th>max</th>\n",
              "      <td>21.000000</td>\n",
              "      <td>6735.000000</td>\n",
              "      <td>409.680000</td>\n",
              "      <td>76.000000</td>\n",
              "      <td>3992.000000</td>\n",
              "      <td>20.000000</td>\n",
              "      <td>40425.000000</td>\n",
              "      <td>105.000000</td>\n",
              "      <td>105.000000</td>\n",
              "      <td>118.000000</td>\n",
              "      <td>99730.000000</td>\n",
              "      <td>99990.000000</td>\n",
              "      <td>5.000000</td>\n",
              "      <td>29.000000</td>\n",
              "      <td>24.000000</td>\n",
              "      <td>13664.080000</td>\n",
              "    </tr>\n",
              "  </tbody>\n",
              "</table>\n",
              "</div>\n",
              "    <div class=\"colab-df-buttons\">\n",
              "\n",
              "  <div class=\"colab-df-container\">\n",
              "    <button class=\"colab-df-convert\" onclick=\"convertToInteractive('df-76fb0ca6-acc5-453f-b604-15fc1955268a')\"\n",
              "            title=\"Convert this dataframe to an interactive table.\"\n",
              "            style=\"display:none;\">\n",
              "\n",
              "  <svg xmlns=\"http://www.w3.org/2000/svg\" height=\"24px\" viewBox=\"0 -960 960 960\">\n",
              "    <path d=\"M120-120v-720h720v720H120Zm60-500h600v-160H180v160Zm220 220h160v-160H400v160Zm0 220h160v-160H400v160ZM180-400h160v-160H180v160Zm440 0h160v-160H620v160ZM180-180h160v-160H180v160Zm440 0h160v-160H620v160Z\"/>\n",
              "  </svg>\n",
              "    </button>\n",
              "\n",
              "  <style>\n",
              "    .colab-df-container {\n",
              "      display:flex;\n",
              "      gap: 12px;\n",
              "    }\n",
              "\n",
              "    .colab-df-convert {\n",
              "      background-color: #E8F0FE;\n",
              "      border: none;\n",
              "      border-radius: 50%;\n",
              "      cursor: pointer;\n",
              "      display: none;\n",
              "      fill: #1967D2;\n",
              "      height: 32px;\n",
              "      padding: 0 0 0 0;\n",
              "      width: 32px;\n",
              "    }\n",
              "\n",
              "    .colab-df-convert:hover {\n",
              "      background-color: #E2EBFA;\n",
              "      box-shadow: 0px 1px 2px rgba(60, 64, 67, 0.3), 0px 1px 3px 1px rgba(60, 64, 67, 0.15);\n",
              "      fill: #174EA6;\n",
              "    }\n",
              "\n",
              "    .colab-df-buttons div {\n",
              "      margin-bottom: 4px;\n",
              "    }\n",
              "\n",
              "    [theme=dark] .colab-df-convert {\n",
              "      background-color: #3B4455;\n",
              "      fill: #D2E3FC;\n",
              "    }\n",
              "\n",
              "    [theme=dark] .colab-df-convert:hover {\n",
              "      background-color: #434B5C;\n",
              "      box-shadow: 0px 1px 3px 1px rgba(0, 0, 0, 0.15);\n",
              "      filter: drop-shadow(0px 1px 2px rgba(0, 0, 0, 0.3));\n",
              "      fill: #FFFFFF;\n",
              "    }\n",
              "  </style>\n",
              "\n",
              "    <script>\n",
              "      const buttonEl =\n",
              "        document.querySelector('#df-76fb0ca6-acc5-453f-b604-15fc1955268a button.colab-df-convert');\n",
              "      buttonEl.style.display =\n",
              "        google.colab.kernel.accessAllowed ? 'block' : 'none';\n",
              "\n",
              "      async function convertToInteractive(key) {\n",
              "        const element = document.querySelector('#df-76fb0ca6-acc5-453f-b604-15fc1955268a');\n",
              "        const dataTable =\n",
              "          await google.colab.kernel.invokeFunction('convertToInteractive',\n",
              "                                                    [key], {});\n",
              "        if (!dataTable) return;\n",
              "\n",
              "        const docLinkHtml = 'Like what you see? Visit the ' +\n",
              "          '<a target=\"_blank\" href=https://colab.research.google.com/notebooks/data_table.ipynb>data table notebook</a>'\n",
              "          + ' to learn more about interactive tables.';\n",
              "        element.innerHTML = '';\n",
              "        dataTable['output_type'] = 'display_data';\n",
              "        await google.colab.output.renderOutput(dataTable, element);\n",
              "        const docLink = document.createElement('div');\n",
              "        docLink.innerHTML = docLinkHtml;\n",
              "        element.appendChild(docLink);\n",
              "      }\n",
              "    </script>\n",
              "  </div>\n",
              "\n",
              "\n",
              "<div id=\"df-14011ba9-b4bf-44eb-92b5-5d18bf6aa254\">\n",
              "  <button class=\"colab-df-quickchart\" onclick=\"quickchart('df-14011ba9-b4bf-44eb-92b5-5d18bf6aa254')\"\n",
              "            title=\"Suggest charts\"\n",
              "            style=\"display:none;\">\n",
              "\n",
              "<svg xmlns=\"http://www.w3.org/2000/svg\" height=\"24px\"viewBox=\"0 0 24 24\"\n",
              "     width=\"24px\">\n",
              "    <g>\n",
              "        <path d=\"M19 3H5c-1.1 0-2 .9-2 2v14c0 1.1.9 2 2 2h14c1.1 0 2-.9 2-2V5c0-1.1-.9-2-2-2zM9 17H7v-7h2v7zm4 0h-2V7h2v10zm4 0h-2v-4h2v4z\"/>\n",
              "    </g>\n",
              "</svg>\n",
              "  </button>\n",
              "\n",
              "<style>\n",
              "  .colab-df-quickchart {\n",
              "      --bg-color: #E8F0FE;\n",
              "      --fill-color: #1967D2;\n",
              "      --hover-bg-color: #E2EBFA;\n",
              "      --hover-fill-color: #174EA6;\n",
              "      --disabled-fill-color: #AAA;\n",
              "      --disabled-bg-color: #DDD;\n",
              "  }\n",
              "\n",
              "  [theme=dark] .colab-df-quickchart {\n",
              "      --bg-color: #3B4455;\n",
              "      --fill-color: #D2E3FC;\n",
              "      --hover-bg-color: #434B5C;\n",
              "      --hover-fill-color: #FFFFFF;\n",
              "      --disabled-bg-color: #3B4455;\n",
              "      --disabled-fill-color: #666;\n",
              "  }\n",
              "\n",
              "  .colab-df-quickchart {\n",
              "    background-color: var(--bg-color);\n",
              "    border: none;\n",
              "    border-radius: 50%;\n",
              "    cursor: pointer;\n",
              "    display: none;\n",
              "    fill: var(--fill-color);\n",
              "    height: 32px;\n",
              "    padding: 0;\n",
              "    width: 32px;\n",
              "  }\n",
              "\n",
              "  .colab-df-quickchart:hover {\n",
              "    background-color: var(--hover-bg-color);\n",
              "    box-shadow: 0 1px 2px rgba(60, 64, 67, 0.3), 0 1px 3px 1px rgba(60, 64, 67, 0.15);\n",
              "    fill: var(--button-hover-fill-color);\n",
              "  }\n",
              "\n",
              "  .colab-df-quickchart-complete:disabled,\n",
              "  .colab-df-quickchart-complete:disabled:hover {\n",
              "    background-color: var(--disabled-bg-color);\n",
              "    fill: var(--disabled-fill-color);\n",
              "    box-shadow: none;\n",
              "  }\n",
              "\n",
              "  .colab-df-spinner {\n",
              "    border: 2px solid var(--fill-color);\n",
              "    border-color: transparent;\n",
              "    border-bottom-color: var(--fill-color);\n",
              "    animation:\n",
              "      spin 1s steps(1) infinite;\n",
              "  }\n",
              "\n",
              "  @keyframes spin {\n",
              "    0% {\n",
              "      border-color: transparent;\n",
              "      border-bottom-color: var(--fill-color);\n",
              "      border-left-color: var(--fill-color);\n",
              "    }\n",
              "    20% {\n",
              "      border-color: transparent;\n",
              "      border-left-color: var(--fill-color);\n",
              "      border-top-color: var(--fill-color);\n",
              "    }\n",
              "    30% {\n",
              "      border-color: transparent;\n",
              "      border-left-color: var(--fill-color);\n",
              "      border-top-color: var(--fill-color);\n",
              "      border-right-color: var(--fill-color);\n",
              "    }\n",
              "    40% {\n",
              "      border-color: transparent;\n",
              "      border-right-color: var(--fill-color);\n",
              "      border-top-color: var(--fill-color);\n",
              "    }\n",
              "    60% {\n",
              "      border-color: transparent;\n",
              "      border-right-color: var(--fill-color);\n",
              "    }\n",
              "    80% {\n",
              "      border-color: transparent;\n",
              "      border-right-color: var(--fill-color);\n",
              "      border-bottom-color: var(--fill-color);\n",
              "    }\n",
              "    90% {\n",
              "      border-color: transparent;\n",
              "      border-bottom-color: var(--fill-color);\n",
              "    }\n",
              "  }\n",
              "</style>\n",
              "\n",
              "  <script>\n",
              "    async function quickchart(key) {\n",
              "      const quickchartButtonEl =\n",
              "        document.querySelector('#' + key + ' button');\n",
              "      quickchartButtonEl.disabled = true;  // To prevent multiple clicks.\n",
              "      quickchartButtonEl.classList.add('colab-df-spinner');\n",
              "      try {\n",
              "        const charts = await google.colab.kernel.invokeFunction(\n",
              "            'suggestCharts', [key], {});\n",
              "      } catch (error) {\n",
              "        console.error('Error during call to suggestCharts:', error);\n",
              "      }\n",
              "      quickchartButtonEl.classList.remove('colab-df-spinner');\n",
              "      quickchartButtonEl.classList.add('colab-df-quickchart-complete');\n",
              "    }\n",
              "    (() => {\n",
              "      let quickchartButtonEl =\n",
              "        document.querySelector('#df-14011ba9-b4bf-44eb-92b5-5d18bf6aa254 button');\n",
              "      quickchartButtonEl.style.display =\n",
              "        google.colab.kernel.accessAllowed ? 'block' : 'none';\n",
              "    })();\n",
              "  </script>\n",
              "</div>\n",
              "    </div>\n",
              "  </div>\n"
            ]
          },
          "metadata": {},
          "execution_count": 110
        }
      ]
    },
    {
      "cell_type": "code",
      "source": [
        "# memeriksa isnull\n",
        "df.isnull().sum()"
      ],
      "metadata": {
        "colab": {
          "base_uri": "https://localhost:8080/"
        },
        "id": "kV8G7qXFmvXg",
        "outputId": "84dc8ff0-62ae-41af-be15-92ecb8270764"
      },
      "execution_count": 111,
      "outputs": [
        {
          "output_type": "execute_result",
          "data": {
            "text/plain": [
              "order_id                              0\n",
              "order_item_id                       833\n",
              "product_id                          833\n",
              "seller_id                           833\n",
              "shipping_limit_date                 833\n",
              "price                               833\n",
              "freight_value                       833\n",
              "product_name_lenght                2542\n",
              "product_description_lenght         2542\n",
              "product_photos_qty                 2542\n",
              "product_weight_g                    853\n",
              "product_length_cm                   853\n",
              "product_height_cm                   853\n",
              "product_width_cm                    853\n",
              "seller_zip_code_prefix              833\n",
              "seller_city                         833\n",
              "seller_state                        833\n",
              "customer_id                           0\n",
              "order_status                          0\n",
              "order_purchase_timestamp              0\n",
              "order_approved_at                   177\n",
              "order_delivered_carrier_date       2086\n",
              "order_delivered_customer_date      3421\n",
              "order_estimated_delivery_date         0\n",
              "customer_unique_id                    0\n",
              "customer_zip_code_prefix              0\n",
              "customer_city                         0\n",
              "customer_state                        0\n",
              "review_id                           997\n",
              "review_score                        997\n",
              "review_comment_title             105154\n",
              "review_comment_message            68898\n",
              "review_creation_date                997\n",
              "review_answer_timestamp             997\n",
              "payment_sequential                    3\n",
              "payment_type                          3\n",
              "payment_installments                  3\n",
              "payment_value                         3\n",
              "product_category_name_english      2567\n",
              "dtype: int64"
            ]
          },
          "metadata": {},
          "execution_count": 111
        }
      ]
    },
    {
      "cell_type": "code",
      "source": [
        "df['product_name_lenght'].hist()"
      ],
      "metadata": {
        "colab": {
          "base_uri": "https://localhost:8080/",
          "height": 447
        },
        "id": "4Fd4pSfcncGT",
        "outputId": "bc1fe7f2-cf21-4678-b479-40744efc6329"
      },
      "execution_count": 35,
      "outputs": [
        {
          "output_type": "execute_result",
          "data": {
            "text/plain": [
              "<Axes: >"
            ]
          },
          "metadata": {},
          "execution_count": 35
        },
        {
          "output_type": "display_data",
          "data": {
            "text/plain": [
              "<Figure size 640x480 with 1 Axes>"
            ],
            "image/png": "[encoded data removed]"
          },
          "metadata": {}
        }
      ]
    },
    {
      "cell_type": "code",
      "source": [
        "print('nilai modus = ', df['product_name_lenght'].mode()[0])\n",
        "print('nilai median = ', df['product_name_lenght'].median())"
      ],
      "metadata": {
        "colab": {
          "base_uri": "https://localhost:8080/"
        },
        "id": "nrNLzDBZnkT-",
        "outputId": "6c995367-de32-49b4-ad17-f3891d7c55ba"
      },
      "execution_count": 36,
      "outputs": [
        {
          "output_type": "stream",
          "name": "stdout",
          "text": [
            "nilai modus =  59.0\n",
            "nilai median =  52.0\n"
          ]
        }
      ]
    },
    {
      "cell_type": "code",
      "source": [
        "# Mengisi missing values di 'product_name_lenght' dengan nilai modus :\n",
        "\n",
        "df['product_name_lenght'].fillna(df['product_name_lenght'].mode()[0], inplace=True)"
      ],
      "metadata": {
        "id": "TMww5PMDnrtP"
      },
      "execution_count": 112,
      "outputs": []
    },
    {
      "cell_type": "code",
      "source": [
        "df['product_description_lenght'].hist()"
      ],
      "metadata": {
        "colab": {
          "base_uri": "https://localhost:8080/",
          "height": 448
        },
        "id": "HbI2RqBNn-Sr",
        "outputId": "ca2e1c6f-4ade-4de9-9fa1-21450467a7e1"
      },
      "execution_count": 38,
      "outputs": [
        {
          "output_type": "execute_result",
          "data": {
            "text/plain": [
              "<Axes: >"
            ]
          },
          "metadata": {},
          "execution_count": 38
        },
        {
          "output_type": "display_data",
          "data": {
            "text/plain": [
              "<Figure size 640x480 with 1 Axes>"
            ],
            "image/png": "[encoded data removed]"
          },
          "metadata": {}
        }
      ]
    },
    {
      "cell_type": "code",
      "source": [
        "print('nilai modus = ', df['product_description_lenght'].mode()[0])\n",
        "print('nilai median = ', df['product_description_lenght'].median())"
      ],
      "metadata": {
        "colab": {
          "base_uri": "https://localhost:8080/"
        },
        "id": "zHSNh-PaoHBp",
        "outputId": "073814a7-14e7-407f-f990-37f3c082ef39"
      },
      "execution_count": 39,
      "outputs": [
        {
          "output_type": "stream",
          "name": "stdout",
          "text": [
            "nilai modus =  341.0\n",
            "nilai median =  600.0\n"
          ]
        }
      ]
    },
    {
      "cell_type": "code",
      "source": [
        "# Mengisi nilai values di 'product_description_length' dengan nilai median :\n",
        "\n",
        "df['product_description_lenght'].fillna(df['product_description_lenght'].median(), inplace=True)"
      ],
      "metadata": {
        "id": "NYhC7-LeoMZU"
      },
      "execution_count": 113,
      "outputs": []
    },
    {
      "cell_type": "code",
      "source": [
        "df['product_photos_qty'].hist()"
      ],
      "metadata": {
        "colab": {
          "base_uri": "https://localhost:8080/",
          "height": 447
        },
        "id": "6RvJgykooe08",
        "outputId": "c2c70d0f-0f01-4aa7-c8c7-37f2db3e9327"
      },
      "execution_count": 41,
      "outputs": [
        {
          "output_type": "execute_result",
          "data": {
            "text/plain": [
              "<Axes: >"
            ]
          },
          "metadata": {},
          "execution_count": 41
        },
        {
          "output_type": "display_data",
          "data": {
            "text/plain": [
              "<Figure size 640x480 with 1 Axes>"
            ],
            "image/png": "[encoded data removed]"
          },
          "metadata": {}
        }
      ]
    },
    {
      "cell_type": "code",
      "source": [
        "print('nilai modus = ', df['product_photos_qty'].mode()[0])\n",
        "print('nilai median = ', df['product_photos_qty'].median())"
      ],
      "metadata": {
        "colab": {
          "base_uri": "https://localhost:8080/"
        },
        "id": "gqORhMRTohPS",
        "outputId": "ed457f65-ad65-4b0e-ea80-96c95b380419"
      },
      "execution_count": 42,
      "outputs": [
        {
          "output_type": "stream",
          "name": "stdout",
          "text": [
            "nilai modus =  1.0\n",
            "nilai median =  1.0\n"
          ]
        }
      ]
    },
    {
      "cell_type": "code",
      "source": [
        "# Mengisi nilai values di 'product_photos_qty' dengan nilai modus\n",
        "\n",
        "df['product_photos_qty'].fillna(df['product_photos_qty'].mode()[0], inplace=True)"
      ],
      "metadata": {
        "id": "B-69h96qouLf"
      },
      "execution_count": 114,
      "outputs": []
    },
    {
      "cell_type": "code",
      "source": [
        "df['product_weight_g'].hist(bins = 15)"
      ],
      "metadata": {
        "colab": {
          "base_uri": "https://localhost:8080/",
          "height": 447
        },
        "id": "Rl_ISCpwo3D3",
        "outputId": "1a24e35a-9769-41d0-b446-c5d764536608"
      },
      "execution_count": 44,
      "outputs": [
        {
          "output_type": "execute_result",
          "data": {
            "text/plain": [
              "<Axes: >"
            ]
          },
          "metadata": {},
          "execution_count": 44
        },
        {
          "output_type": "display_data",
          "data": {
            "text/plain": [
              "<Figure size 640x480 with 1 Axes>"
            ],
            "image/png": "[encoded data removed]"
          },
          "metadata": {}
        }
      ]
    },
    {
      "cell_type": "code",
      "source": [
        "print('nilai modus = ', df['product_weight_g'].mode()[0])\n",
        "print('nilai median = ', df['product_weight_g'].median())"
      ],
      "metadata": {
        "colab": {
          "base_uri": "https://localhost:8080/"
        },
        "id": "kHoYRC-so8Iv",
        "outputId": "e8db0c60-aae5-40da-d6ea-fa3ed24a3d69"
      },
      "execution_count": 45,
      "outputs": [
        {
          "output_type": "stream",
          "name": "stdout",
          "text": [
            "nilai modus =  200.0\n",
            "nilai median =  700.0\n"
          ]
        }
      ]
    },
    {
      "cell_type": "code",
      "source": [
        "# Mengisi nilai values di 'product_weight_g' dengan nilai modus\n",
        "\n",
        "df['product_weight_g'].fillna(df['product_weight_g'].mode()[0], inplace=True)"
      ],
      "metadata": {
        "id": "mzN84G3HpDhj"
      },
      "execution_count": 115,
      "outputs": []
    },
    {
      "cell_type": "code",
      "source": [
        "df['product_length_cm'].hist()"
      ],
      "metadata": {
        "colab": {
          "base_uri": "https://localhost:8080/",
          "height": 447
        },
        "id": "Yyffg-i9pPfI",
        "outputId": "20835cf1-70dc-402a-ad4c-c4d4a1ded758"
      },
      "execution_count": 47,
      "outputs": [
        {
          "output_type": "execute_result",
          "data": {
            "text/plain": [
              "<Axes: >"
            ]
          },
          "metadata": {},
          "execution_count": 47
        },
        {
          "output_type": "display_data",
          "data": {
            "text/plain": [
              "<Figure size 640x480 with 1 Axes>"
            ],
            "image/png": "[encoded data removed]"
          },
          "metadata": {}
        }
      ]
    },
    {
      "cell_type": "code",
      "source": [
        "print('nilai modus = ', df['product_length_cm'].mode()[0])\n",
        "print('nilai median = ', df['product_length_cm'].median())"
      ],
      "metadata": {
        "colab": {
          "base_uri": "https://localhost:8080/"
        },
        "id": "m5zHHIgypTco",
        "outputId": "908a90f0-1641-426c-8643-a26f8377a5e8"
      },
      "execution_count": 48,
      "outputs": [
        {
          "output_type": "stream",
          "name": "stdout",
          "text": [
            "nilai modus =  16.0\n",
            "nilai median =  25.0\n"
          ]
        }
      ]
    },
    {
      "cell_type": "code",
      "source": [
        "# Mengisi nilai values di 'product_length_cm' dengan nilai modus\n",
        "\n",
        "df['product_length_cm'].fillna(df['product_length_cm'].mode()[0], inplace=True)"
      ],
      "metadata": {
        "id": "W_YLhN7Pq5WZ"
      },
      "execution_count": 116,
      "outputs": []
    },
    {
      "cell_type": "code",
      "source": [
        "df['product_height_cm'].hist()"
      ],
      "metadata": {
        "colab": {
          "base_uri": "https://localhost:8080/",
          "height": 451
        },
        "id": "6zz40k0grHH-",
        "outputId": "952c66fa-a3f1-41ae-b48d-8adc5bf8a3e4"
      },
      "execution_count": 50,
      "outputs": [
        {
          "output_type": "execute_result",
          "data": {
            "text/plain": [
              "<Axes: >"
            ]
          },
          "metadata": {},
          "execution_count": 50
        },
        {
          "output_type": "display_data",
          "data": {
            "text/plain": [
              "<Figure size 640x480 with 1 Axes>"
            ],
            "image/png": "[encoded data removed]"
          },
          "metadata": {}
        }
      ]
    },
    {
      "cell_type": "code",
      "source": [
        "print('nilai modus = ', df['product_height_cm'].mode()[0])\n",
        "print('nilai median = ', df['product_height_cm'].median())"
      ],
      "metadata": {
        "colab": {
          "base_uri": "https://localhost:8080/"
        },
        "id": "7qc39RswtRfC",
        "outputId": "229f2097-8d02-49e5-8beb-2fab5282774b"
      },
      "execution_count": 51,
      "outputs": [
        {
          "output_type": "stream",
          "name": "stdout",
          "text": [
            "nilai modus =  10.0\n",
            "nilai median =  13.0\n"
          ]
        }
      ]
    },
    {
      "cell_type": "code",
      "source": [
        "# Mengisi nilai values di 'product_height_cm' dengan nilai modus\n",
        "\n",
        "df['product_height_cm'].fillna(df['product_height_cm'].mode()[0], inplace=True)"
      ],
      "metadata": {
        "id": "mzgq3YILtY7C"
      },
      "execution_count": 117,
      "outputs": []
    },
    {
      "cell_type": "code",
      "source": [
        "df['product_width_cm'].hist()"
      ],
      "metadata": {
        "colab": {
          "base_uri": "https://localhost:8080/",
          "height": 447
        },
        "id": "JwYonK9etjaV",
        "outputId": "e9bcaa9b-0273-44fb-988b-20e277500e0a"
      },
      "execution_count": 53,
      "outputs": [
        {
          "output_type": "execute_result",
          "data": {
            "text/plain": [
              "<Axes: >"
            ]
          },
          "metadata": {},
          "execution_count": 53
        },
        {
          "output_type": "display_data",
          "data": {
            "text/plain": [
              "<Figure size 640x480 with 1 Axes>"
            ],
            "image/png": "[encoded data removed]"
          },
          "metadata": {}
        }
      ]
    },
    {
      "cell_type": "code",
      "source": [
        "print('nilai modus = ', df['product_width_cm'].mode()[0])\n",
        "print('nilai median = ', df['product_width_cm'].median())"
      ],
      "metadata": {
        "colab": {
          "base_uri": "https://localhost:8080/"
        },
        "id": "OSV2fuajtrbr",
        "outputId": "8912f11c-65d9-4a3e-de28-5379b18a2da1"
      },
      "execution_count": 54,
      "outputs": [
        {
          "output_type": "stream",
          "name": "stdout",
          "text": [
            "nilai modus =  20.0\n",
            "nilai median =  20.0\n"
          ]
        }
      ]
    },
    {
      "cell_type": "code",
      "source": [
        "# Mengisi nilai values di 'product_width_cm' dengan nilai modus\n",
        "\n",
        "df['product_width_cm'].fillna(df['product_width_cm'].mode()[0], inplace=True)"
      ],
      "metadata": {
        "id": "couvPjfEtxOH"
      },
      "execution_count": 118,
      "outputs": []
    },
    {
      "cell_type": "code",
      "source": [
        "# Mengisi nilai value di 'product_category_name_english' dengan nilai yang ada\n",
        "\n",
        "df['product_category_name_english'].fillna(df['product_category_name_english'].mode()[0], inplace=True)"
      ],
      "metadata": {
        "id": "_Qc5oGOft54w"
      },
      "execution_count": 119,
      "outputs": []
    },
    {
      "cell_type": "code",
      "source": [
        "# Mengisi nilai values di 'review_comment_message' with 'no comment'\n",
        "df['review_comment_message'].fillna(value='no comment', inplace=True)\n",
        "\n",
        "# Mengisi nilai values di 'review_comment_title' with 'no comment'\n",
        "df['review_comment_title'].fillna(value='no comment', inplace=True)"
      ],
      "metadata": {
        "id": "ZOfhG32KuB2-"
      },
      "execution_count": 120,
      "outputs": []
    },
    {
      "cell_type": "code",
      "source": [
        "# Convert kolom ke tipe datetime\n",
        "columns_to_convert = ['order_purchase_timestamp', 'order_approved_at', 'order_delivered_carrier_date', 'order_delivered_customer_date', 'order_estimated_delivery_date', 'shipping_limit_date']\n",
        "\n",
        "df[columns_to_convert] = df[columns_to_convert].apply(pd.to_datetime)"
      ],
      "metadata": {
        "id": "HN_9wrebuFoD"
      },
      "execution_count": 121,
      "outputs": []
    },
    {
      "cell_type": "code",
      "source": [
        "# Memeriksa data isnull :\n",
        "\n",
        "df.isnull().sum()"
      ],
      "metadata": {
        "colab": {
          "base_uri": "https://localhost:8080/"
        },
        "id": "gaMmnOdLvexx",
        "outputId": "c5445b3b-1e2e-4c75-8623-462179ede5e4"
      },
      "execution_count": 122,
      "outputs": [
        {
          "output_type": "execute_result",
          "data": {
            "text/plain": [
              "order_id                            0\n",
              "order_item_id                     833\n",
              "product_id                        833\n",
              "seller_id                         833\n",
              "shipping_limit_date               833\n",
              "price                             833\n",
              "freight_value                     833\n",
              "product_name_lenght                 0\n",
              "product_description_lenght          0\n",
              "product_photos_qty                  0\n",
              "product_weight_g                    0\n",
              "product_length_cm                   0\n",
              "product_height_cm                   0\n",
              "product_width_cm                    0\n",
              "seller_zip_code_prefix            833\n",
              "seller_city                       833\n",
              "seller_state                      833\n",
              "customer_id                         0\n",
              "order_status                        0\n",
              "order_purchase_timestamp            0\n",
              "order_approved_at                 177\n",
              "order_delivered_carrier_date     2086\n",
              "order_delivered_customer_date    3421\n",
              "order_estimated_delivery_date       0\n",
              "customer_unique_id                  0\n",
              "customer_zip_code_prefix            0\n",
              "customer_city                       0\n",
              "customer_state                      0\n",
              "review_id                         997\n",
              "review_score                      997\n",
              "review_comment_title                0\n",
              "review_comment_message              0\n",
              "review_creation_date              997\n",
              "review_answer_timestamp           997\n",
              "payment_sequential                  3\n",
              "payment_type                        3\n",
              "payment_installments                3\n",
              "payment_value                       3\n",
              "product_category_name_english       0\n",
              "dtype: int64"
            ]
          },
          "metadata": {},
          "execution_count": 122
        }
      ]
    },
    {
      "cell_type": "code",
      "source": [
        "# menghapus semua nilai tanggal null\n",
        "\n",
        "df.dropna(inplace = True)"
      ],
      "metadata": {
        "id": "CQHJrQ3fvqwB"
      },
      "execution_count": 123,
      "outputs": []
    },
    {
      "cell_type": "code",
      "source": [
        "df.isnull().sum()"
      ],
      "metadata": {
        "colab": {
          "base_uri": "https://localhost:8080/"
        },
        "id": "h-83FtpIv3_j",
        "outputId": "c14db44b-adcd-4afd-b43c-82fd29aaaea8"
      },
      "execution_count": 124,
      "outputs": [
        {
          "output_type": "execute_result",
          "data": {
            "text/plain": [
              "order_id                         0\n",
              "order_item_id                    0\n",
              "product_id                       0\n",
              "seller_id                        0\n",
              "shipping_limit_date              0\n",
              "price                            0\n",
              "freight_value                    0\n",
              "product_name_lenght              0\n",
              "product_description_lenght       0\n",
              "product_photos_qty               0\n",
              "product_weight_g                 0\n",
              "product_length_cm                0\n",
              "product_height_cm                0\n",
              "product_width_cm                 0\n",
              "seller_zip_code_prefix           0\n",
              "seller_city                      0\n",
              "seller_state                     0\n",
              "customer_id                      0\n",
              "order_status                     0\n",
              "order_purchase_timestamp         0\n",
              "order_approved_at                0\n",
              "order_delivered_carrier_date     0\n",
              "order_delivered_customer_date    0\n",
              "order_estimated_delivery_date    0\n",
              "customer_unique_id               0\n",
              "customer_zip_code_prefix         0\n",
              "customer_city                    0\n",
              "customer_state                   0\n",
              "review_id                        0\n",
              "review_score                     0\n",
              "review_comment_title             0\n",
              "review_comment_message           0\n",
              "review_creation_date             0\n",
              "review_answer_timestamp          0\n",
              "payment_sequential               0\n",
              "payment_type                     0\n",
              "payment_installments             0\n",
              "payment_value                    0\n",
              "product_category_name_english    0\n",
              "dtype: int64"
            ]
          },
          "metadata": {},
          "execution_count": 124
        }
      ]
    },
    {
      "cell_type": "code",
      "source": [
        "df.head()"
      ],
      "metadata": {
        "colab": {
          "base_uri": "https://localhost:8080/",
          "height": 290
        },
        "id": "gmVCHHwKxRMT",
        "outputId": "cdc219e7-1af8-42d8-c0ba-f13629f561e1"
      },
      "execution_count": 125,
      "outputs": [
        {
          "output_type": "execute_result",
          "data": {
            "text/plain": [
              "                           order_id  order_item_id  \\\n",
              "0  00010242fe8c5a6d1ba2dd792cb16214            1.0   \n",
              "1  130898c0987d1801452a8ed92a670612            1.0   \n",
              "2  532ed5e14e24ae1f0d735b91524b98b9            1.0   \n",
              "3  6f8c31653edb8c83e1a739408b5ff750            1.0   \n",
              "4  7d19f4ef4d04461989632411b7e588b9            1.0   \n",
              "\n",
              "                         product_id                         seller_id  \\\n",
              "0  4244733e06e7ecb4970a6e2683c13e61  48436dade18ac8b2bce089ec2a041202   \n",
              "1  4244733e06e7ecb4970a6e2683c13e61  48436dade18ac8b2bce089ec2a041202   \n",
              "2  4244733e06e7ecb4970a6e2683c13e61  48436dade18ac8b2bce089ec2a041202   \n",
              "3  4244733e06e7ecb4970a6e2683c13e61  48436dade18ac8b2bce089ec2a041202   \n",
              "4  4244733e06e7ecb4970a6e2683c13e61  48436dade18ac8b2bce089ec2a041202   \n",
              "\n",
              "  shipping_limit_date  price  freight_value  product_name_lenght  \\\n",
              "0 2017-09-19 09:45:35   58.9          13.29                 58.0   \n",
              "1 2017-07-05 02:44:11   55.9          17.96                 58.0   \n",
              "2 2018-05-23 10:56:25   64.9          18.33                 58.0   \n",
              "3 2017-08-07 18:55:08   58.9          16.17                 58.0   \n",
              "4 2017-08-16 22:05:11   58.9          13.29                 58.0   \n",
              "\n",
              "   product_description_lenght  product_photos_qty  ...  review_score  \\\n",
              "0                       598.0                 4.0  ...           5.0   \n",
              "1                       598.0                 4.0  ...           5.0   \n",
              "2                       598.0                 4.0  ...           4.0   \n",
              "3                       598.0                 4.0  ...           5.0   \n",
              "4                       598.0                 4.0  ...           5.0   \n",
              "\n",
              "   review_comment_title                             review_comment_message  \\\n",
              "0            no comment     Perfeito, produto entregue antes do combinado.   \n",
              "1            no comment  lannister como sempre, entregou certinho e den...   \n",
              "2       super recomendo                              carrinho muito bonito   \n",
              "3            no comment                                         no comment   \n",
              "4            no comment                                         no comment   \n",
              "\n",
              "   review_creation_date  review_answer_timestamp payment_sequential  \\\n",
              "0   2017-09-21 00:00:00      2017-09-22 10:57:03                1.0   \n",
              "1   2017-07-14 00:00:00      2017-07-17 12:50:07                1.0   \n",
              "2   2018-06-05 00:00:00      2018-06-06 21:41:12                1.0   \n",
              "3   2017-08-10 00:00:00      2017-08-13 03:35:17                1.0   \n",
              "4   2017-08-25 00:00:00      2017-08-28 00:51:18                1.0   \n",
              "\n",
              "  payment_type payment_installments payment_value  \\\n",
              "0  credit_card                  2.0         72.19   \n",
              "1       boleto                  1.0         73.86   \n",
              "2  credit_card                  2.0         83.23   \n",
              "3  credit_card                  3.0         75.07   \n",
              "4  credit_card                  4.0         72.19   \n",
              "\n",
              "  product_category_name_english  \n",
              "0                    cool_stuff  \n",
              "1                    cool_stuff  \n",
              "2                    cool_stuff  \n",
              "3                    cool_stuff  \n",
              "4                    cool_stuff  \n",
              "\n",
              "[5 rows x 39 columns]"
            ],
            "text/html": [
              "\n",
              "  <div id=\"df-ab913464-6425-4560-866a-75a49b7a0c06\" class=\"colab-df-container\">\n",
              "    <div>\n",
              "<style scoped>\n",
              "    .dataframe tbody tr th:only-of-type {\n",
              "        vertical-align: middle;\n",
              "    }\n",
              "\n",
              "    .dataframe tbody tr th {\n",
              "        vertical-align: top;\n",
              "    }\n",
              "\n",
              "    .dataframe thead th {\n",
              "        text-align: right;\n",
              "    }\n",
              "</style>\n",
              "<table border=\"1\" class=\"dataframe\">\n",
              "  <thead>\n",
              "    <tr style=\"text-align: right;\">\n",
              "      <th></th>\n",
              "      <th>order_id</th>\n",
              "      <th>order_item_id</th>\n",
              "      <th>product_id</th>\n",
              "      <th>seller_id</th>\n",
              "      <th>shipping_limit_date</th>\n",
              "      <th>price</th>\n",
              "      <th>freight_value</th>\n",
              "      <th>product_name_lenght</th>\n",
              "      <th>product_description_lenght</th>\n",
              "      <th>product_photos_qty</th>\n",
              "      <th>...</th>\n",
              "      <th>review_score</th>\n",
              "      <th>review_comment_title</th>\n",
              "      <th>review_comment_message</th>\n",
              "      <th>review_creation_date</th>\n",
              "      <th>review_answer_timestamp</th>\n",
              "      <th>payment_sequential</th>\n",
              "      <th>payment_type</th>\n",
              "      <th>payment_installments</th>\n",
              "      <th>payment_value</th>\n",
              "      <th>product_category_name_english</th>\n",
              "    </tr>\n",
              "  </thead>\n",
              "  <tbody>\n",
              "    <tr>\n",
              "      <th>0</th>\n",
              "      <td>00010242fe8c5a6d1ba2dd792cb16214</td>\n",
              "      <td>1.0</td>\n",
              "      <td>4244733e06e7ecb4970a6e2683c13e61</td>\n",
              "      <td>48436dade18ac8b2bce089ec2a041202</td>\n",
              "      <td>2017-09-19 09:45:35</td>\n",
              "      <td>58.9</td>\n",
              "      <td>13.29</td>\n",
              "      <td>58.0</td>\n",
              "      <td>598.0</td>\n",
              "      <td>4.0</td>\n",
              "      <td>...</td>\n",
              "      <td>5.0</td>\n",
              "      <td>no comment</td>\n",
              "      <td>Perfeito, produto entregue antes do combinado.</td>\n",
              "      <td>2017-09-21 00:00:00</td>\n",
              "      <td>2017-09-22 10:57:03</td>\n",
              "      <td>1.0</td>\n",
              "      <td>credit_card</td>\n",
              "      <td>2.0</td>\n",
              "      <td>72.19</td>\n",
              "      <td>cool_stuff</td>\n",
              "    </tr>\n",
              "    <tr>\n",
              "      <th>1</th>\n",
              "      <td>130898c0987d1801452a8ed92a670612</td>\n",
              "      <td>1.0</td>\n",
              "      <td>4244733e06e7ecb4970a6e2683c13e61</td>\n",
              "      <td>48436dade18ac8b2bce089ec2a041202</td>\n",
              "      <td>2017-07-05 02:44:11</td>\n",
              "      <td>55.9</td>\n",
              "      <td>17.96</td>\n",
              "      <td>58.0</td>\n",
              "      <td>598.0</td>\n",
              "      <td>4.0</td>\n",
              "      <td>...</td>\n",
              "      <td>5.0</td>\n",
              "      <td>no comment</td>\n",
              "      <td>lannister como sempre, entregou certinho e den...</td>\n",
              "      <td>2017-07-14 00:00:00</td>\n",
              "      <td>2017-07-17 12:50:07</td>\n",
              "      <td>1.0</td>\n",
              "      <td>boleto</td>\n",
              "      <td>1.0</td>\n",
              "      <td>73.86</td>\n",
              "      <td>cool_stuff</td>\n",
              "    </tr>\n",
              "    <tr>\n",
              "      <th>2</th>\n",
              "      <td>532ed5e14e24ae1f0d735b91524b98b9</td>\n",
              "      <td>1.0</td>\n",
              "      <td>4244733e06e7ecb4970a6e2683c13e61</td>\n",
              "      <td>48436dade18ac8b2bce089ec2a041202</td>\n",
              "      <td>2018-05-23 10:56:25</td>\n",
              "      <td>64.9</td>\n",
              "      <td>18.33</td>\n",
              "      <td>58.0</td>\n",
              "      <td>598.0</td>\n",
              "      <td>4.0</td>\n",
              "      <td>...</td>\n",
              "      <td>4.0</td>\n",
              "      <td>super recomendo</td>\n",
              "      <td>carrinho muito bonito</td>\n",
              "      <td>2018-06-05 00:00:00</td>\n",
              "      <td>2018-06-06 21:41:12</td>\n",
              "      <td>1.0</td>\n",
              "      <td>credit_card</td>\n",
              "      <td>2.0</td>\n",
              "      <td>83.23</td>\n",
              "      <td>cool_stuff</td>\n",
              "    </tr>\n",
              "    <tr>\n",
              "      <th>3</th>\n",
              "      <td>6f8c31653edb8c83e1a739408b5ff750</td>\n",
              "      <td>1.0</td>\n",
              "      <td>4244733e06e7ecb4970a6e2683c13e61</td>\n",
              "      <td>48436dade18ac8b2bce089ec2a041202</td>\n",
              "      <td>2017-08-07 18:55:08</td>\n",
              "      <td>58.9</td>\n",
              "      <td>16.17</td>\n",
              "      <td>58.0</td>\n",
              "      <td>598.0</td>\n",
              "      <td>4.0</td>\n",
              "      <td>...</td>\n",
              "      <td>5.0</td>\n",
              "      <td>no comment</td>\n",
              "      <td>no comment</td>\n",
              "      <td>2017-08-10 00:00:00</td>\n",
              "      <td>2017-08-13 03:35:17</td>\n",
              "      <td>1.0</td>\n",
              "      <td>credit_card</td>\n",
              "      <td>3.0</td>\n",
              "      <td>75.07</td>\n",
              "      <td>cool_stuff</td>\n",
              "    </tr>\n",
              "    <tr>\n",
              "      <th>4</th>\n",
              "      <td>7d19f4ef4d04461989632411b7e588b9</td>\n",
              "      <td>1.0</td>\n",
              "      <td>4244733e06e7ecb4970a6e2683c13e61</td>\n",
              "      <td>48436dade18ac8b2bce089ec2a041202</td>\n",
              "      <td>2017-08-16 22:05:11</td>\n",
              "      <td>58.9</td>\n",
              "      <td>13.29</td>\n",
              "      <td>58.0</td>\n",
              "      <td>598.0</td>\n",
              "      <td>4.0</td>\n",
              "      <td>...</td>\n",
              "      <td>5.0</td>\n",
              "      <td>no comment</td>\n",
              "      <td>no comment</td>\n",
              "      <td>2017-08-25 00:00:00</td>\n",
              "      <td>2017-08-28 00:51:18</td>\n",
              "      <td>1.0</td>\n",
              "      <td>credit_card</td>\n",
              "      <td>4.0</td>\n",
              "      <td>72.19</td>\n",
              "      <td>cool_stuff</td>\n",
              "    </tr>\n",
              "  </tbody>\n",
              "</table>\n",
              "<p>5 rows × 39 columns</p>\n",
              "</div>\n",
              "    <div class=\"colab-df-buttons\">\n",
              "\n",
              "  <div class=\"colab-df-container\">\n",
              "    <button class=\"colab-df-convert\" onclick=\"convertToInteractive('df-ab913464-6425-4560-866a-75a49b7a0c06')\"\n",
              "            title=\"Convert this dataframe to an interactive table.\"\n",
              "            style=\"display:none;\">\n",
              "\n",
              "  <svg xmlns=\"http://www.w3.org/2000/svg\" height=\"24px\" viewBox=\"0 -960 960 960\">\n",
              "    <path d=\"M120-120v-720h720v720H120Zm60-500h600v-160H180v160Zm220 220h160v-160H400v160Zm0 220h160v-160H400v160ZM180-400h160v-160H180v160Zm440 0h160v-160H620v160ZM180-180h160v-160H180v160Zm440 0h160v-160H620v160Z\"/>\n",
              "  </svg>\n",
              "    </button>\n",
              "\n",
              "  <style>\n",
              "    .colab-df-container {\n",
              "      display:flex;\n",
              "      gap: 12px;\n",
              "    }\n",
              "\n",
              "    .colab-df-convert {\n",
              "      background-color: #E8F0FE;\n",
              "      border: none;\n",
              "      border-radius: 50%;\n",
              "      cursor: pointer;\n",
              "      display: none;\n",
              "      fill: #1967D2;\n",
              "      height: 32px;\n",
              "      padding: 0 0 0 0;\n",
              "      width: 32px;\n",
              "    }\n",
              "\n",
              "    .colab-df-convert:hover {\n",
              "      background-color: #E2EBFA;\n",
              "      box-shadow: 0px 1px 2px rgba(60, 64, 67, 0.3), 0px 1px 3px 1px rgba(60, 64, 67, 0.15);\n",
              "      fill: #174EA6;\n",
              "    }\n",
              "\n",
              "    .colab-df-buttons div {\n",
              "      margin-bottom: 4px;\n",
              "    }\n",
              "\n",
              "    [theme=dark] .colab-df-convert {\n",
              "      background-color: #3B4455;\n",
              "      fill: #D2E3FC;\n",
              "    }\n",
              "\n",
              "    [theme=dark] .colab-df-convert:hover {\n",
              "      background-color: #434B5C;\n",
              "      box-shadow: 0px 1px 3px 1px rgba(0, 0, 0, 0.15);\n",
              "      filter: drop-shadow(0px 1px 2px rgba(0, 0, 0, 0.3));\n",
              "      fill: #FFFFFF;\n",
              "    }\n",
              "  </style>\n",
              "\n",
              "    <script>\n",
              "      const buttonEl =\n",
              "        document.querySelector('#df-ab913464-6425-4560-866a-75a49b7a0c06 button.colab-df-convert');\n",
              "      buttonEl.style.display =\n",
              "        google.colab.kernel.accessAllowed ? 'block' : 'none';\n",
              "\n",
              "      async function convertToInteractive(key) {\n",
              "        const element = document.querySelector('#df-ab913464-6425-4560-866a-75a49b7a0c06');\n",
              "        const dataTable =\n",
              "          await google.colab.kernel.invokeFunction('convertToInteractive',\n",
              "                                                    [key], {});\n",
              "        if (!dataTable) return;\n",
              "\n",
              "        const docLinkHtml = 'Like what you see? Visit the ' +\n",
              "          '<a target=\"_blank\" href=https://colab.research.google.com/notebooks/data_table.ipynb>data table notebook</a>'\n",
              "          + ' to learn more about interactive tables.';\n",
              "        element.innerHTML = '';\n",
              "        dataTable['output_type'] = 'display_data';\n",
              "        await google.colab.output.renderOutput(dataTable, element);\n",
              "        const docLink = document.createElement('div');\n",
              "        docLink.innerHTML = docLinkHtml;\n",
              "        element.appendChild(docLink);\n",
              "      }\n",
              "    </script>\n",
              "  </div>\n",
              "\n",
              "\n",
              "<div id=\"df-0090ffab-d4d5-4b65-a2f5-c1e02fc98d14\">\n",
              "  <button class=\"colab-df-quickchart\" onclick=\"quickchart('df-0090ffab-d4d5-4b65-a2f5-c1e02fc98d14')\"\n",
              "            title=\"Suggest charts\"\n",
              "            style=\"display:none;\">\n",
              "\n",
              "<svg xmlns=\"http://www.w3.org/2000/svg\" height=\"24px\"viewBox=\"0 0 24 24\"\n",
              "     width=\"24px\">\n",
              "    <g>\n",
              "        <path d=\"M19 3H5c-1.1 0-2 .9-2 2v14c0 1.1.9 2 2 2h14c1.1 0 2-.9 2-2V5c0-1.1-.9-2-2-2zM9 17H7v-7h2v7zm4 0h-2V7h2v10zm4 0h-2v-4h2v4z\"/>\n",
              "    </g>\n",
              "</svg>\n",
              "  </button>\n",
              "\n",
              "<style>\n",
              "  .colab-df-quickchart {\n",
              "      --bg-color: #E8F0FE;\n",
              "      --fill-color: #1967D2;\n",
              "      --hover-bg-color: #E2EBFA;\n",
              "      --hover-fill-color: #174EA6;\n",
              "      --disabled-fill-color: #AAA;\n",
              "      --disabled-bg-color: #DDD;\n",
              "  }\n",
              "\n",
              "  [theme=dark] .colab-df-quickchart {\n",
              "      --bg-color: #3B4455;\n",
              "      --fill-color: #D2E3FC;\n",
              "      --hover-bg-color: #434B5C;\n",
              "      --hover-fill-color: #FFFFFF;\n",
              "      --disabled-bg-color: #3B4455;\n",
              "      --disabled-fill-color: #666;\n",
              "  }\n",
              "\n",
              "  .colab-df-quickchart {\n",
              "    background-color: var(--bg-color);\n",
              "    border: none;\n",
              "    border-radius: 50%;\n",
              "    cursor: pointer;\n",
              "    display: none;\n",
              "    fill: var(--fill-color);\n",
              "    height: 32px;\n",
              "    padding: 0;\n",
              "    width: 32px;\n",
              "  }\n",
              "\n",
              "  .colab-df-quickchart:hover {\n",
              "    background-color: var(--hover-bg-color);\n",
              "    box-shadow: 0 1px 2px rgba(60, 64, 67, 0.3), 0 1px 3px 1px rgba(60, 64, 67, 0.15);\n",
              "    fill: var(--button-hover-fill-color);\n",
              "  }\n",
              "\n",
              "  .colab-df-quickchart-complete:disabled,\n",
              "  .colab-df-quickchart-complete:disabled:hover {\n",
              "    background-color: var(--disabled-bg-color);\n",
              "    fill: var(--disabled-fill-color);\n",
              "    box-shadow: none;\n",
              "  }\n",
              "\n",
              "  .colab-df-spinner {\n",
              "    border: 2px solid var(--fill-color);\n",
              "    border-color: transparent;\n",
              "    border-bottom-color: var(--fill-color);\n",
              "    animation:\n",
              "      spin 1s steps(1) infinite;\n",
              "  }\n",
              "\n",
              "  @keyframes spin {\n",
              "    0% {\n",
              "      border-color: transparent;\n",
              "      border-bottom-color: var(--fill-color);\n",
              "      border-left-color: var(--fill-color);\n",
              "    }\n",
              "    20% {\n",
              "      border-color: transparent;\n",
              "      border-left-color: var(--fill-color);\n",
              "      border-top-color: var(--fill-color);\n",
              "    }\n",
              "    30% {\n",
              "      border-color: transparent;\n",
              "      border-left-color: var(--fill-color);\n",
              "      border-top-color: var(--fill-color);\n",
              "      border-right-color: var(--fill-color);\n",
              "    }\n",
              "    40% {\n",
              "      border-color: transparent;\n",
              "      border-right-color: var(--fill-color);\n",
              "      border-top-color: var(--fill-color);\n",
              "    }\n",
              "    60% {\n",
              "      border-color: transparent;\n",
              "      border-right-color: var(--fill-color);\n",
              "    }\n",
              "    80% {\n",
              "      border-color: transparent;\n",
              "      border-right-color: var(--fill-color);\n",
              "      border-bottom-color: var(--fill-color);\n",
              "    }\n",
              "    90% {\n",
              "      border-color: transparent;\n",
              "      border-bottom-color: var(--fill-color);\n",
              "    }\n",
              "  }\n",
              "</style>\n",
              "\n",
              "  <script>\n",
              "    async function quickchart(key) {\n",
              "      const quickchartButtonEl =\n",
              "        document.querySelector('#' + key + ' button');\n",
              "      quickchartButtonEl.disabled = true;  // To prevent multiple clicks.\n",
              "      quickchartButtonEl.classList.add('colab-df-spinner');\n",
              "      try {\n",
              "        const charts = await google.colab.kernel.invokeFunction(\n",
              "            'suggestCharts', [key], {});\n",
              "      } catch (error) {\n",
              "        console.error('Error during call to suggestCharts:', error);\n",
              "      }\n",
              "      quickchartButtonEl.classList.remove('colab-df-spinner');\n",
              "      quickchartButtonEl.classList.add('colab-df-quickchart-complete');\n",
              "    }\n",
              "    (() => {\n",
              "      let quickchartButtonEl =\n",
              "        document.querySelector('#df-0090ffab-d4d5-4b65-a2f5-c1e02fc98d14 button');\n",
              "      quickchartButtonEl.style.display =\n",
              "        google.colab.kernel.accessAllowed ? 'block' : 'none';\n",
              "    })();\n",
              "  </script>\n",
              "</div>\n",
              "    </div>\n",
              "  </div>\n"
            ]
          },
          "metadata": {},
          "execution_count": 125
        }
      ]
    },
    {
      "cell_type": "markdown",
      "source": [
        "## Exploratory Data Analysis (EDA)"
      ],
      "metadata": {
        "id": "EyPJaCDm9KFb"
      }
    },
    {
      "cell_type": "markdown",
      "source": [
        "### Explore Data Payment"
      ],
      "metadata": {
        "id": "hxgJ6qd69Mce"
      }
    },
    {
      "cell_type": "code",
      "source": [
        "# Menambahkan kolom 'installment' untuk mendata payment_installment=True dimana payment bernilai > 1\n",
        "\n",
        "df[\"installment\"] = df['payment_installments'].apply(lambda x: False if x < 2 else True)\n",
        "\n",
        "relative_frequency = df['installment'].value_counts() / len(df['installment'])\n",
        "relative_frequency"
      ],
      "metadata": {
        "id": "Xo68yguo9LTl",
        "colab": {
          "base_uri": "https://localhost:8080/"
        },
        "outputId": "ee220eb4-ca67-45d2-a964-8101e1507318"
      },
      "execution_count": 126,
      "outputs": [
        {
          "output_type": "execute_result",
          "data": {
            "text/plain": [
              "True     0.501324\n",
              "False    0.498676\n",
              "Name: installment, dtype: float64"
            ]
          },
          "metadata": {},
          "execution_count": 126
        }
      ]
    },
    {
      "cell_type": "markdown",
      "source": [
        "Menunjukkan bahwa 50% payment dilakukan secara installment."
      ],
      "metadata": {
        "id": "BXbrCuUmztLV"
      }
    },
    {
      "cell_type": "markdown",
      "source": [
        "### Explore Data Seller"
      ],
      "metadata": {
        "id": "YIDj4YZmyRp2"
      }
    },
    {
      "cell_type": "code",
      "source": [
        "# Menghitung rating seller dan jumlah produk terjual dengan groupby & aggregasi\n",
        "seller_group = df.groupby('seller_id')[['review_score', 'order_id']].agg({'review_score': 'mean', 'order_id': 'count'})\n",
        "seller_group.rename(columns={'review_score': 'seller_rating', 'order_id': 'product_sold_by_seller'}, inplace=True)\n",
        "seller_group"
      ],
      "metadata": {
        "colab": {
          "base_uri": "https://localhost:8080/",
          "height": 455
        },
        "id": "ZuykCJnWz0Ns",
        "outputId": "c3a56bb3-782e-4434-df79-118345656b9e"
      },
      "execution_count": 127,
      "outputs": [
        {
          "output_type": "execute_result",
          "data": {
            "text/plain": [
              "                                  seller_rating  product_sold_by_seller\n",
              "seller_id                                                              \n",
              "0015a82c2db000af6aaaf3ae2ecb0532       3.666667                       3\n",
              "001cca7ae9ae17fb1caed9dfb1094831       3.974249                     233\n",
              "002100f778ceb8431b7a1020ff7ab48f       4.086207                      58\n",
              "003554e2dce176b5555353e4f3555ac8       5.000000                       1\n",
              "004c9cd9d87a3c30c522c48c4fc07416       4.128079                     203\n",
              "...                                         ...                     ...\n",
              "ffc470761de7d0232558ba5e786e57b7       4.281250                      32\n",
              "ffdd9f82b9a447f6f8d4b91554cc7dd3       4.285714                      21\n",
              "ffeee66ac5d5a62fe688b9d26f83f534       4.214286                      14\n",
              "fffd5413c0700ac820c7069d66d98c89       3.862069                      58\n",
              "ffff564a4f9085cd26170f4732393726       3.250000                       8\n",
              "\n",
              "[2965 rows x 2 columns]"
            ],
            "text/html": [
              "\n",
              "  <div id=\"df-a1273bca-d244-494e-ab4a-ec3096f36a06\" class=\"colab-df-container\">\n",
              "    <div>\n",
              "<style scoped>\n",
              "    .dataframe tbody tr th:only-of-type {\n",
              "        vertical-align: middle;\n",
              "    }\n",
              "\n",
              "    .dataframe tbody tr th {\n",
              "        vertical-align: top;\n",
              "    }\n",
              "\n",
              "    .dataframe thead th {\n",
              "        text-align: right;\n",
              "    }\n",
              "</style>\n",
              "<table border=\"1\" class=\"dataframe\">\n",
              "  <thead>\n",
              "    <tr style=\"text-align: right;\">\n",
              "      <th></th>\n",
              "      <th>seller_rating</th>\n",
              "      <th>product_sold_by_seller</th>\n",
              "    </tr>\n",
              "    <tr>\n",
              "      <th>seller_id</th>\n",
              "      <th></th>\n",
              "      <th></th>\n",
              "    </tr>\n",
              "  </thead>\n",
              "  <tbody>\n",
              "    <tr>\n",
              "      <th>0015a82c2db000af6aaaf3ae2ecb0532</th>\n",
              "      <td>3.666667</td>\n",
              "      <td>3</td>\n",
              "    </tr>\n",
              "    <tr>\n",
              "      <th>001cca7ae9ae17fb1caed9dfb1094831</th>\n",
              "      <td>3.974249</td>\n",
              "      <td>233</td>\n",
              "    </tr>\n",
              "    <tr>\n",
              "      <th>002100f778ceb8431b7a1020ff7ab48f</th>\n",
              "      <td>4.086207</td>\n",
              "      <td>58</td>\n",
              "    </tr>\n",
              "    <tr>\n",
              "      <th>003554e2dce176b5555353e4f3555ac8</th>\n",
              "      <td>5.000000</td>\n",
              "      <td>1</td>\n",
              "    </tr>\n",
              "    <tr>\n",
              "      <th>004c9cd9d87a3c30c522c48c4fc07416</th>\n",
              "      <td>4.128079</td>\n",
              "      <td>203</td>\n",
              "    </tr>\n",
              "    <tr>\n",
              "      <th>...</th>\n",
              "      <td>...</td>\n",
              "      <td>...</td>\n",
              "    </tr>\n",
              "    <tr>\n",
              "      <th>ffc470761de7d0232558ba5e786e57b7</th>\n",
              "      <td>4.281250</td>\n",
              "      <td>32</td>\n",
              "    </tr>\n",
              "    <tr>\n",
              "      <th>ffdd9f82b9a447f6f8d4b91554cc7dd3</th>\n",
              "      <td>4.285714</td>\n",
              "      <td>21</td>\n",
              "    </tr>\n",
              "    <tr>\n",
              "      <th>ffeee66ac5d5a62fe688b9d26f83f534</th>\n",
              "      <td>4.214286</td>\n",
              "      <td>14</td>\n",
              "    </tr>\n",
              "    <tr>\n",
              "      <th>fffd5413c0700ac820c7069d66d98c89</th>\n",
              "      <td>3.862069</td>\n",
              "      <td>58</td>\n",
              "    </tr>\n",
              "    <tr>\n",
              "      <th>ffff564a4f9085cd26170f4732393726</th>\n",
              "      <td>3.250000</td>\n",
              "      <td>8</td>\n",
              "    </tr>\n",
              "  </tbody>\n",
              "</table>\n",
              "<p>2965 rows × 2 columns</p>\n",
              "</div>\n",
              "    <div class=\"colab-df-buttons\">\n",
              "\n",
              "  <div class=\"colab-df-container\">\n",
              "    <button class=\"colab-df-convert\" onclick=\"convertToInteractive('df-a1273bca-d244-494e-ab4a-ec3096f36a06')\"\n",
              "            title=\"Convert this dataframe to an interactive table.\"\n",
              "            style=\"display:none;\">\n",
              "\n",
              "  <svg xmlns=\"http://www.w3.org/2000/svg\" height=\"24px\" viewBox=\"0 -960 960 960\">\n",
              "    <path d=\"M120-120v-720h720v720H120Zm60-500h600v-160H180v160Zm220 220h160v-160H400v160Zm0 220h160v-160H400v160ZM180-400h160v-160H180v160Zm440 0h160v-160H620v160ZM180-180h160v-160H180v160Zm440 0h160v-160H620v160Z\"/>\n",
              "  </svg>\n",
              "    </button>\n",
              "\n",
              "  <style>\n",
              "    .colab-df-container {\n",
              "      display:flex;\n",
              "      gap: 12px;\n",
              "    }\n",
              "\n",
              "    .colab-df-convert {\n",
              "      background-color: #E8F0FE;\n",
              "      border: none;\n",
              "      border-radius: 50%;\n",
              "      cursor: pointer;\n",
              "      display: none;\n",
              "      fill: #1967D2;\n",
              "      height: 32px;\n",
              "      padding: 0 0 0 0;\n",
              "      width: 32px;\n",
              "    }\n",
              "\n",
              "    .colab-df-convert:hover {\n",
              "      background-color: #E2EBFA;\n",
              "      box-shadow: 0px 1px 2px rgba(60, 64, 67, 0.3), 0px 1px 3px 1px rgba(60, 64, 67, 0.15);\n",
              "      fill: #174EA6;\n",
              "    }\n",
              "\n",
              "    .colab-df-buttons div {\n",
              "      margin-bottom: 4px;\n",
              "    }\n",
              "\n",
              "    [theme=dark] .colab-df-convert {\n",
              "      background-color: #3B4455;\n",
              "      fill: #D2E3FC;\n",
              "    }\n",
              "\n",
              "    [theme=dark] .colab-df-convert:hover {\n",
              "      background-color: #434B5C;\n",
              "      box-shadow: 0px 1px 3px 1px rgba(0, 0, 0, 0.15);\n",
              "      filter: drop-shadow(0px 1px 2px rgba(0, 0, 0, 0.3));\n",
              "      fill: #FFFFFF;\n",
              "    }\n",
              "  </style>\n",
              "\n",
              "    <script>\n",
              "      const buttonEl =\n",
              "        document.querySelector('#df-a1273bca-d244-494e-ab4a-ec3096f36a06 button.colab-df-convert');\n",
              "      buttonEl.style.display =\n",
              "        google.colab.kernel.accessAllowed ? 'block' : 'none';\n",
              "\n",
              "      async function convertToInteractive(key) {\n",
              "        const element = document.querySelector('#df-a1273bca-d244-494e-ab4a-ec3096f36a06');\n",
              "        const dataTable =\n",
              "          await google.colab.kernel.invokeFunction('convertToInteractive',\n",
              "                                                    [key], {});\n",
              "        if (!dataTable) return;\n",
              "\n",
              "        const docLinkHtml = 'Like what you see? Visit the ' +\n",
              "          '<a target=\"_blank\" href=https://colab.research.google.com/notebooks/data_table.ipynb>data table notebook</a>'\n",
              "          + ' to learn more about interactive tables.';\n",
              "        element.innerHTML = '';\n",
              "        dataTable['output_type'] = 'display_data';\n",
              "        await google.colab.output.renderOutput(dataTable, element);\n",
              "        const docLink = document.createElement('div');\n",
              "        docLink.innerHTML = docLinkHtml;\n",
              "        element.appendChild(docLink);\n",
              "      }\n",
              "    </script>\n",
              "  </div>\n",
              "\n",
              "\n",
              "<div id=\"df-0bd69942-4103-420a-bdd0-ecf2f9547f59\">\n",
              "  <button class=\"colab-df-quickchart\" onclick=\"quickchart('df-0bd69942-4103-420a-bdd0-ecf2f9547f59')\"\n",
              "            title=\"Suggest charts\"\n",
              "            style=\"display:none;\">\n",
              "\n",
              "<svg xmlns=\"http://www.w3.org/2000/svg\" height=\"24px\"viewBox=\"0 0 24 24\"\n",
              "     width=\"24px\">\n",
              "    <g>\n",
              "        <path d=\"M19 3H5c-1.1 0-2 .9-2 2v14c0 1.1.9 2 2 2h14c1.1 0 2-.9 2-2V5c0-1.1-.9-2-2-2zM9 17H7v-7h2v7zm4 0h-2V7h2v10zm4 0h-2v-4h2v4z\"/>\n",
              "    </g>\n",
              "</svg>\n",
              "  </button>\n",
              "\n",
              "<style>\n",
              "  .colab-df-quickchart {\n",
              "      --bg-color: #E8F0FE;\n",
              "      --fill-color: #1967D2;\n",
              "      --hover-bg-color: #E2EBFA;\n",
              "      --hover-fill-color: #174EA6;\n",
              "      --disabled-fill-color: #AAA;\n",
              "      --disabled-bg-color: #DDD;\n",
              "  }\n",
              "\n",
              "  [theme=dark] .colab-df-quickchart {\n",
              "      --bg-color: #3B4455;\n",
              "      --fill-color: #D2E3FC;\n",
              "      --hover-bg-color: #434B5C;\n",
              "      --hover-fill-color: #FFFFFF;\n",
              "      --disabled-bg-color: #3B4455;\n",
              "      --disabled-fill-color: #666;\n",
              "  }\n",
              "\n",
              "  .colab-df-quickchart {\n",
              "    background-color: var(--bg-color);\n",
              "    border: none;\n",
              "    border-radius: 50%;\n",
              "    cursor: pointer;\n",
              "    display: none;\n",
              "    fill: var(--fill-color);\n",
              "    height: 32px;\n",
              "    padding: 0;\n",
              "    width: 32px;\n",
              "  }\n",
              "\n",
              "  .colab-df-quickchart:hover {\n",
              "    background-color: var(--hover-bg-color);\n",
              "    box-shadow: 0 1px 2px rgba(60, 64, 67, 0.3), 0 1px 3px 1px rgba(60, 64, 67, 0.15);\n",
              "    fill: var(--button-hover-fill-color);\n",
              "  }\n",
              "\n",
              "  .colab-df-quickchart-complete:disabled,\n",
              "  .colab-df-quickchart-complete:disabled:hover {\n",
              "    background-color: var(--disabled-bg-color);\n",
              "    fill: var(--disabled-fill-color);\n",
              "    box-shadow: none;\n",
              "  }\n",
              "\n",
              "  .colab-df-spinner {\n",
              "    border: 2px solid var(--fill-color);\n",
              "    border-color: transparent;\n",
              "    border-bottom-color: var(--fill-color);\n",
              "    animation:\n",
              "      spin 1s steps(1) infinite;\n",
              "  }\n",
              "\n",
              "  @keyframes spin {\n",
              "    0% {\n",
              "      border-color: transparent;\n",
              "      border-bottom-color: var(--fill-color);\n",
              "      border-left-color: var(--fill-color);\n",
              "    }\n",
              "    20% {\n",
              "      border-color: transparent;\n",
              "      border-left-color: var(--fill-color);\n",
              "      border-top-color: var(--fill-color);\n",
              "    }\n",
              "    30% {\n",
              "      border-color: transparent;\n",
              "      border-left-color: var(--fill-color);\n",
              "      border-top-color: var(--fill-color);\n",
              "      border-right-color: var(--fill-color);\n",
              "    }\n",
              "    40% {\n",
              "      border-color: transparent;\n",
              "      border-right-color: var(--fill-color);\n",
              "      border-top-color: var(--fill-color);\n",
              "    }\n",
              "    60% {\n",
              "      border-color: transparent;\n",
              "      border-right-color: var(--fill-color);\n",
              "    }\n",
              "    80% {\n",
              "      border-color: transparent;\n",
              "      border-right-color: var(--fill-color);\n",
              "      border-bottom-color: var(--fill-color);\n",
              "    }\n",
              "    90% {\n",
              "      border-color: transparent;\n",
              "      border-bottom-color: var(--fill-color);\n",
              "    }\n",
              "  }\n",
              "</style>\n",
              "\n",
              "  <script>\n",
              "    async function quickchart(key) {\n",
              "      const quickchartButtonEl =\n",
              "        document.querySelector('#' + key + ' button');\n",
              "      quickchartButtonEl.disabled = true;  // To prevent multiple clicks.\n",
              "      quickchartButtonEl.classList.add('colab-df-spinner');\n",
              "      try {\n",
              "        const charts = await google.colab.kernel.invokeFunction(\n",
              "            'suggestCharts', [key], {});\n",
              "      } catch (error) {\n",
              "        console.error('Error during call to suggestCharts:', error);\n",
              "      }\n",
              "      quickchartButtonEl.classList.remove('colab-df-spinner');\n",
              "      quickchartButtonEl.classList.add('colab-df-quickchart-complete');\n",
              "    }\n",
              "    (() => {\n",
              "      let quickchartButtonEl =\n",
              "        document.querySelector('#df-0bd69942-4103-420a-bdd0-ecf2f9547f59 button');\n",
              "      quickchartButtonEl.style.display =\n",
              "        google.colab.kernel.accessAllowed ? 'block' : 'none';\n",
              "    })();\n",
              "  </script>\n",
              "</div>\n",
              "    </div>\n",
              "  </div>\n"
            ]
          },
          "metadata": {},
          "execution_count": 127
        }
      ]
    },
    {
      "cell_type": "markdown",
      "source": [
        "### Explore Data Product"
      ],
      "metadata": {
        "id": "eA7dIGLhynr7"
      }
    },
    {
      "cell_type": "code",
      "source": [
        "# Menghitung rating product menggunakan groupby dan aggregasi\n",
        "product_group = df.groupby('product_id')['review_score'].mean().reset_index()\n",
        "product_group.rename(columns={'review_score': 'product_rating'}, inplace=True)\n",
        "product_group"
      ],
      "metadata": {
        "colab": {
          "base_uri": "https://localhost:8080/",
          "height": 423
        },
        "id": "4_qZN9_h7zJW",
        "outputId": "7e301429-9fca-4717-98ee-0bfcfa35e0d6"
      },
      "execution_count": 128,
      "outputs": [
        {
          "output_type": "execute_result",
          "data": {
            "text/plain": [
              "                             product_id  product_rating\n",
              "0      00066f42aeeb9f3007548bb9d3f33c38             5.0\n",
              "1      00088930e925c41fd95ebfe695fd2655             4.0\n",
              "2      0009406fd7479715e4bef61dd91f2462             1.0\n",
              "3      000b8f95fcb9e0096488278317764d19             5.0\n",
              "4      000d9be29b5207b54e86aa1b1ac54872             5.0\n",
              "...                                 ...             ...\n",
              "32061  fff6177642830a9a94a0f2cba5e476d1             4.5\n",
              "32062  fff81cc3158d2725c0655ab9ba0f712c             4.0\n",
              "32063  fff9553ac224cec9d15d49f5a263411f             5.0\n",
              "32064  fffdb2d0ec8d6a61f0a0a0db3f25b441             5.0\n",
              "32065  fffe9eeff12fcbd74a2f2b007dde0c58             4.0\n",
              "\n",
              "[32066 rows x 2 columns]"
            ],
            "text/html": [
              "\n",
              "  <div id=\"df-fd47a567-f34e-4595-abdc-a862b5788048\" class=\"colab-df-container\">\n",
              "    <div>\n",
              "<style scoped>\n",
              "    .dataframe tbody tr th:only-of-type {\n",
              "        vertical-align: middle;\n",
              "    }\n",
              "\n",
              "    .dataframe tbody tr th {\n",
              "        vertical-align: top;\n",
              "    }\n",
              "\n",
              "    .dataframe thead th {\n",
              "        text-align: right;\n",
              "    }\n",
              "</style>\n",
              "<table border=\"1\" class=\"dataframe\">\n",
              "  <thead>\n",
              "    <tr style=\"text-align: right;\">\n",
              "      <th></th>\n",
              "      <th>product_id</th>\n",
              "      <th>product_rating</th>\n",
              "    </tr>\n",
              "  </thead>\n",
              "  <tbody>\n",
              "    <tr>\n",
              "      <th>0</th>\n",
              "      <td>00066f42aeeb9f3007548bb9d3f33c38</td>\n",
              "      <td>5.0</td>\n",
              "    </tr>\n",
              "    <tr>\n",
              "      <th>1</th>\n",
              "      <td>00088930e925c41fd95ebfe695fd2655</td>\n",
              "      <td>4.0</td>\n",
              "    </tr>\n",
              "    <tr>\n",
              "      <th>2</th>\n",
              "      <td>0009406fd7479715e4bef61dd91f2462</td>\n",
              "      <td>1.0</td>\n",
              "    </tr>\n",
              "    <tr>\n",
              "      <th>3</th>\n",
              "      <td>000b8f95fcb9e0096488278317764d19</td>\n",
              "      <td>5.0</td>\n",
              "    </tr>\n",
              "    <tr>\n",
              "      <th>4</th>\n",
              "      <td>000d9be29b5207b54e86aa1b1ac54872</td>\n",
              "      <td>5.0</td>\n",
              "    </tr>\n",
              "    <tr>\n",
              "      <th>...</th>\n",
              "      <td>...</td>\n",
              "      <td>...</td>\n",
              "    </tr>\n",
              "    <tr>\n",
              "      <th>32061</th>\n",
              "      <td>fff6177642830a9a94a0f2cba5e476d1</td>\n",
              "      <td>4.5</td>\n",
              "    </tr>\n",
              "    <tr>\n",
              "      <th>32062</th>\n",
              "      <td>fff81cc3158d2725c0655ab9ba0f712c</td>\n",
              "      <td>4.0</td>\n",
              "    </tr>\n",
              "    <tr>\n",
              "      <th>32063</th>\n",
              "      <td>fff9553ac224cec9d15d49f5a263411f</td>\n",
              "      <td>5.0</td>\n",
              "    </tr>\n",
              "    <tr>\n",
              "      <th>32064</th>\n",
              "      <td>fffdb2d0ec8d6a61f0a0a0db3f25b441</td>\n",
              "      <td>5.0</td>\n",
              "    </tr>\n",
              "    <tr>\n",
              "      <th>32065</th>\n",
              "      <td>fffe9eeff12fcbd74a2f2b007dde0c58</td>\n",
              "      <td>4.0</td>\n",
              "    </tr>\n",
              "  </tbody>\n",
              "</table>\n",
              "<p>32066 rows × 2 columns</p>\n",
              "</div>\n",
              "    <div class=\"colab-df-buttons\">\n",
              "\n",
              "  <div class=\"colab-df-container\">\n",
              "    <button class=\"colab-df-convert\" onclick=\"convertToInteractive('df-fd47a567-f34e-4595-abdc-a862b5788048')\"\n",
              "            title=\"Convert this dataframe to an interactive table.\"\n",
              "            style=\"display:none;\">\n",
              "\n",
              "  <svg xmlns=\"http://www.w3.org/2000/svg\" height=\"24px\" viewBox=\"0 -960 960 960\">\n",
              "    <path d=\"M120-120v-720h720v720H120Zm60-500h600v-160H180v160Zm220 220h160v-160H400v160Zm0 220h160v-160H400v160ZM180-400h160v-160H180v160Zm440 0h160v-160H620v160ZM180-180h160v-160H180v160Zm440 0h160v-160H620v160Z\"/>\n",
              "  </svg>\n",
              "    </button>\n",
              "\n",
              "  <style>\n",
              "    .colab-df-container {\n",
              "      display:flex;\n",
              "      gap: 12px;\n",
              "    }\n",
              "\n",
              "    .colab-df-convert {\n",
              "      background-color: #E8F0FE;\n",
              "      border: none;\n",
              "      border-radius: 50%;\n",
              "      cursor: pointer;\n",
              "      display: none;\n",
              "      fill: #1967D2;\n",
              "      height: 32px;\n",
              "      padding: 0 0 0 0;\n",
              "      width: 32px;\n",
              "    }\n",
              "\n",
              "    .colab-df-convert:hover {\n",
              "      background-color: #E2EBFA;\n",
              "      box-shadow: 0px 1px 2px rgba(60, 64, 67, 0.3), 0px 1px 3px 1px rgba(60, 64, 67, 0.15);\n",
              "      fill: #174EA6;\n",
              "    }\n",
              "\n",
              "    .colab-df-buttons div {\n",
              "      margin-bottom: 4px;\n",
              "    }\n",
              "\n",
              "    [theme=dark] .colab-df-convert {\n",
              "      background-color: #3B4455;\n",
              "      fill: #D2E3FC;\n",
              "    }\n",
              "\n",
              "    [theme=dark] .colab-df-convert:hover {\n",
              "      background-color: #434B5C;\n",
              "      box-shadow: 0px 1px 3px 1px rgba(0, 0, 0, 0.15);\n",
              "      filter: drop-shadow(0px 1px 2px rgba(0, 0, 0, 0.3));\n",
              "      fill: #FFFFFF;\n",
              "    }\n",
              "  </style>\n",
              "\n",
              "    <script>\n",
              "      const buttonEl =\n",
              "        document.querySelector('#df-fd47a567-f34e-4595-abdc-a862b5788048 button.colab-df-convert');\n",
              "      buttonEl.style.display =\n",
              "        google.colab.kernel.accessAllowed ? 'block' : 'none';\n",
              "\n",
              "      async function convertToInteractive(key) {\n",
              "        const element = document.querySelector('#df-fd47a567-f34e-4595-abdc-a862b5788048');\n",
              "        const dataTable =\n",
              "          await google.colab.kernel.invokeFunction('convertToInteractive',\n",
              "                                                    [key], {});\n",
              "        if (!dataTable) return;\n",
              "\n",
              "        const docLinkHtml = 'Like what you see? Visit the ' +\n",
              "          '<a target=\"_blank\" href=https://colab.research.google.com/notebooks/data_table.ipynb>data table notebook</a>'\n",
              "          + ' to learn more about interactive tables.';\n",
              "        element.innerHTML = '';\n",
              "        dataTable['output_type'] = 'display_data';\n",
              "        await google.colab.output.renderOutput(dataTable, element);\n",
              "        const docLink = document.createElement('div');\n",
              "        docLink.innerHTML = docLinkHtml;\n",
              "        element.appendChild(docLink);\n",
              "      }\n",
              "    </script>\n",
              "  </div>\n",
              "\n",
              "\n",
              "<div id=\"df-b166ea00-d573-408b-a224-fe421e35d362\">\n",
              "  <button class=\"colab-df-quickchart\" onclick=\"quickchart('df-b166ea00-d573-408b-a224-fe421e35d362')\"\n",
              "            title=\"Suggest charts\"\n",
              "            style=\"display:none;\">\n",
              "\n",
              "<svg xmlns=\"http://www.w3.org/2000/svg\" height=\"24px\"viewBox=\"0 0 24 24\"\n",
              "     width=\"24px\">\n",
              "    <g>\n",
              "        <path d=\"M19 3H5c-1.1 0-2 .9-2 2v14c0 1.1.9 2 2 2h14c1.1 0 2-.9 2-2V5c0-1.1-.9-2-2-2zM9 17H7v-7h2v7zm4 0h-2V7h2v10zm4 0h-2v-4h2v4z\"/>\n",
              "    </g>\n",
              "</svg>\n",
              "  </button>\n",
              "\n",
              "<style>\n",
              "  .colab-df-quickchart {\n",
              "      --bg-color: #E8F0FE;\n",
              "      --fill-color: #1967D2;\n",
              "      --hover-bg-color: #E2EBFA;\n",
              "      --hover-fill-color: #174EA6;\n",
              "      --disabled-fill-color: #AAA;\n",
              "      --disabled-bg-color: #DDD;\n",
              "  }\n",
              "\n",
              "  [theme=dark] .colab-df-quickchart {\n",
              "      --bg-color: #3B4455;\n",
              "      --fill-color: #D2E3FC;\n",
              "      --hover-bg-color: #434B5C;\n",
              "      --hover-fill-color: #FFFFFF;\n",
              "      --disabled-bg-color: #3B4455;\n",
              "      --disabled-fill-color: #666;\n",
              "  }\n",
              "\n",
              "  .colab-df-quickchart {\n",
              "    background-color: var(--bg-color);\n",
              "    border: none;\n",
              "    border-radius: 50%;\n",
              "    cursor: pointer;\n",
              "    display: none;\n",
              "    fill: var(--fill-color);\n",
              "    height: 32px;\n",
              "    padding: 0;\n",
              "    width: 32px;\n",
              "  }\n",
              "\n",
              "  .colab-df-quickchart:hover {\n",
              "    background-color: var(--hover-bg-color);\n",
              "    box-shadow: 0 1px 2px rgba(60, 64, 67, 0.3), 0 1px 3px 1px rgba(60, 64, 67, 0.15);\n",
              "    fill: var(--button-hover-fill-color);\n",
              "  }\n",
              "\n",
              "  .colab-df-quickchart-complete:disabled,\n",
              "  .colab-df-quickchart-complete:disabled:hover {\n",
              "    background-color: var(--disabled-bg-color);\n",
              "    fill: var(--disabled-fill-color);\n",
              "    box-shadow: none;\n",
              "  }\n",
              "\n",
              "  .colab-df-spinner {\n",
              "    border: 2px solid var(--fill-color);\n",
              "    border-color: transparent;\n",
              "    border-bottom-color: var(--fill-color);\n",
              "    animation:\n",
              "      spin 1s steps(1) infinite;\n",
              "  }\n",
              "\n",
              "  @keyframes spin {\n",
              "    0% {\n",
              "      border-color: transparent;\n",
              "      border-bottom-color: var(--fill-color);\n",
              "      border-left-color: var(--fill-color);\n",
              "    }\n",
              "    20% {\n",
              "      border-color: transparent;\n",
              "      border-left-color: var(--fill-color);\n",
              "      border-top-color: var(--fill-color);\n",
              "    }\n",
              "    30% {\n",
              "      border-color: transparent;\n",
              "      border-left-color: var(--fill-color);\n",
              "      border-top-color: var(--fill-color);\n",
              "      border-right-color: var(--fill-color);\n",
              "    }\n",
              "    40% {\n",
              "      border-color: transparent;\n",
              "      border-right-color: var(--fill-color);\n",
              "      border-top-color: var(--fill-color);\n",
              "    }\n",
              "    60% {\n",
              "      border-color: transparent;\n",
              "      border-right-color: var(--fill-color);\n",
              "    }\n",
              "    80% {\n",
              "      border-color: transparent;\n",
              "      border-right-color: var(--fill-color);\n",
              "      border-bottom-color: var(--fill-color);\n",
              "    }\n",
              "    90% {\n",
              "      border-color: transparent;\n",
              "      border-bottom-color: var(--fill-color);\n",
              "    }\n",
              "  }\n",
              "</style>\n",
              "\n",
              "  <script>\n",
              "    async function quickchart(key) {\n",
              "      const quickchartButtonEl =\n",
              "        document.querySelector('#' + key + ' button');\n",
              "      quickchartButtonEl.disabled = true;  // To prevent multiple clicks.\n",
              "      quickchartButtonEl.classList.add('colab-df-spinner');\n",
              "      try {\n",
              "        const charts = await google.colab.kernel.invokeFunction(\n",
              "            'suggestCharts', [key], {});\n",
              "      } catch (error) {\n",
              "        console.error('Error during call to suggestCharts:', error);\n",
              "      }\n",
              "      quickchartButtonEl.classList.remove('colab-df-spinner');\n",
              "      quickchartButtonEl.classList.add('colab-df-quickchart-complete');\n",
              "    }\n",
              "    (() => {\n",
              "      let quickchartButtonEl =\n",
              "        document.querySelector('#df-b166ea00-d573-408b-a224-fe421e35d362 button');\n",
              "      quickchartButtonEl.style.display =\n",
              "        google.colab.kernel.accessAllowed ? 'block' : 'none';\n",
              "    })();\n",
              "  </script>\n",
              "</div>\n",
              "    </div>\n",
              "  </div>\n"
            ]
          },
          "metadata": {},
          "execution_count": 128
        }
      ]
    },
    {
      "cell_type": "code",
      "source": [
        "# Merge the calculated values back into the original DataFrame\n",
        "df = df.merge(seller_group, on='seller_id', how='left')\n",
        "df = df.merge(product_group, on='product_id', how='left')"
      ],
      "metadata": {
        "id": "mwTdJYHpyvJb"
      },
      "execution_count": 129,
      "outputs": []
    },
    {
      "cell_type": "code",
      "source": [
        "# Menghitung average price dan rating dari masing-masing 'product_category'\n",
        "category_avg = df.groupby('product_category_name_english').agg({'price': 'mean', 'review_score': 'mean'}).reset_index()\n",
        "category_avg.rename(columns={'price': 'avg_product_category_price', 'review_score': 'avg_product_category_rating'}, inplace=True)\n",
        "\n",
        "# Merge the calculated averages back into the original DataFrame\n",
        "df = df.merge(category_avg, on='product_category_name_english', how='left')\n",
        "\n",
        "category_avg"
      ],
      "metadata": {
        "colab": {
          "base_uri": "https://localhost:8080/",
          "height": 443
        },
        "id": "yOmzcnxZ1B8e",
        "outputId": "d63c034c-e6a9-4965-c6ed-3dd88b2768c0"
      },
      "execution_count": 130,
      "outputs": [
        {
          "output_type": "execute_result",
          "data": {
            "text/plain": [
              "   product_category_name_english  avg_product_category_price  \\\n",
              "0     agro_industry_and_commerce                  332.835691   \n",
              "1               air_conditioning                  185.349758   \n",
              "2                            art                  117.130390   \n",
              "3          arts_and_craftmanship                   75.583750   \n",
              "4                          audio                  138.940480   \n",
              "..                           ...                         ...   \n",
              "66                    stationery                   90.322644   \n",
              "67        tablets_printing_image                   80.239176   \n",
              "68                     telephony                   70.661957   \n",
              "69                          toys                  116.190348   \n",
              "70                 watches_gifts                  200.224776   \n",
              "\n",
              "    avg_product_category_rating  \n",
              "0                      4.227642  \n",
              "1                      4.051903  \n",
              "2                      4.073171  \n",
              "3                      4.125000  \n",
              "4                      3.845333  \n",
              "..                          ...  \n",
              "66                     4.235823  \n",
              "67                     4.117647  \n",
              "68                     3.995850  \n",
              "69                     4.209805  \n",
              "70                     4.069320  \n",
              "\n",
              "[71 rows x 3 columns]"
            ],
            "text/html": [
              "\n",
              "  <div id=\"df-6d4f1ece-6e12-4da8-bf13-a3ed91a1b948\" class=\"colab-df-container\">\n",
              "    <div>\n",
              "<style scoped>\n",
              "    .dataframe tbody tr th:only-of-type {\n",
              "        vertical-align: middle;\n",
              "    }\n",
              "\n",
              "    .dataframe tbody tr th {\n",
              "        vertical-align: top;\n",
              "    }\n",
              "\n",
              "    .dataframe thead th {\n",
              "        text-align: right;\n",
              "    }\n",
              "</style>\n",
              "<table border=\"1\" class=\"dataframe\">\n",
              "  <thead>\n",
              "    <tr style=\"text-align: right;\">\n",
              "      <th></th>\n",
              "      <th>product_category_name_english</th>\n",
              "      <th>avg_product_category_price</th>\n",
              "      <th>avg_product_category_rating</th>\n",
              "    </tr>\n",
              "  </thead>\n",
              "  <tbody>\n",
              "    <tr>\n",
              "      <th>0</th>\n",
              "      <td>agro_industry_and_commerce</td>\n",
              "      <td>332.835691</td>\n",
              "      <td>4.227642</td>\n",
              "    </tr>\n",
              "    <tr>\n",
              "      <th>1</th>\n",
              "      <td>air_conditioning</td>\n",
              "      <td>185.349758</td>\n",
              "      <td>4.051903</td>\n",
              "    </tr>\n",
              "    <tr>\n",
              "      <th>2</th>\n",
              "      <td>art</td>\n",
              "      <td>117.130390</td>\n",
              "      <td>4.073171</td>\n",
              "    </tr>\n",
              "    <tr>\n",
              "      <th>3</th>\n",
              "      <td>arts_and_craftmanship</td>\n",
              "      <td>75.583750</td>\n",
              "      <td>4.125000</td>\n",
              "    </tr>\n",
              "    <tr>\n",
              "      <th>4</th>\n",
              "      <td>audio</td>\n",
              "      <td>138.940480</td>\n",
              "      <td>3.845333</td>\n",
              "    </tr>\n",
              "    <tr>\n",
              "      <th>...</th>\n",
              "      <td>...</td>\n",
              "      <td>...</td>\n",
              "      <td>...</td>\n",
              "    </tr>\n",
              "    <tr>\n",
              "      <th>66</th>\n",
              "      <td>stationery</td>\n",
              "      <td>90.322644</td>\n",
              "      <td>4.235823</td>\n",
              "    </tr>\n",
              "    <tr>\n",
              "      <th>67</th>\n",
              "      <td>tablets_printing_image</td>\n",
              "      <td>80.239176</td>\n",
              "      <td>4.117647</td>\n",
              "    </tr>\n",
              "    <tr>\n",
              "      <th>68</th>\n",
              "      <td>telephony</td>\n",
              "      <td>70.661957</td>\n",
              "      <td>3.995850</td>\n",
              "    </tr>\n",
              "    <tr>\n",
              "      <th>69</th>\n",
              "      <td>toys</td>\n",
              "      <td>116.190348</td>\n",
              "      <td>4.209805</td>\n",
              "    </tr>\n",
              "    <tr>\n",
              "      <th>70</th>\n",
              "      <td>watches_gifts</td>\n",
              "      <td>200.224776</td>\n",
              "      <td>4.069320</td>\n",
              "    </tr>\n",
              "  </tbody>\n",
              "</table>\n",
              "<p>71 rows × 3 columns</p>\n",
              "</div>\n",
              "    <div class=\"colab-df-buttons\">\n",
              "\n",
              "  <div class=\"colab-df-container\">\n",
              "    <button class=\"colab-df-convert\" onclick=\"convertToInteractive('df-6d4f1ece-6e12-4da8-bf13-a3ed91a1b948')\"\n",
              "            title=\"Convert this dataframe to an interactive table.\"\n",
              "            style=\"display:none;\">\n",
              "\n",
              "  <svg xmlns=\"http://www.w3.org/2000/svg\" height=\"24px\" viewBox=\"0 -960 960 960\">\n",
              "    <path d=\"M120-120v-720h720v720H120Zm60-500h600v-160H180v160Zm220 220h160v-160H400v160Zm0 220h160v-160H400v160ZM180-400h160v-160H180v160Zm440 0h160v-160H620v160ZM180-180h160v-160H180v160Zm440 0h160v-160H620v160Z\"/>\n",
              "  </svg>\n",
              "    </button>\n",
              "\n",
              "  <style>\n",
              "    .colab-df-container {\n",
              "      display:flex;\n",
              "      gap: 12px;\n",
              "    }\n",
              "\n",
              "    .colab-df-convert {\n",
              "      background-color: #E8F0FE;\n",
              "      border: none;\n",
              "      border-radius: 50%;\n",
              "      cursor: pointer;\n",
              "      display: none;\n",
              "      fill: #1967D2;\n",
              "      height: 32px;\n",
              "      padding: 0 0 0 0;\n",
              "      width: 32px;\n",
              "    }\n",
              "\n",
              "    .colab-df-convert:hover {\n",
              "      background-color: #E2EBFA;\n",
              "      box-shadow: 0px 1px 2px rgba(60, 64, 67, 0.3), 0px 1px 3px 1px rgba(60, 64, 67, 0.15);\n",
              "      fill: #174EA6;\n",
              "    }\n",
              "\n",
              "    .colab-df-buttons div {\n",
              "      margin-bottom: 4px;\n",
              "    }\n",
              "\n",
              "    [theme=dark] .colab-df-convert {\n",
              "      background-color: #3B4455;\n",
              "      fill: #D2E3FC;\n",
              "    }\n",
              "\n",
              "    [theme=dark] .colab-df-convert:hover {\n",
              "      background-color: #434B5C;\n",
              "      box-shadow: 0px 1px 3px 1px rgba(0, 0, 0, 0.15);\n",
              "      filter: drop-shadow(0px 1px 2px rgba(0, 0, 0, 0.3));\n",
              "      fill: #FFFFFF;\n",
              "    }\n",
              "  </style>\n",
              "\n",
              "    <script>\n",
              "      const buttonEl =\n",
              "        document.querySelector('#df-6d4f1ece-6e12-4da8-bf13-a3ed91a1b948 button.colab-df-convert');\n",
              "      buttonEl.style.display =\n",
              "        google.colab.kernel.accessAllowed ? 'block' : 'none';\n",
              "\n",
              "      async function convertToInteractive(key) {\n",
              "        const element = document.querySelector('#df-6d4f1ece-6e12-4da8-bf13-a3ed91a1b948');\n",
              "        const dataTable =\n",
              "          await google.colab.kernel.invokeFunction('convertToInteractive',\n",
              "                                                    [key], {});\n",
              "        if (!dataTable) return;\n",
              "\n",
              "        const docLinkHtml = 'Like what you see? Visit the ' +\n",
              "          '<a target=\"_blank\" href=https://colab.research.google.com/notebooks/data_table.ipynb>data table notebook</a>'\n",
              "          + ' to learn more about interactive tables.';\n",
              "        element.innerHTML = '';\n",
              "        dataTable['output_type'] = 'display_data';\n",
              "        await google.colab.output.renderOutput(dataTable, element);\n",
              "        const docLink = document.createElement('div');\n",
              "        docLink.innerHTML = docLinkHtml;\n",
              "        element.appendChild(docLink);\n",
              "      }\n",
              "    </script>\n",
              "  </div>\n",
              "\n",
              "\n",
              "<div id=\"df-dc4e01c4-6bf6-4d5f-b6cd-032cede4de89\">\n",
              "  <button class=\"colab-df-quickchart\" onclick=\"quickchart('df-dc4e01c4-6bf6-4d5f-b6cd-032cede4de89')\"\n",
              "            title=\"Suggest charts\"\n",
              "            style=\"display:none;\">\n",
              "\n",
              "<svg xmlns=\"http://www.w3.org/2000/svg\" height=\"24px\"viewBox=\"0 0 24 24\"\n",
              "     width=\"24px\">\n",
              "    <g>\n",
              "        <path d=\"M19 3H5c-1.1 0-2 .9-2 2v14c0 1.1.9 2 2 2h14c1.1 0 2-.9 2-2V5c0-1.1-.9-2-2-2zM9 17H7v-7h2v7zm4 0h-2V7h2v10zm4 0h-2v-4h2v4z\"/>\n",
              "    </g>\n",
              "</svg>\n",
              "  </button>\n",
              "\n",
              "<style>\n",
              "  .colab-df-quickchart {\n",
              "      --bg-color: #E8F0FE;\n",
              "      --fill-color: #1967D2;\n",
              "      --hover-bg-color: #E2EBFA;\n",
              "      --hover-fill-color: #174EA6;\n",
              "      --disabled-fill-color: #AAA;\n",
              "      --disabled-bg-color: #DDD;\n",
              "  }\n",
              "\n",
              "  [theme=dark] .colab-df-quickchart {\n",
              "      --bg-color: #3B4455;\n",
              "      --fill-color: #D2E3FC;\n",
              "      --hover-bg-color: #434B5C;\n",
              "      --hover-fill-color: #FFFFFF;\n",
              "      --disabled-bg-color: #3B4455;\n",
              "      --disabled-fill-color: #666;\n",
              "  }\n",
              "\n",
              "  .colab-df-quickchart {\n",
              "    background-color: var(--bg-color);\n",
              "    border: none;\n",
              "    border-radius: 50%;\n",
              "    cursor: pointer;\n",
              "    display: none;\n",
              "    fill: var(--fill-color);\n",
              "    height: 32px;\n",
              "    padding: 0;\n",
              "    width: 32px;\n",
              "  }\n",
              "\n",
              "  .colab-df-quickchart:hover {\n",
              "    background-color: var(--hover-bg-color);\n",
              "    box-shadow: 0 1px 2px rgba(60, 64, 67, 0.3), 0 1px 3px 1px rgba(60, 64, 67, 0.15);\n",
              "    fill: var(--button-hover-fill-color);\n",
              "  }\n",
              "\n",
              "  .colab-df-quickchart-complete:disabled,\n",
              "  .colab-df-quickchart-complete:disabled:hover {\n",
              "    background-color: var(--disabled-bg-color);\n",
              "    fill: var(--disabled-fill-color);\n",
              "    box-shadow: none;\n",
              "  }\n",
              "\n",
              "  .colab-df-spinner {\n",
              "    border: 2px solid var(--fill-color);\n",
              "    border-color: transparent;\n",
              "    border-bottom-color: var(--fill-color);\n",
              "    animation:\n",
              "      spin 1s steps(1) infinite;\n",
              "  }\n",
              "\n",
              "  @keyframes spin {\n",
              "    0% {\n",
              "      border-color: transparent;\n",
              "      border-bottom-color: var(--fill-color);\n",
              "      border-left-color: var(--fill-color);\n",
              "    }\n",
              "    20% {\n",
              "      border-color: transparent;\n",
              "      border-left-color: var(--fill-color);\n",
              "      border-top-color: var(--fill-color);\n",
              "    }\n",
              "    30% {\n",
              "      border-color: transparent;\n",
              "      border-left-color: var(--fill-color);\n",
              "      border-top-color: var(--fill-color);\n",
              "      border-right-color: var(--fill-color);\n",
              "    }\n",
              "    40% {\n",
              "      border-color: transparent;\n",
              "      border-right-color: var(--fill-color);\n",
              "      border-top-color: var(--fill-color);\n",
              "    }\n",
              "    60% {\n",
              "      border-color: transparent;\n",
              "      border-right-color: var(--fill-color);\n",
              "    }\n",
              "    80% {\n",
              "      border-color: transparent;\n",
              "      border-right-color: var(--fill-color);\n",
              "      border-bottom-color: var(--fill-color);\n",
              "    }\n",
              "    90% {\n",
              "      border-color: transparent;\n",
              "      border-bottom-color: var(--fill-color);\n",
              "    }\n",
              "  }\n",
              "</style>\n",
              "\n",
              "  <script>\n",
              "    async function quickchart(key) {\n",
              "      const quickchartButtonEl =\n",
              "        document.querySelector('#' + key + ' button');\n",
              "      quickchartButtonEl.disabled = true;  // To prevent multiple clicks.\n",
              "      quickchartButtonEl.classList.add('colab-df-spinner');\n",
              "      try {\n",
              "        const charts = await google.colab.kernel.invokeFunction(\n",
              "            'suggestCharts', [key], {});\n",
              "      } catch (error) {\n",
              "        console.error('Error during call to suggestCharts:', error);\n",
              "      }\n",
              "      quickchartButtonEl.classList.remove('colab-df-spinner');\n",
              "      quickchartButtonEl.classList.add('colab-df-quickchart-complete');\n",
              "    }\n",
              "    (() => {\n",
              "      let quickchartButtonEl =\n",
              "        document.querySelector('#df-dc4e01c4-6bf6-4d5f-b6cd-032cede4de89 button');\n",
              "      quickchartButtonEl.style.display =\n",
              "        google.colab.kernel.accessAllowed ? 'block' : 'none';\n",
              "    })();\n",
              "  </script>\n",
              "</div>\n",
              "    </div>\n",
              "  </div>\n"
            ]
          },
          "metadata": {},
          "execution_count": 130
        }
      ]
    },
    {
      "cell_type": "code",
      "source": [
        "# Melihat category produk yang paling banyak terjual\n",
        "df.groupby('product_category_name_english').order_id.nunique().sort_values(ascending=False)"
      ],
      "metadata": {
        "colab": {
          "base_uri": "https://localhost:8080/"
        },
        "id": "D1wNSXdK8FEE",
        "outputId": "c3664938-b752-4f02-cde6-e3e4ec80e49c"
      },
      "execution_count": 131,
      "outputs": [
        {
          "output_type": "execute_result",
          "data": {
            "text/plain": [
              "product_category_name_english\n",
              "bed_bath_table               10570\n",
              "health_beauty                 8602\n",
              "sports_leisure                7484\n",
              "computers_accessories         6498\n",
              "furniture_decor               6256\n",
              "                             ...  \n",
              "arts_and_craftmanship           23\n",
              "la_cuisine                      12\n",
              "cds_dvds_musicals               12\n",
              "fashion_childrens_clothes        7\n",
              "security_and_services            2\n",
              "Name: order_id, Length: 71, dtype: int64"
            ]
          },
          "metadata": {},
          "execution_count": 131
        }
      ]
    },
    {
      "cell_type": "markdown",
      "source": [
        "### Explore Data Customer"
      ],
      "metadata": {
        "id": "0GdRC1COy-pi"
      }
    },
    {
      "cell_type": "code",
      "source": [
        "# Menghitung total price dan average review score dari pembelian by state\n",
        "cust_state_group = df.groupby('customer_state').agg({'payment_value':'sum', 'order_id':'count', 'review_score':'mean'}).reset_index()\n",
        "cust_state_group"
      ],
      "metadata": {
        "colab": {
          "base_uri": "https://localhost:8080/",
          "height": 896
        },
        "id": "uR4kRtYS2fwO",
        "outputId": "c9e4340e-dd08-467a-da5a-00f120b4d34a"
      },
      "execution_count": 132,
      "outputs": [
        {
          "output_type": "execute_result",
          "data": {
            "text/plain": [
              "   customer_state  payment_value  order_id  review_score\n",
              "0              AC       24890.49        94      4.127660\n",
              "1              AL      107164.83       442      3.814480\n",
              "2              AM       34490.67       169      4.100592\n",
              "3              AP       21451.33        82      4.280488\n",
              "4              BA      770292.03      3915      3.864112\n",
              "5              CE      333414.34      1496      3.881684\n",
              "6              DF      422265.79      2429      4.053520\n",
              "7              ES      385475.76      2287      4.009182\n",
              "8              GO      449441.92      2360      4.030085\n",
              "9              MA      194423.12       816      3.740196\n",
              "10             MG     2269697.10     13401      4.121110\n",
              "11             MS      164255.19       846      4.095745\n",
              "12             MT      249726.38      1071      3.999066\n",
              "13             PA      246289.09      1076      3.844796\n",
              "14             PB      174809.13       614      4.039088\n",
              "15             PE      359711.44      1820      4.028571\n",
              "16             PI      132770.88       548      3.916058\n",
              "17             PR     1033468.80      5868      4.145876\n",
              "18             RJ     2663520.56     14786      3.875761\n",
              "19             RN      114563.00       559      4.085868\n",
              "20             RO       65151.61       280      4.085714\n",
              "21             RR       11300.88        46      3.891304\n",
              "22             RS     1114548.83      6409      4.075675\n",
              "23             SC      759613.19      4205      4.044471\n",
              "24             SE       83396.56       384      3.895833\n",
              "25             SP     7410531.31     48506      4.177628\n",
              "26             TO       70846.45       333      4.186186"
            ],
            "text/html": [
              "\n",
              "  <div id=\"df-94b7fd41-753c-41f9-8191-0e563bcdb115\" class=\"colab-df-container\">\n",
              "    <div>\n",
              "<style scoped>\n",
              "    .dataframe tbody tr th:only-of-type {\n",
              "        vertical-align: middle;\n",
              "    }\n",
              "\n",
              "    .dataframe tbody tr th {\n",
              "        vertical-align: top;\n",
              "    }\n",
              "\n",
              "    .dataframe thead th {\n",
              "        text-align: right;\n",
              "    }\n",
              "</style>\n",
              "<table border=\"1\" class=\"dataframe\">\n",
              "  <thead>\n",
              "    <tr style=\"text-align: right;\">\n",
              "      <th></th>\n",
              "      <th>customer_state</th>\n",
              "      <th>payment_value</th>\n",
              "      <th>order_id</th>\n",
              "      <th>review_score</th>\n",
              "    </tr>\n",
              "  </thead>\n",
              "  <tbody>\n",
              "    <tr>\n",
              "      <th>0</th>\n",
              "      <td>AC</td>\n",
              "      <td>24890.49</td>\n",
              "      <td>94</td>\n",
              "      <td>4.127660</td>\n",
              "    </tr>\n",
              "    <tr>\n",
              "      <th>1</th>\n",
              "      <td>AL</td>\n",
              "      <td>107164.83</td>\n",
              "      <td>442</td>\n",
              "      <td>3.814480</td>\n",
              "    </tr>\n",
              "    <tr>\n",
              "      <th>2</th>\n",
              "      <td>AM</td>\n",
              "      <td>34490.67</td>\n",
              "      <td>169</td>\n",
              "      <td>4.100592</td>\n",
              "    </tr>\n",
              "    <tr>\n",
              "      <th>3</th>\n",
              "      <td>AP</td>\n",
              "      <td>21451.33</td>\n",
              "      <td>82</td>\n",
              "      <td>4.280488</td>\n",
              "    </tr>\n",
              "    <tr>\n",
              "      <th>4</th>\n",
              "      <td>BA</td>\n",
              "      <td>770292.03</td>\n",
              "      <td>3915</td>\n",
              "      <td>3.864112</td>\n",
              "    </tr>\n",
              "    <tr>\n",
              "      <th>5</th>\n",
              "      <td>CE</td>\n",
              "      <td>333414.34</td>\n",
              "      <td>1496</td>\n",
              "      <td>3.881684</td>\n",
              "    </tr>\n",
              "    <tr>\n",
              "      <th>6</th>\n",
              "      <td>DF</td>\n",
              "      <td>422265.79</td>\n",
              "      <td>2429</td>\n",
              "      <td>4.053520</td>\n",
              "    </tr>\n",
              "    <tr>\n",
              "      <th>7</th>\n",
              "      <td>ES</td>\n",
              "      <td>385475.76</td>\n",
              "      <td>2287</td>\n",
              "      <td>4.009182</td>\n",
              "    </tr>\n",
              "    <tr>\n",
              "      <th>8</th>\n",
              "      <td>GO</td>\n",
              "      <td>449441.92</td>\n",
              "      <td>2360</td>\n",
              "      <td>4.030085</td>\n",
              "    </tr>\n",
              "    <tr>\n",
              "      <th>9</th>\n",
              "      <td>MA</td>\n",
              "      <td>194423.12</td>\n",
              "      <td>816</td>\n",
              "      <td>3.740196</td>\n",
              "    </tr>\n",
              "    <tr>\n",
              "      <th>10</th>\n",
              "      <td>MG</td>\n",
              "      <td>2269697.10</td>\n",
              "      <td>13401</td>\n",
              "      <td>4.121110</td>\n",
              "    </tr>\n",
              "    <tr>\n",
              "      <th>11</th>\n",
              "      <td>MS</td>\n",
              "      <td>164255.19</td>\n",
              "      <td>846</td>\n",
              "      <td>4.095745</td>\n",
              "    </tr>\n",
              "    <tr>\n",
              "      <th>12</th>\n",
              "      <td>MT</td>\n",
              "      <td>249726.38</td>\n",
              "      <td>1071</td>\n",
              "      <td>3.999066</td>\n",
              "    </tr>\n",
              "    <tr>\n",
              "      <th>13</th>\n",
              "      <td>PA</td>\n",
              "      <td>246289.09</td>\n",
              "      <td>1076</td>\n",
              "      <td>3.844796</td>\n",
              "    </tr>\n",
              "    <tr>\n",
              "      <th>14</th>\n",
              "      <td>PB</td>\n",
              "      <td>174809.13</td>\n",
              "      <td>614</td>\n",
              "      <td>4.039088</td>\n",
              "    </tr>\n",
              "    <tr>\n",
              "      <th>15</th>\n",
              "      <td>PE</td>\n",
              "      <td>359711.44</td>\n",
              "      <td>1820</td>\n",
              "      <td>4.028571</td>\n",
              "    </tr>\n",
              "    <tr>\n",
              "      <th>16</th>\n",
              "      <td>PI</td>\n",
              "      <td>132770.88</td>\n",
              "      <td>548</td>\n",
              "      <td>3.916058</td>\n",
              "    </tr>\n",
              "    <tr>\n",
              "      <th>17</th>\n",
              "      <td>PR</td>\n",
              "      <td>1033468.80</td>\n",
              "      <td>5868</td>\n",
              "      <td>4.145876</td>\n",
              "    </tr>\n",
              "    <tr>\n",
              "      <th>18</th>\n",
              "      <td>RJ</td>\n",
              "      <td>2663520.56</td>\n",
              "      <td>14786</td>\n",
              "      <td>3.875761</td>\n",
              "    </tr>\n",
              "    <tr>\n",
              "      <th>19</th>\n",
              "      <td>RN</td>\n",
              "      <td>114563.00</td>\n",
              "      <td>559</td>\n",
              "      <td>4.085868</td>\n",
              "    </tr>\n",
              "    <tr>\n",
              "      <th>20</th>\n",
              "      <td>RO</td>\n",
              "      <td>65151.61</td>\n",
              "      <td>280</td>\n",
              "      <td>4.085714</td>\n",
              "    </tr>\n",
              "    <tr>\n",
              "      <th>21</th>\n",
              "      <td>RR</td>\n",
              "      <td>11300.88</td>\n",
              "      <td>46</td>\n",
              "      <td>3.891304</td>\n",
              "    </tr>\n",
              "    <tr>\n",
              "      <th>22</th>\n",
              "      <td>RS</td>\n",
              "      <td>1114548.83</td>\n",
              "      <td>6409</td>\n",
              "      <td>4.075675</td>\n",
              "    </tr>\n",
              "    <tr>\n",
              "      <th>23</th>\n",
              "      <td>SC</td>\n",
              "      <td>759613.19</td>\n",
              "      <td>4205</td>\n",
              "      <td>4.044471</td>\n",
              "    </tr>\n",
              "    <tr>\n",
              "      <th>24</th>\n",
              "      <td>SE</td>\n",
              "      <td>83396.56</td>\n",
              "      <td>384</td>\n",
              "      <td>3.895833</td>\n",
              "    </tr>\n",
              "    <tr>\n",
              "      <th>25</th>\n",
              "      <td>SP</td>\n",
              "      <td>7410531.31</td>\n",
              "      <td>48506</td>\n",
              "      <td>4.177628</td>\n",
              "    </tr>\n",
              "    <tr>\n",
              "      <th>26</th>\n",
              "      <td>TO</td>\n",
              "      <td>70846.45</td>\n",
              "      <td>333</td>\n",
              "      <td>4.186186</td>\n",
              "    </tr>\n",
              "  </tbody>\n",
              "</table>\n",
              "</div>\n",
              "    <div class=\"colab-df-buttons\">\n",
              "\n",
              "  <div class=\"colab-df-container\">\n",
              "    <button class=\"colab-df-convert\" onclick=\"convertToInteractive('df-94b7fd41-753c-41f9-8191-0e563bcdb115')\"\n",
              "            title=\"Convert this dataframe to an interactive table.\"\n",
              "            style=\"display:none;\">\n",
              "\n",
              "  <svg xmlns=\"http://www.w3.org/2000/svg\" height=\"24px\" viewBox=\"0 -960 960 960\">\n",
              "    <path d=\"M120-120v-720h720v720H120Zm60-500h600v-160H180v160Zm220 220h160v-160H400v160Zm0 220h160v-160H400v160ZM180-400h160v-160H180v160Zm440 0h160v-160H620v160ZM180-180h160v-160H180v160Zm440 0h160v-160H620v160Z\"/>\n",
              "  </svg>\n",
              "    </button>\n",
              "\n",
              "  <style>\n",
              "    .colab-df-container {\n",
              "      display:flex;\n",
              "      gap: 12px;\n",
              "    }\n",
              "\n",
              "    .colab-df-convert {\n",
              "      background-color: #E8F0FE;\n",
              "      border: none;\n",
              "      border-radius: 50%;\n",
              "      cursor: pointer;\n",
              "      display: none;\n",
              "      fill: #1967D2;\n",
              "      height: 32px;\n",
              "      padding: 0 0 0 0;\n",
              "      width: 32px;\n",
              "    }\n",
              "\n",
              "    .colab-df-convert:hover {\n",
              "      background-color: #E2EBFA;\n",
              "      box-shadow: 0px 1px 2px rgba(60, 64, 67, 0.3), 0px 1px 3px 1px rgba(60, 64, 67, 0.15);\n",
              "      fill: #174EA6;\n",
              "    }\n",
              "\n",
              "    .colab-df-buttons div {\n",
              "      margin-bottom: 4px;\n",
              "    }\n",
              "\n",
              "    [theme=dark] .colab-df-convert {\n",
              "      background-color: #3B4455;\n",
              "      fill: #D2E3FC;\n",
              "    }\n",
              "\n",
              "    [theme=dark] .colab-df-convert:hover {\n",
              "      background-color: #434B5C;\n",
              "      box-shadow: 0px 1px 3px 1px rgba(0, 0, 0, 0.15);\n",
              "      filter: drop-shadow(0px 1px 2px rgba(0, 0, 0, 0.3));\n",
              "      fill: #FFFFFF;\n",
              "    }\n",
              "  </style>\n",
              "\n",
              "    <script>\n",
              "      const buttonEl =\n",
              "        document.querySelector('#df-94b7fd41-753c-41f9-8191-0e563bcdb115 button.colab-df-convert');\n",
              "      buttonEl.style.display =\n",
              "        google.colab.kernel.accessAllowed ? 'block' : 'none';\n",
              "\n",
              "      async function convertToInteractive(key) {\n",
              "        const element = document.querySelector('#df-94b7fd41-753c-41f9-8191-0e563bcdb115');\n",
              "        const dataTable =\n",
              "          await google.colab.kernel.invokeFunction('convertToInteractive',\n",
              "                                                    [key], {});\n",
              "        if (!dataTable) return;\n",
              "\n",
              "        const docLinkHtml = 'Like what you see? Visit the ' +\n",
              "          '<a target=\"_blank\" href=https://colab.research.google.com/notebooks/data_table.ipynb>data table notebook</a>'\n",
              "          + ' to learn more about interactive tables.';\n",
              "        element.innerHTML = '';\n",
              "        dataTable['output_type'] = 'display_data';\n",
              "        await google.colab.output.renderOutput(dataTable, element);\n",
              "        const docLink = document.createElement('div');\n",
              "        docLink.innerHTML = docLinkHtml;\n",
              "        element.appendChild(docLink);\n",
              "      }\n",
              "    </script>\n",
              "  </div>\n",
              "\n",
              "\n",
              "<div id=\"df-57e9e4b9-623a-47ef-81c4-38d5fa943f79\">\n",
              "  <button class=\"colab-df-quickchart\" onclick=\"quickchart('df-57e9e4b9-623a-47ef-81c4-38d5fa943f79')\"\n",
              "            title=\"Suggest charts\"\n",
              "            style=\"display:none;\">\n",
              "\n",
              "<svg xmlns=\"http://www.w3.org/2000/svg\" height=\"24px\"viewBox=\"0 0 24 24\"\n",
              "     width=\"24px\">\n",
              "    <g>\n",
              "        <path d=\"M19 3H5c-1.1 0-2 .9-2 2v14c0 1.1.9 2 2 2h14c1.1 0 2-.9 2-2V5c0-1.1-.9-2-2-2zM9 17H7v-7h2v7zm4 0h-2V7h2v10zm4 0h-2v-4h2v4z\"/>\n",
              "    </g>\n",
              "</svg>\n",
              "  </button>\n",
              "\n",
              "<style>\n",
              "  .colab-df-quickchart {\n",
              "      --bg-color: #E8F0FE;\n",
              "      --fill-color: #1967D2;\n",
              "      --hover-bg-color: #E2EBFA;\n",
              "      --hover-fill-color: #174EA6;\n",
              "      --disabled-fill-color: #AAA;\n",
              "      --disabled-bg-color: #DDD;\n",
              "  }\n",
              "\n",
              "  [theme=dark] .colab-df-quickchart {\n",
              "      --bg-color: #3B4455;\n",
              "      --fill-color: #D2E3FC;\n",
              "      --hover-bg-color: #434B5C;\n",
              "      --hover-fill-color: #FFFFFF;\n",
              "      --disabled-bg-color: #3B4455;\n",
              "      --disabled-fill-color: #666;\n",
              "  }\n",
              "\n",
              "  .colab-df-quickchart {\n",
              "    background-color: var(--bg-color);\n",
              "    border: none;\n",
              "    border-radius: 50%;\n",
              "    cursor: pointer;\n",
              "    display: none;\n",
              "    fill: var(--fill-color);\n",
              "    height: 32px;\n",
              "    padding: 0;\n",
              "    width: 32px;\n",
              "  }\n",
              "\n",
              "  .colab-df-quickchart:hover {\n",
              "    background-color: var(--hover-bg-color);\n",
              "    box-shadow: 0 1px 2px rgba(60, 64, 67, 0.3), 0 1px 3px 1px rgba(60, 64, 67, 0.15);\n",
              "    fill: var(--button-hover-fill-color);\n",
              "  }\n",
              "\n",
              "  .colab-df-quickchart-complete:disabled,\n",
              "  .colab-df-quickchart-complete:disabled:hover {\n",
              "    background-color: var(--disabled-bg-color);\n",
              "    fill: var(--disabled-fill-color);\n",
              "    box-shadow: none;\n",
              "  }\n",
              "\n",
              "  .colab-df-spinner {\n",
              "    border: 2px solid var(--fill-color);\n",
              "    border-color: transparent;\n",
              "    border-bottom-color: var(--fill-color);\n",
              "    animation:\n",
              "      spin 1s steps(1) infinite;\n",
              "  }\n",
              "\n",
              "  @keyframes spin {\n",
              "    0% {\n",
              "      border-color: transparent;\n",
              "      border-bottom-color: var(--fill-color);\n",
              "      border-left-color: var(--fill-color);\n",
              "    }\n",
              "    20% {\n",
              "      border-color: transparent;\n",
              "      border-left-color: var(--fill-color);\n",
              "      border-top-color: var(--fill-color);\n",
              "    }\n",
              "    30% {\n",
              "      border-color: transparent;\n",
              "      border-left-color: var(--fill-color);\n",
              "      border-top-color: var(--fill-color);\n",
              "      border-right-color: var(--fill-color);\n",
              "    }\n",
              "    40% {\n",
              "      border-color: transparent;\n",
              "      border-right-color: var(--fill-color);\n",
              "      border-top-color: var(--fill-color);\n",
              "    }\n",
              "    60% {\n",
              "      border-color: transparent;\n",
              "      border-right-color: var(--fill-color);\n",
              "    }\n",
              "    80% {\n",
              "      border-color: transparent;\n",
              "      border-right-color: var(--fill-color);\n",
              "      border-bottom-color: var(--fill-color);\n",
              "    }\n",
              "    90% {\n",
              "      border-color: transparent;\n",
              "      border-bottom-color: var(--fill-color);\n",
              "    }\n",
              "  }\n",
              "</style>\n",
              "\n",
              "  <script>\n",
              "    async function quickchart(key) {\n",
              "      const quickchartButtonEl =\n",
              "        document.querySelector('#' + key + ' button');\n",
              "      quickchartButtonEl.disabled = true;  // To prevent multiple clicks.\n",
              "      quickchartButtonEl.classList.add('colab-df-spinner');\n",
              "      try {\n",
              "        const charts = await google.colab.kernel.invokeFunction(\n",
              "            'suggestCharts', [key], {});\n",
              "      } catch (error) {\n",
              "        console.error('Error during call to suggestCharts:', error);\n",
              "      }\n",
              "      quickchartButtonEl.classList.remove('colab-df-spinner');\n",
              "      quickchartButtonEl.classList.add('colab-df-quickchart-complete');\n",
              "    }\n",
              "    (() => {\n",
              "      let quickchartButtonEl =\n",
              "        document.querySelector('#df-57e9e4b9-623a-47ef-81c4-38d5fa943f79 button');\n",
              "      quickchartButtonEl.style.display =\n",
              "        google.colab.kernel.accessAllowed ? 'block' : 'none';\n",
              "    })();\n",
              "  </script>\n",
              "</div>\n",
              "    </div>\n",
              "  </div>\n"
            ]
          },
          "metadata": {},
          "execution_count": 132
        }
      ]
    },
    {
      "cell_type": "code",
      "source": [
        "# Menghitung persebaran jumlah pelanggan berdasarkan city dan state dengan groupby\n",
        "df.groupby(by='customer_city').customer_id.nunique().sort_values(ascending=False)"
      ],
      "metadata": {
        "colab": {
          "base_uri": "https://localhost:8080/"
        },
        "id": "hl1OGgow5PyL",
        "outputId": "2ebc5900-232d-48e3-cf06-1e31915db3f1"
      },
      "execution_count": 133,
      "outputs": [
        {
          "output_type": "execute_result",
          "data": {
            "text/plain": [
              "customer_city\n",
              "sao paulo                  14946\n",
              "rio de janeiro              6532\n",
              "belo horizonte              2681\n",
              "brasilia                    2061\n",
              "curitiba                    1481\n",
              "                           ...  \n",
              "nova independencia             1\n",
              "salinas da margarida           1\n",
              "centro novo do maranhao        1\n",
              "cerejeiras                     1\n",
              "cambiasca                      1\n",
              "Name: customer_id, Length: 4083, dtype: int64"
            ]
          },
          "metadata": {},
          "execution_count": 133
        }
      ]
    },
    {
      "cell_type": "code",
      "source": [
        "df.groupby(by='customer_state').customer_id.nunique().sort_values(ascending=False)"
      ],
      "metadata": {
        "colab": {
          "base_uri": "https://localhost:8080/"
        },
        "id": "gaHdgGDO6We4",
        "outputId": "47e55da6-6f11-445a-8711-9ed0f420c3c2"
      },
      "execution_count": 134,
      "outputs": [
        {
          "output_type": "execute_result",
          "data": {
            "text/plain": [
              "customer_state\n",
              "SP    40260\n",
              "RJ    12212\n",
              "MG    11283\n",
              "RS     5324\n",
              "PR     4900\n",
              "SC     3520\n",
              "BA     3229\n",
              "DF     2070\n",
              "ES     1969\n",
              "GO     1946\n",
              "PE     1579\n",
              "CE     1272\n",
              "PA      933\n",
              "MT      879\n",
              "MA      711\n",
              "MS      699\n",
              "PB      512\n",
              "PI      471\n",
              "RN      471\n",
              "AL      394\n",
              "SE      334\n",
              "TO      273\n",
              "RO      242\n",
              "AM      144\n",
              "AC       80\n",
              "AP       66\n",
              "RR       41\n",
              "Name: customer_id, dtype: int64"
            ]
          },
          "metadata": {},
          "execution_count": 134
        }
      ]
    },
    {
      "cell_type": "markdown",
      "source": [
        "Kesimpulan : customer terbanyak berasal dari city Sao Paulo dan state SP."
      ],
      "metadata": {
        "id": "lO03733C6_pJ"
      }
    },
    {
      "cell_type": "markdown",
      "source": [
        "### Explore Data Orders"
      ],
      "metadata": {
        "id": "fmisFRF00U-X"
      }
    },
    {
      "cell_type": "code",
      "source": [
        "# Melihat apakah terjadi keterlambatan delivery\n",
        "df['delayed']=df['order_delivered_customer_date'] > df['order_estimated_delivery_date']\n",
        "\n",
        "relative_frequency = df['delayed'].value_counts() / len(df['delayed'])\n",
        "relative_frequency"
      ],
      "metadata": {
        "colab": {
          "base_uri": "https://localhost:8080/"
        },
        "id": "TpxSY5hiCjo3",
        "outputId": "96a96616-5c2a-4041-9b89-fcad90699298"
      },
      "execution_count": 135,
      "outputs": [
        {
          "output_type": "execute_result",
          "data": {
            "text/plain": [
              "False    0.922859\n",
              "True     0.077141\n",
              "Name: delayed, dtype: float64"
            ]
          },
          "metadata": {},
          "execution_count": 135
        }
      ]
    },
    {
      "cell_type": "markdown",
      "source": [
        "Terjadi keterlambatan sebesar 7% dari total delivery."
      ],
      "metadata": {
        "id": "u3zTFE8dITaH"
      }
    },
    {
      "cell_type": "code",
      "source": [
        "jml_terlambat = df['delayed'].sum()\n",
        "\n",
        "print ('Jumlah order terlambat : ', jml_terlambat)"
      ],
      "metadata": {
        "colab": {
          "base_uri": "https://localhost:8080/"
        },
        "id": "4YPpqrDAEAim",
        "outputId": "31e82cfa-c035-46dc-bd46-24f7056df509"
      },
      "execution_count": 136,
      "outputs": [
        {
          "output_type": "stream",
          "name": "stdout",
          "text": [
            "Jumlah order terlambat :  8859\n"
          ]
        }
      ]
    },
    {
      "cell_type": "markdown",
      "source": [
        "## Visualization & Explanatory Analysis"
      ],
      "metadata": {
        "id": "SCNmtOLp9OKB"
      }
    },
    {
      "cell_type": "markdown",
      "source": [
        "### Pertanyaan 1 : Bagaimana Performa Penjualan dan Revenue Perusahaan dalam Beberapa Bulan Terakhir?"
      ],
      "metadata": {
        "id": "SG59_Fbj9Qr6"
      }
    },
    {
      "cell_type": "code",
      "source": [
        "# Membuat dataframe yang berisi bulan pembelian, jumlah order serta total revenue :\n",
        "\n",
        "monthly_orders_df = df.resample(rule='M', on='order_purchase_timestamp').agg({\n",
        "    \"order_id\": \"nunique\",\n",
        "    \"payment_value\": \"sum\"\n",
        "})\n",
        "monthly_orders_df.index = monthly_orders_df.index.strftime('%Y-%m')\n",
        "monthly_orders_df = monthly_orders_df.reset_index()\n",
        "monthly_orders_df.rename(columns={\n",
        "    \"order_id\": \"order_count\",\n",
        "    \"payment_value\": \"revenue\"\n",
        "}, inplace=True)\n",
        "monthly_orders_df.tail()"
      ],
      "metadata": {
        "id": "dtRoaxqd9PdU",
        "colab": {
          "base_uri": "https://localhost:8080/",
          "height": 206
        },
        "outputId": "68cc82f1-4a41-4766-de60-b3b4be4d7ea9"
      },
      "execution_count": 137,
      "outputs": [
        {
          "output_type": "execute_result",
          "data": {
            "text/plain": [
              "   order_purchase_timestamp  order_count     revenue\n",
              "18                  2018-04         6752  1459554.40\n",
              "19                  2018-05         6722  1472433.91\n",
              "20                  2018-06         6072  1281746.42\n",
              "21                  2018-07         6118  1294444.31\n",
              "22                  2018-08         6330  1207183.23"
            ],
            "text/html": [
              "\n",
              "  <div id=\"df-df123dd6-8e8d-42a9-ade9-811d58c491ba\" class=\"colab-df-container\">\n",
              "    <div>\n",
              "<style scoped>\n",
              "    .dataframe tbody tr th:only-of-type {\n",
              "        vertical-align: middle;\n",
              "    }\n",
              "\n",
              "    .dataframe tbody tr th {\n",
              "        vertical-align: top;\n",
              "    }\n",
              "\n",
              "    .dataframe thead th {\n",
              "        text-align: right;\n",
              "    }\n",
              "</style>\n",
              "<table border=\"1\" class=\"dataframe\">\n",
              "  <thead>\n",
              "    <tr style=\"text-align: right;\">\n",
              "      <th></th>\n",
              "      <th>order_purchase_timestamp</th>\n",
              "      <th>order_count</th>\n",
              "      <th>revenue</th>\n",
              "    </tr>\n",
              "  </thead>\n",
              "  <tbody>\n",
              "    <tr>\n",
              "      <th>18</th>\n",
              "      <td>2018-04</td>\n",
              "      <td>6752</td>\n",
              "      <td>1459554.40</td>\n",
              "    </tr>\n",
              "    <tr>\n",
              "      <th>19</th>\n",
              "      <td>2018-05</td>\n",
              "      <td>6722</td>\n",
              "      <td>1472433.91</td>\n",
              "    </tr>\n",
              "    <tr>\n",
              "      <th>20</th>\n",
              "      <td>2018-06</td>\n",
              "      <td>6072</td>\n",
              "      <td>1281746.42</td>\n",
              "    </tr>\n",
              "    <tr>\n",
              "      <th>21</th>\n",
              "      <td>2018-07</td>\n",
              "      <td>6118</td>\n",
              "      <td>1294444.31</td>\n",
              "    </tr>\n",
              "    <tr>\n",
              "      <th>22</th>\n",
              "      <td>2018-08</td>\n",
              "      <td>6330</td>\n",
              "      <td>1207183.23</td>\n",
              "    </tr>\n",
              "  </tbody>\n",
              "</table>\n",
              "</div>\n",
              "    <div class=\"colab-df-buttons\">\n",
              "\n",
              "  <div class=\"colab-df-container\">\n",
              "    <button class=\"colab-df-convert\" onclick=\"convertToInteractive('df-df123dd6-8e8d-42a9-ade9-811d58c491ba')\"\n",
              "            title=\"Convert this dataframe to an interactive table.\"\n",
              "            style=\"display:none;\">\n",
              "\n",
              "  <svg xmlns=\"http://www.w3.org/2000/svg\" height=\"24px\" viewBox=\"0 -960 960 960\">\n",
              "    <path d=\"M120-120v-720h720v720H120Zm60-500h600v-160H180v160Zm220 220h160v-160H400v160Zm0 220h160v-160H400v160ZM180-400h160v-160H180v160Zm440 0h160v-160H620v160ZM180-180h160v-160H180v160Zm440 0h160v-160H620v160Z\"/>\n",
              "  </svg>\n",
              "    </button>\n",
              "\n",
              "  <style>\n",
              "    .colab-df-container {\n",
              "      display:flex;\n",
              "      gap: 12px;\n",
              "    }\n",
              "\n",
              "    .colab-df-convert {\n",
              "      background-color: #E8F0FE;\n",
              "      border: none;\n",
              "      border-radius: 50%;\n",
              "      cursor: pointer;\n",
              "      display: none;\n",
              "      fill: #1967D2;\n",
              "      height: 32px;\n",
              "      padding: 0 0 0 0;\n",
              "      width: 32px;\n",
              "    }\n",
              "\n",
              "    .colab-df-convert:hover {\n",
              "      background-color: #E2EBFA;\n",
              "      box-shadow: 0px 1px 2px rgba(60, 64, 67, 0.3), 0px 1px 3px 1px rgba(60, 64, 67, 0.15);\n",
              "      fill: #174EA6;\n",
              "    }\n",
              "\n",
              "    .colab-df-buttons div {\n",
              "      margin-bottom: 4px;\n",
              "    }\n",
              "\n",
              "    [theme=dark] .colab-df-convert {\n",
              "      background-color: #3B4455;\n",
              "      fill: #D2E3FC;\n",
              "    }\n",
              "\n",
              "    [theme=dark] .colab-df-convert:hover {\n",
              "      background-color: #434B5C;\n",
              "      box-shadow: 0px 1px 3px 1px rgba(0, 0, 0, 0.15);\n",
              "      filter: drop-shadow(0px 1px 2px rgba(0, 0, 0, 0.3));\n",
              "      fill: #FFFFFF;\n",
              "    }\n",
              "  </style>\n",
              "\n",
              "    <script>\n",
              "      const buttonEl =\n",
              "        document.querySelector('#df-df123dd6-8e8d-42a9-ade9-811d58c491ba button.colab-df-convert');\n",
              "      buttonEl.style.display =\n",
              "        google.colab.kernel.accessAllowed ? 'block' : 'none';\n",
              "\n",
              "      async function convertToInteractive(key) {\n",
              "        const element = document.querySelector('#df-df123dd6-8e8d-42a9-ade9-811d58c491ba');\n",
              "        const dataTable =\n",
              "          await google.colab.kernel.invokeFunction('convertToInteractive',\n",
              "                                                    [key], {});\n",
              "        if (!dataTable) return;\n",
              "\n",
              "        const docLinkHtml = 'Like what you see? Visit the ' +\n",
              "          '<a target=\"_blank\" href=https://colab.research.google.com/notebooks/data_table.ipynb>data table notebook</a>'\n",
              "          + ' to learn more about interactive tables.';\n",
              "        element.innerHTML = '';\n",
              "        dataTable['output_type'] = 'display_data';\n",
              "        await google.colab.output.renderOutput(dataTable, element);\n",
              "        const docLink = document.createElement('div');\n",
              "        docLink.innerHTML = docLinkHtml;\n",
              "        element.appendChild(docLink);\n",
              "      }\n",
              "    </script>\n",
              "  </div>\n",
              "\n",
              "\n",
              "<div id=\"df-e6de8877-03c9-44ee-b26f-b3d9ea001902\">\n",
              "  <button class=\"colab-df-quickchart\" onclick=\"quickchart('df-e6de8877-03c9-44ee-b26f-b3d9ea001902')\"\n",
              "            title=\"Suggest charts\"\n",
              "            style=\"display:none;\">\n",
              "\n",
              "<svg xmlns=\"http://www.w3.org/2000/svg\" height=\"24px\"viewBox=\"0 0 24 24\"\n",
              "     width=\"24px\">\n",
              "    <g>\n",
              "        <path d=\"M19 3H5c-1.1 0-2 .9-2 2v14c0 1.1.9 2 2 2h14c1.1 0 2-.9 2-2V5c0-1.1-.9-2-2-2zM9 17H7v-7h2v7zm4 0h-2V7h2v10zm4 0h-2v-4h2v4z\"/>\n",
              "    </g>\n",
              "</svg>\n",
              "  </button>\n",
              "\n",
              "<style>\n",
              "  .colab-df-quickchart {\n",
              "      --bg-color: #E8F0FE;\n",
              "      --fill-color: #1967D2;\n",
              "      --hover-bg-color: #E2EBFA;\n",
              "      --hover-fill-color: #174EA6;\n",
              "      --disabled-fill-color: #AAA;\n",
              "      --disabled-bg-color: #DDD;\n",
              "  }\n",
              "\n",
              "  [theme=dark] .colab-df-quickchart {\n",
              "      --bg-color: #3B4455;\n",
              "      --fill-color: #D2E3FC;\n",
              "      --hover-bg-color: #434B5C;\n",
              "      --hover-fill-color: #FFFFFF;\n",
              "      --disabled-bg-color: #3B4455;\n",
              "      --disabled-fill-color: #666;\n",
              "  }\n",
              "\n",
              "  .colab-df-quickchart {\n",
              "    background-color: var(--bg-color);\n",
              "    border: none;\n",
              "    border-radius: 50%;\n",
              "    cursor: pointer;\n",
              "    display: none;\n",
              "    fill: var(--fill-color);\n",
              "    height: 32px;\n",
              "    padding: 0;\n",
              "    width: 32px;\n",
              "  }\n",
              "\n",
              "  .colab-df-quickchart:hover {\n",
              "    background-color: var(--hover-bg-color);\n",
              "    box-shadow: 0 1px 2px rgba(60, 64, 67, 0.3), 0 1px 3px 1px rgba(60, 64, 67, 0.15);\n",
              "    fill: var(--button-hover-fill-color);\n",
              "  }\n",
              "\n",
              "  .colab-df-quickchart-complete:disabled,\n",
              "  .colab-df-quickchart-complete:disabled:hover {\n",
              "    background-color: var(--disabled-bg-color);\n",
              "    fill: var(--disabled-fill-color);\n",
              "    box-shadow: none;\n",
              "  }\n",
              "\n",
              "  .colab-df-spinner {\n",
              "    border: 2px solid var(--fill-color);\n",
              "    border-color: transparent;\n",
              "    border-bottom-color: var(--fill-color);\n",
              "    animation:\n",
              "      spin 1s steps(1) infinite;\n",
              "  }\n",
              "\n",
              "  @keyframes spin {\n",
              "    0% {\n",
              "      border-color: transparent;\n",
              "      border-bottom-color: var(--fill-color);\n",
              "      border-left-color: var(--fill-color);\n",
              "    }\n",
              "    20% {\n",
              "      border-color: transparent;\n",
              "      border-left-color: var(--fill-color);\n",
              "      border-top-color: var(--fill-color);\n",
              "    }\n",
              "    30% {\n",
              "      border-color: transparent;\n",
              "      border-left-color: var(--fill-color);\n",
              "      border-top-color: var(--fill-color);\n",
              "      border-right-color: var(--fill-color);\n",
              "    }\n",
              "    40% {\n",
              "      border-color: transparent;\n",
              "      border-right-color: var(--fill-color);\n",
              "      border-top-color: var(--fill-color);\n",
              "    }\n",
              "    60% {\n",
              "      border-color: transparent;\n",
              "      border-right-color: var(--fill-color);\n",
              "    }\n",
              "    80% {\n",
              "      border-color: transparent;\n",
              "      border-right-color: var(--fill-color);\n",
              "      border-bottom-color: var(--fill-color);\n",
              "    }\n",
              "    90% {\n",
              "      border-color: transparent;\n",
              "      border-bottom-color: var(--fill-color);\n",
              "    }\n",
              "  }\n",
              "</style>\n",
              "\n",
              "  <script>\n",
              "    async function quickchart(key) {\n",
              "      const quickchartButtonEl =\n",
              "        document.querySelector('#' + key + ' button');\n",
              "      quickchartButtonEl.disabled = true;  // To prevent multiple clicks.\n",
              "      quickchartButtonEl.classList.add('colab-df-spinner');\n",
              "      try {\n",
              "        const charts = await google.colab.kernel.invokeFunction(\n",
              "            'suggestCharts', [key], {});\n",
              "      } catch (error) {\n",
              "        console.error('Error during call to suggestCharts:', error);\n",
              "      }\n",
              "      quickchartButtonEl.classList.remove('colab-df-spinner');\n",
              "      quickchartButtonEl.classList.add('colab-df-quickchart-complete');\n",
              "    }\n",
              "    (() => {\n",
              "      let quickchartButtonEl =\n",
              "        document.querySelector('#df-e6de8877-03c9-44ee-b26f-b3d9ea001902 button');\n",
              "      quickchartButtonEl.style.display =\n",
              "        google.colab.kernel.accessAllowed ? 'block' : 'none';\n",
              "    })();\n",
              "  </script>\n",
              "</div>\n",
              "    </div>\n",
              "  </div>\n"
            ]
          },
          "metadata": {},
          "execution_count": 137
        }
      ]
    },
    {
      "cell_type": "code",
      "source": [
        "plt.figure(figsize=(12, 5))\n",
        "plt.plot(monthly_orders_df[\"order_purchase_timestamp\"], monthly_orders_df[\"order_count\"], marker='o', linewidth=2, color=\"#72BCD4\")\n",
        "plt.title(\"Number of Orders per Month\", loc=\"center\", fontsize=15)\n",
        "plt.xticks(rotation=45,fontsize=8)\n",
        "plt.yticks(fontsize=8)\n",
        "plt.show()"
      ],
      "metadata": {
        "colab": {
          "base_uri": "https://localhost:8080/",
          "height": 322
        },
        "id": "v8d1l0qY4D2i",
        "outputId": "ddaf7dd9-27d9-40f2-e7ea-579d20b5078f"
      },
      "execution_count": 138,
      "outputs": [
        {
          "output_type": "display_data",
          "data": {
            "text/plain": [
              "<Figure size 1200x500 with 1 Axes>"
            ],
            "image/png": "[encoded data removed]"
          },
          "metadata": {}
        }
      ]
    },
    {
      "cell_type": "markdown",
      "source": [
        "Order terbanyak terjadi di bulan November 2017, sedangkan penurunan order yang signifikan terjadi di bulan Desember 2017, Februari 2018, dan Juni 2018. Hal ini tentu berdampak pada total revenue perusahaan di bulan-bulan tersebut. Maka perlu validasi untuk melihat apakah benar terjadi penurunan revenue."
      ],
      "metadata": {
        "id": "lt97K9Y66iG_"
      }
    },
    {
      "cell_type": "code",
      "source": [
        "plt.figure(figsize=(12, 5))\n",
        "plt.plot(\n",
        "    monthly_orders_df[\"order_purchase_timestamp\"],\n",
        "    monthly_orders_df[\"revenue\"],\n",
        "    marker='o',\n",
        "    linewidth=2,\n",
        "    color=\"#72BCD4\"\n",
        ")\n",
        "plt.title(\"Total Revenue per Month\", loc=\"center\", fontsize=15)\n",
        "plt.xticks(rotation=45, fontsize=8)\n",
        "plt.yticks(fontsize=8)\n",
        "plt.show()"
      ],
      "metadata": {
        "colab": {
          "base_uri": "https://localhost:8080/",
          "height": 325
        },
        "id": "z5SHENAv5RAN",
        "outputId": "2af52d03-861d-48fc-d219-779fa5b06058"
      },
      "execution_count": 139,
      "outputs": [
        {
          "output_type": "display_data",
          "data": {
            "text/plain": [
              "<Figure size 1200x500 with 1 Axes>"
            ],
            "image/png": "[encoded data removed]"
          },
          "metadata": {}
        }
      ]
    },
    {
      "cell_type": "markdown",
      "source": [
        "### Pertanyaan 2 : Produk Apa yang Paling Banyak dan Paling Sedikit Terjual?"
      ],
      "metadata": {
        "id": "F2Bo_ypQ9RfH"
      }
    },
    {
      "cell_type": "code",
      "source": [
        "# Membuat dataframe jumlah order per item produk berdasarkan categori produk:\n",
        "\n",
        "sum_order_items_df = df.groupby(\"product_category_name_english\").order_item_id.sum().sort_values(ascending=False).reset_index()\n",
        "sum_order_items_df.rename(columns={\"product_category_name_english\":\"product_category\", \"order_item_id\":\"quantity\"}, inplace=True)\n",
        "sum_order_items_df.head(15)"
      ],
      "metadata": {
        "colab": {
          "base_uri": "https://localhost:8080/",
          "height": 520
        },
        "id": "mQqCXo6p8sMW",
        "outputId": "f2c6c9b1-a9b7-4396-edf3-debd79fbda01"
      },
      "execution_count": 140,
      "outputs": [
        {
          "output_type": "execute_result",
          "data": {
            "text/plain": [
              "         product_category  quantity\n",
              "0          bed_bath_table   16347.0\n",
              "1         furniture_decor   11785.0\n",
              "2           health_beauty   11146.0\n",
              "3          sports_leisure   10041.0\n",
              "4   computers_accessories   10002.0\n",
              "5              housewares    9275.0\n",
              "6           watches_gifts    6631.0\n",
              "7            garden_tools    5977.0\n",
              "8               telephony    5191.0\n",
              "9                    auto    4714.0\n",
              "10                   toys    4493.0\n",
              "11             cool_stuff    4176.0\n",
              "12              perfumery    3868.0\n",
              "13                   baby    3454.0\n",
              "14            electronics    3113.0"
            ],
            "text/html": [
              "\n",
              "  <div id=\"df-84f8a6e5-f9af-4807-8eea-a89b9ce6ed85\" class=\"colab-df-container\">\n",
              "    <div>\n",
              "<style scoped>\n",
              "    .dataframe tbody tr th:only-of-type {\n",
              "        vertical-align: middle;\n",
              "    }\n",
              "\n",
              "    .dataframe tbody tr th {\n",
              "        vertical-align: top;\n",
              "    }\n",
              "\n",
              "    .dataframe thead th {\n",
              "        text-align: right;\n",
              "    }\n",
              "</style>\n",
              "<table border=\"1\" class=\"dataframe\">\n",
              "  <thead>\n",
              "    <tr style=\"text-align: right;\">\n",
              "      <th></th>\n",
              "      <th>product_category</th>\n",
              "      <th>quantity</th>\n",
              "    </tr>\n",
              "  </thead>\n",
              "  <tbody>\n",
              "    <tr>\n",
              "      <th>0</th>\n",
              "      <td>bed_bath_table</td>\n",
              "      <td>16347.0</td>\n",
              "    </tr>\n",
              "    <tr>\n",
              "      <th>1</th>\n",
              "      <td>furniture_decor</td>\n",
              "      <td>11785.0</td>\n",
              "    </tr>\n",
              "    <tr>\n",
              "      <th>2</th>\n",
              "      <td>health_beauty</td>\n",
              "      <td>11146.0</td>\n",
              "    </tr>\n",
              "    <tr>\n",
              "      <th>3</th>\n",
              "      <td>sports_leisure</td>\n",
              "      <td>10041.0</td>\n",
              "    </tr>\n",
              "    <tr>\n",
              "      <th>4</th>\n",
              "      <td>computers_accessories</td>\n",
              "      <td>10002.0</td>\n",
              "    </tr>\n",
              "    <tr>\n",
              "      <th>5</th>\n",
              "      <td>housewares</td>\n",
              "      <td>9275.0</td>\n",
              "    </tr>\n",
              "    <tr>\n",
              "      <th>6</th>\n",
              "      <td>watches_gifts</td>\n",
              "      <td>6631.0</td>\n",
              "    </tr>\n",
              "    <tr>\n",
              "      <th>7</th>\n",
              "      <td>garden_tools</td>\n",
              "      <td>5977.0</td>\n",
              "    </tr>\n",
              "    <tr>\n",
              "      <th>8</th>\n",
              "      <td>telephony</td>\n",
              "      <td>5191.0</td>\n",
              "    </tr>\n",
              "    <tr>\n",
              "      <th>9</th>\n",
              "      <td>auto</td>\n",
              "      <td>4714.0</td>\n",
              "    </tr>\n",
              "    <tr>\n",
              "      <th>10</th>\n",
              "      <td>toys</td>\n",
              "      <td>4493.0</td>\n",
              "    </tr>\n",
              "    <tr>\n",
              "      <th>11</th>\n",
              "      <td>cool_stuff</td>\n",
              "      <td>4176.0</td>\n",
              "    </tr>\n",
              "    <tr>\n",
              "      <th>12</th>\n",
              "      <td>perfumery</td>\n",
              "      <td>3868.0</td>\n",
              "    </tr>\n",
              "    <tr>\n",
              "      <th>13</th>\n",
              "      <td>baby</td>\n",
              "      <td>3454.0</td>\n",
              "    </tr>\n",
              "    <tr>\n",
              "      <th>14</th>\n",
              "      <td>electronics</td>\n",
              "      <td>3113.0</td>\n",
              "    </tr>\n",
              "  </tbody>\n",
              "</table>\n",
              "</div>\n",
              "    <div class=\"colab-df-buttons\">\n",
              "\n",
              "  <div class=\"colab-df-container\">\n",
              "    <button class=\"colab-df-convert\" onclick=\"convertToInteractive('df-84f8a6e5-f9af-4807-8eea-a89b9ce6ed85')\"\n",
              "            title=\"Convert this dataframe to an interactive table.\"\n",
              "            style=\"display:none;\">\n",
              "\n",
              "  <svg xmlns=\"http://www.w3.org/2000/svg\" height=\"24px\" viewBox=\"0 -960 960 960\">\n",
              "    <path d=\"M120-120v-720h720v720H120Zm60-500h600v-160H180v160Zm220 220h160v-160H400v160Zm0 220h160v-160H400v160ZM180-400h160v-160H180v160Zm440 0h160v-160H620v160ZM180-180h160v-160H180v160Zm440 0h160v-160H620v160Z\"/>\n",
              "  </svg>\n",
              "    </button>\n",
              "\n",
              "  <style>\n",
              "    .colab-df-container {\n",
              "      display:flex;\n",
              "      gap: 12px;\n",
              "    }\n",
              "\n",
              "    .colab-df-convert {\n",
              "      background-color: #E8F0FE;\n",
              "      border: none;\n",
              "      border-radius: 50%;\n",
              "      cursor: pointer;\n",
              "      display: none;\n",
              "      fill: #1967D2;\n",
              "      height: 32px;\n",
              "      padding: 0 0 0 0;\n",
              "      width: 32px;\n",
              "    }\n",
              "\n",
              "    .colab-df-convert:hover {\n",
              "      background-color: #E2EBFA;\n",
              "      box-shadow: 0px 1px 2px rgba(60, 64, 67, 0.3), 0px 1px 3px 1px rgba(60, 64, 67, 0.15);\n",
              "      fill: #174EA6;\n",
              "    }\n",
              "\n",
              "    .colab-df-buttons div {\n",
              "      margin-bottom: 4px;\n",
              "    }\n",
              "\n",
              "    [theme=dark] .colab-df-convert {\n",
              "      background-color: #3B4455;\n",
              "      fill: #D2E3FC;\n",
              "    }\n",
              "\n",
              "    [theme=dark] .colab-df-convert:hover {\n",
              "      background-color: #434B5C;\n",
              "      box-shadow: 0px 1px 3px 1px rgba(0, 0, 0, 0.15);\n",
              "      filter: drop-shadow(0px 1px 2px rgba(0, 0, 0, 0.3));\n",
              "      fill: #FFFFFF;\n",
              "    }\n",
              "  </style>\n",
              "\n",
              "    <script>\n",
              "      const buttonEl =\n",
              "        document.querySelector('#df-84f8a6e5-f9af-4807-8eea-a89b9ce6ed85 button.colab-df-convert');\n",
              "      buttonEl.style.display =\n",
              "        google.colab.kernel.accessAllowed ? 'block' : 'none';\n",
              "\n",
              "      async function convertToInteractive(key) {\n",
              "        const element = document.querySelector('#df-84f8a6e5-f9af-4807-8eea-a89b9ce6ed85');\n",
              "        const dataTable =\n",
              "          await google.colab.kernel.invokeFunction('convertToInteractive',\n",
              "                                                    [key], {});\n",
              "        if (!dataTable) return;\n",
              "\n",
              "        const docLinkHtml = 'Like what you see? Visit the ' +\n",
              "          '<a target=\"_blank\" href=https://colab.research.google.com/notebooks/data_table.ipynb>data table notebook</a>'\n",
              "          + ' to learn more about interactive tables.';\n",
              "        element.innerHTML = '';\n",
              "        dataTable['output_type'] = 'display_data';\n",
              "        await google.colab.output.renderOutput(dataTable, element);\n",
              "        const docLink = document.createElement('div');\n",
              "        docLink.innerHTML = docLinkHtml;\n",
              "        element.appendChild(docLink);\n",
              "      }\n",
              "    </script>\n",
              "  </div>\n",
              "\n",
              "\n",
              "<div id=\"df-5d64e2d1-c101-4540-8a72-3d7a57fe0a6c\">\n",
              "  <button class=\"colab-df-quickchart\" onclick=\"quickchart('df-5d64e2d1-c101-4540-8a72-3d7a57fe0a6c')\"\n",
              "            title=\"Suggest charts\"\n",
              "            style=\"display:none;\">\n",
              "\n",
              "<svg xmlns=\"http://www.w3.org/2000/svg\" height=\"24px\"viewBox=\"0 0 24 24\"\n",
              "     width=\"24px\">\n",
              "    <g>\n",
              "        <path d=\"M19 3H5c-1.1 0-2 .9-2 2v14c0 1.1.9 2 2 2h14c1.1 0 2-.9 2-2V5c0-1.1-.9-2-2-2zM9 17H7v-7h2v7zm4 0h-2V7h2v10zm4 0h-2v-4h2v4z\"/>\n",
              "    </g>\n",
              "</svg>\n",
              "  </button>\n",
              "\n",
              "<style>\n",
              "  .colab-df-quickchart {\n",
              "      --bg-color: #E8F0FE;\n",
              "      --fill-color: #1967D2;\n",
              "      --hover-bg-color: #E2EBFA;\n",
              "      --hover-fill-color: #174EA6;\n",
              "      --disabled-fill-color: #AAA;\n",
              "      --disabled-bg-color: #DDD;\n",
              "  }\n",
              "\n",
              "  [theme=dark] .colab-df-quickchart {\n",
              "      --bg-color: #3B4455;\n",
              "      --fill-color: #D2E3FC;\n",
              "      --hover-bg-color: #434B5C;\n",
              "      --hover-fill-color: #FFFFFF;\n",
              "      --disabled-bg-color: #3B4455;\n",
              "      --disabled-fill-color: #666;\n",
              "  }\n",
              "\n",
              "  .colab-df-quickchart {\n",
              "    background-color: var(--bg-color);\n",
              "    border: none;\n",
              "    border-radius: 50%;\n",
              "    cursor: pointer;\n",
              "    display: none;\n",
              "    fill: var(--fill-color);\n",
              "    height: 32px;\n",
              "    padding: 0;\n",
              "    width: 32px;\n",
              "  }\n",
              "\n",
              "  .colab-df-quickchart:hover {\n",
              "    background-color: var(--hover-bg-color);\n",
              "    box-shadow: 0 1px 2px rgba(60, 64, 67, 0.3), 0 1px 3px 1px rgba(60, 64, 67, 0.15);\n",
              "    fill: var(--button-hover-fill-color);\n",
              "  }\n",
              "\n",
              "  .colab-df-quickchart-complete:disabled,\n",
              "  .colab-df-quickchart-complete:disabled:hover {\n",
              "    background-color: var(--disabled-bg-color);\n",
              "    fill: var(--disabled-fill-color);\n",
              "    box-shadow: none;\n",
              "  }\n",
              "\n",
              "  .colab-df-spinner {\n",
              "    border: 2px solid var(--fill-color);\n",
              "    border-color: transparent;\n",
              "    border-bottom-color: var(--fill-color);\n",
              "    animation:\n",
              "      spin 1s steps(1) infinite;\n",
              "  }\n",
              "\n",
              "  @keyframes spin {\n",
              "    0% {\n",
              "      border-color: transparent;\n",
              "      border-bottom-color: var(--fill-color);\n",
              "      border-left-color: var(--fill-color);\n",
              "    }\n",
              "    20% {\n",
              "      border-color: transparent;\n",
              "      border-left-color: var(--fill-color);\n",
              "      border-top-color: var(--fill-color);\n",
              "    }\n",
              "    30% {\n",
              "      border-color: transparent;\n",
              "      border-left-color: var(--fill-color);\n",
              "      border-top-color: var(--fill-color);\n",
              "      border-right-color: var(--fill-color);\n",
              "    }\n",
              "    40% {\n",
              "      border-color: transparent;\n",
              "      border-right-color: var(--fill-color);\n",
              "      border-top-color: var(--fill-color);\n",
              "    }\n",
              "    60% {\n",
              "      border-color: transparent;\n",
              "      border-right-color: var(--fill-color);\n",
              "    }\n",
              "    80% {\n",
              "      border-color: transparent;\n",
              "      border-right-color: var(--fill-color);\n",
              "      border-bottom-color: var(--fill-color);\n",
              "    }\n",
              "    90% {\n",
              "      border-color: transparent;\n",
              "      border-bottom-color: var(--fill-color);\n",
              "    }\n",
              "  }\n",
              "</style>\n",
              "\n",
              "  <script>\n",
              "    async function quickchart(key) {\n",
              "      const quickchartButtonEl =\n",
              "        document.querySelector('#' + key + ' button');\n",
              "      quickchartButtonEl.disabled = true;  // To prevent multiple clicks.\n",
              "      quickchartButtonEl.classList.add('colab-df-spinner');\n",
              "      try {\n",
              "        const charts = await google.colab.kernel.invokeFunction(\n",
              "            'suggestCharts', [key], {});\n",
              "      } catch (error) {\n",
              "        console.error('Error during call to suggestCharts:', error);\n",
              "      }\n",
              "      quickchartButtonEl.classList.remove('colab-df-spinner');\n",
              "      quickchartButtonEl.classList.add('colab-df-quickchart-complete');\n",
              "    }\n",
              "    (() => {\n",
              "      let quickchartButtonEl =\n",
              "        document.querySelector('#df-5d64e2d1-c101-4540-8a72-3d7a57fe0a6c button');\n",
              "      quickchartButtonEl.style.display =\n",
              "        google.colab.kernel.accessAllowed ? 'block' : 'none';\n",
              "    })();\n",
              "  </script>\n",
              "</div>\n",
              "    </div>\n",
              "  </div>\n"
            ]
          },
          "metadata": {},
          "execution_count": 140
        }
      ]
    },
    {
      "cell_type": "code",
      "source": [
        "# Membuat visualisasi untuk kategori \"Best & Worst Performing Product by Number of Sales\"\n",
        "\n",
        "fig, ax = plt.subplots(nrows=1, ncols=2, figsize=(24, 6))\n",
        "\n",
        "colors = [\"#72BCD4\", \"#D3D3D3\", \"#D3D3D3\", \"#D3D3D3\", \"#D3D3D3\"]\n",
        "\n",
        "sns.barplot(x=\"quantity\", y=\"product_category\", data=sum_order_items_df.head(5), palette=colors, ax=ax[0])\n",
        "ax[0].set_ylabel(None)\n",
        "ax[0].set_xlabel(None)\n",
        "ax[0].set_title(\"Best Performing Product\", loc=\"center\", fontsize=15)\n",
        "ax[0].tick_params(axis ='y', labelsize=12)\n",
        "\n",
        "sns.barplot(x=\"quantity\", y=\"product_category\", data=sum_order_items_df.sort_values(by=\"quantity\", ascending=True).head(5), palette=colors, ax=ax[1])\n",
        "ax[1].set_ylabel(None)\n",
        "ax[1].set_xlabel(None)\n",
        "ax[1].invert_xaxis()\n",
        "ax[1].yaxis.set_label_position(\"right\")\n",
        "ax[1].yaxis.tick_right()\n",
        "ax[1].set_title(\"Worst Performing Product\", loc=\"center\", fontsize=15)\n",
        "ax[1].tick_params(axis='y', labelsize=12)\n",
        "\n",
        "plt.suptitle(\"Best and Worst Performing Product by Number of Sales\", fontsize=20)\n",
        "plt.show()"
      ],
      "metadata": {
        "id": "jkO5kTJq9S1Y",
        "colab": {
          "base_uri": "https://localhost:8080/",
          "height": 171
        },
        "outputId": "e6936e2a-5442-497d-a0c4-093cc37a0b82"
      },
      "execution_count": 141,
      "outputs": [
        {
          "output_type": "display_data",
          "data": {
            "text/plain": [
              "<Figure size 2400x600 with 2 Axes>"
            ],
            "image/png": "[encoded data removed]"
          },
          "metadata": {}
        }
      ]
    },
    {
      "cell_type": "markdown",
      "source": [
        "### Pertanyaan 3, 4, 5\n",
        "- Kapan terakhir pelanggan melakukan transaksi?\n",
        "- Seberapa sering seorang pelanggan melakukan pembelian dalam beberapa bulan terakhir?\n",
        "- Berapa banyak uang yang dihabiskan pelanggan dalam beberapa bulan terakhir?\n",
        "\n",
        "Untuk menjawab ketiga pertanyaan ini akan dilakukan RFM analysis, dimana RFM analysis merupakan salah satu metode yang umum digunakan untuk melakukan segmentasi pelanggan (mengelompokkan pelanggan ke dalam beberapa kategori) berdasarkan tiga parameter, yaitu recency, frequency, dan monetary.\n",
        "\n",
        "- Recency: parameter yang digunakan untuk melihat kapan terakhir seorang pelanggan melakukan transaksi.\n",
        "- Frequency: parameter ini digunakan untuk mengidentifikasi seberapa sering seorang pelanggan melakukan transaksi.\n",
        "- Monetary: parameter terakhir ini digunakan untuk mengidentifikasi seberapa besar revenue yang berasal dari pelanggan tersebut.\n",
        "\n",
        "Berdasarkan tiga parameter tersebut, kita bisa mengidentifikasi pelanggan mana yang memiliki high value (sering melakukan transaksi dan menghasilkan revenue yang besar) dan low value."
      ],
      "metadata": {
        "id": "c04wFEF_B97o"
      }
    },
    {
      "cell_type": "code",
      "source": [
        "# Membuat dataframe baru untuk menampung informasi terkait 3 parameter tersebut :\n",
        "\n",
        "rfm_df = df.groupby(by='customer_id', as_index=False).agg({\n",
        "    'order_purchase_timestamp': 'max', # mengambil tanggal order terakhir\n",
        "    'order_id': 'nunique', # menghitung jumlah order\n",
        "    'payment_value': 'sum' # menghitung jumlah revenue yang dihasilkan\n",
        "})\n",
        "rfm_df.columns = ['customer_id', 'max_order_timestamp', 'frequency', 'monetary']\n",
        "\n",
        "# menghitung kapan terakhir pelanggan melakukan transaksi (hari)\n",
        "rfm_df['max_order_timestamp'] = rfm_df['max_order_timestamp'].dt.date\n",
        "recent_date = df['order_purchase_timestamp'].dt.date.max()\n",
        "rfm_df['recency'] = rfm_df['max_order_timestamp'].apply(lambda x: (recent_date - x).days)\n",
        "\n",
        "rfm_df.drop('max_order_timestamp', axis=1, inplace=True)\n",
        "rfm_df"
      ],
      "metadata": {
        "colab": {
          "base_uri": "https://localhost:8080/",
          "height": 423
        },
        "id": "jOO0BZE4CP7M",
        "outputId": "0b2d3c8d-5741-45ee-9716-3790ecbb525f"
      },
      "execution_count": 142,
      "outputs": [
        {
          "output_type": "execute_result",
          "data": {
            "text/plain": [
              "                            customer_id  frequency  monetary  recency\n",
              "0      00012a2ce6f8dcda20d059ce98491703          1    114.74      288\n",
              "1      000161a058600d5901f007fab4c27140          1     67.41      409\n",
              "2      0001fd6190edaaf884bcaf3d49edf079          1    195.42      547\n",
              "3      0002414f95344307404f0ace7a26f1d5          1    179.35      378\n",
              "4      000379cdec625522490c315e70c7a9fb          1    107.01      149\n",
              "...                                 ...        ...       ...      ...\n",
              "95809  fffcb937e9dd47a13f05ecb8290f4d3e          1     91.91      165\n",
              "95810  fffecc9f79fd8c764f843e9951b11341          1     81.36      153\n",
              "95811  fffeda5b6d849fbd39689bb92087f431          1     63.13       99\n",
              "95812  ffff42319e9b2d713724ae527742af25          1    214.13       77\n",
              "95813  ffffa3172527f765de70084a7e53aae8          1     91.00      361\n",
              "\n",
              "[95814 rows x 4 columns]"
            ],
            "text/html": [
              "\n",
              "  <div id=\"df-2c1377fc-f505-4dbe-8794-25a954c7ea8b\" class=\"colab-df-container\">\n",
              "    <div>\n",
              "<style scoped>\n",
              "    .dataframe tbody tr th:only-of-type {\n",
              "        vertical-align: middle;\n",
              "    }\n",
              "\n",
              "    .dataframe tbody tr th {\n",
              "        vertical-align: top;\n",
              "    }\n",
              "\n",
              "    .dataframe thead th {\n",
              "        text-align: right;\n",
              "    }\n",
              "</style>\n",
              "<table border=\"1\" class=\"dataframe\">\n",
              "  <thead>\n",
              "    <tr style=\"text-align: right;\">\n",
              "      <th></th>\n",
              "      <th>customer_id</th>\n",
              "      <th>frequency</th>\n",
              "      <th>monetary</th>\n",
              "      <th>recency</th>\n",
              "    </tr>\n",
              "  </thead>\n",
              "  <tbody>\n",
              "    <tr>\n",
              "      <th>0</th>\n",
              "      <td>00012a2ce6f8dcda20d059ce98491703</td>\n",
              "      <td>1</td>\n",
              "      <td>114.74</td>\n",
              "      <td>288</td>\n",
              "    </tr>\n",
              "    <tr>\n",
              "      <th>1</th>\n",
              "      <td>000161a058600d5901f007fab4c27140</td>\n",
              "      <td>1</td>\n",
              "      <td>67.41</td>\n",
              "      <td>409</td>\n",
              "    </tr>\n",
              "    <tr>\n",
              "      <th>2</th>\n",
              "      <td>0001fd6190edaaf884bcaf3d49edf079</td>\n",
              "      <td>1</td>\n",
              "      <td>195.42</td>\n",
              "      <td>547</td>\n",
              "    </tr>\n",
              "    <tr>\n",
              "      <th>3</th>\n",
              "      <td>0002414f95344307404f0ace7a26f1d5</td>\n",
              "      <td>1</td>\n",
              "      <td>179.35</td>\n",
              "      <td>378</td>\n",
              "    </tr>\n",
              "    <tr>\n",
              "      <th>4</th>\n",
              "      <td>000379cdec625522490c315e70c7a9fb</td>\n",
              "      <td>1</td>\n",
              "      <td>107.01</td>\n",
              "      <td>149</td>\n",
              "    </tr>\n",
              "    <tr>\n",
              "      <th>...</th>\n",
              "      <td>...</td>\n",
              "      <td>...</td>\n",
              "      <td>...</td>\n",
              "      <td>...</td>\n",
              "    </tr>\n",
              "    <tr>\n",
              "      <th>95809</th>\n",
              "      <td>fffcb937e9dd47a13f05ecb8290f4d3e</td>\n",
              "      <td>1</td>\n",
              "      <td>91.91</td>\n",
              "      <td>165</td>\n",
              "    </tr>\n",
              "    <tr>\n",
              "      <th>95810</th>\n",
              "      <td>fffecc9f79fd8c764f843e9951b11341</td>\n",
              "      <td>1</td>\n",
              "      <td>81.36</td>\n",
              "      <td>153</td>\n",
              "    </tr>\n",
              "    <tr>\n",
              "      <th>95811</th>\n",
              "      <td>fffeda5b6d849fbd39689bb92087f431</td>\n",
              "      <td>1</td>\n",
              "      <td>63.13</td>\n",
              "      <td>99</td>\n",
              "    </tr>\n",
              "    <tr>\n",
              "      <th>95812</th>\n",
              "      <td>ffff42319e9b2d713724ae527742af25</td>\n",
              "      <td>1</td>\n",
              "      <td>214.13</td>\n",
              "      <td>77</td>\n",
              "    </tr>\n",
              "    <tr>\n",
              "      <th>95813</th>\n",
              "      <td>ffffa3172527f765de70084a7e53aae8</td>\n",
              "      <td>1</td>\n",
              "      <td>91.00</td>\n",
              "      <td>361</td>\n",
              "    </tr>\n",
              "  </tbody>\n",
              "</table>\n",
              "<p>95814 rows × 4 columns</p>\n",
              "</div>\n",
              "    <div class=\"colab-df-buttons\">\n",
              "\n",
              "  <div class=\"colab-df-container\">\n",
              "    <button class=\"colab-df-convert\" onclick=\"convertToInteractive('df-2c1377fc-f505-4dbe-8794-25a954c7ea8b')\"\n",
              "            title=\"Convert this dataframe to an interactive table.\"\n",
              "            style=\"display:none;\">\n",
              "\n",
              "  <svg xmlns=\"http://www.w3.org/2000/svg\" height=\"24px\" viewBox=\"0 -960 960 960\">\n",
              "    <path d=\"M120-120v-720h720v720H120Zm60-500h600v-160H180v160Zm220 220h160v-160H400v160Zm0 220h160v-160H400v160ZM180-400h160v-160H180v160Zm440 0h160v-160H620v160ZM180-180h160v-160H180v160Zm440 0h160v-160H620v160Z\"/>\n",
              "  </svg>\n",
              "    </button>\n",
              "\n",
              "  <style>\n",
              "    .colab-df-container {\n",
              "      display:flex;\n",
              "      gap: 12px;\n",
              "    }\n",
              "\n",
              "    .colab-df-convert {\n",
              "      background-color: #E8F0FE;\n",
              "      border: none;\n",
              "      border-radius: 50%;\n",
              "      cursor: pointer;\n",
              "      display: none;\n",
              "      fill: #1967D2;\n",
              "      height: 32px;\n",
              "      padding: 0 0 0 0;\n",
              "      width: 32px;\n",
              "    }\n",
              "\n",
              "    .colab-df-convert:hover {\n",
              "      background-color: #E2EBFA;\n",
              "      box-shadow: 0px 1px 2px rgba(60, 64, 67, 0.3), 0px 1px 3px 1px rgba(60, 64, 67, 0.15);\n",
              "      fill: #174EA6;\n",
              "    }\n",
              "\n",
              "    .colab-df-buttons div {\n",
              "      margin-bottom: 4px;\n",
              "    }\n",
              "\n",
              "    [theme=dark] .colab-df-convert {\n",
              "      background-color: #3B4455;\n",
              "      fill: #D2E3FC;\n",
              "    }\n",
              "\n",
              "    [theme=dark] .colab-df-convert:hover {\n",
              "      background-color: #434B5C;\n",
              "      box-shadow: 0px 1px 3px 1px rgba(0, 0, 0, 0.15);\n",
              "      filter: drop-shadow(0px 1px 2px rgba(0, 0, 0, 0.3));\n",
              "      fill: #FFFFFF;\n",
              "    }\n",
              "  </style>\n",
              "\n",
              "    <script>\n",
              "      const buttonEl =\n",
              "        document.querySelector('#df-2c1377fc-f505-4dbe-8794-25a954c7ea8b button.colab-df-convert');\n",
              "      buttonEl.style.display =\n",
              "        google.colab.kernel.accessAllowed ? 'block' : 'none';\n",
              "\n",
              "      async function convertToInteractive(key) {\n",
              "        const element = document.querySelector('#df-2c1377fc-f505-4dbe-8794-25a954c7ea8b');\n",
              "        const dataTable =\n",
              "          await google.colab.kernel.invokeFunction('convertToInteractive',\n",
              "                                                    [key], {});\n",
              "        if (!dataTable) return;\n",
              "\n",
              "        const docLinkHtml = 'Like what you see? Visit the ' +\n",
              "          '<a target=\"_blank\" href=https://colab.research.google.com/notebooks/data_table.ipynb>data table notebook</a>'\n",
              "          + ' to learn more about interactive tables.';\n",
              "        element.innerHTML = '';\n",
              "        dataTable['output_type'] = 'display_data';\n",
              "        await google.colab.output.renderOutput(dataTable, element);\n",
              "        const docLink = document.createElement('div');\n",
              "        docLink.innerHTML = docLinkHtml;\n",
              "        element.appendChild(docLink);\n",
              "      }\n",
              "    </script>\n",
              "  </div>\n",
              "\n",
              "\n",
              "<div id=\"df-a5705471-8e03-4884-9fee-b2d42e7d5468\">\n",
              "  <button class=\"colab-df-quickchart\" onclick=\"quickchart('df-a5705471-8e03-4884-9fee-b2d42e7d5468')\"\n",
              "            title=\"Suggest charts\"\n",
              "            style=\"display:none;\">\n",
              "\n",
              "<svg xmlns=\"http://www.w3.org/2000/svg\" height=\"24px\"viewBox=\"0 0 24 24\"\n",
              "     width=\"24px\">\n",
              "    <g>\n",
              "        <path d=\"M19 3H5c-1.1 0-2 .9-2 2v14c0 1.1.9 2 2 2h14c1.1 0 2-.9 2-2V5c0-1.1-.9-2-2-2zM9 17H7v-7h2v7zm4 0h-2V7h2v10zm4 0h-2v-4h2v4z\"/>\n",
              "    </g>\n",
              "</svg>\n",
              "  </button>\n",
              "\n",
              "<style>\n",
              "  .colab-df-quickchart {\n",
              "      --bg-color: #E8F0FE;\n",
              "      --fill-color: #1967D2;\n",
              "      --hover-bg-color: #E2EBFA;\n",
              "      --hover-fill-color: #174EA6;\n",
              "      --disabled-fill-color: #AAA;\n",
              "      --disabled-bg-color: #DDD;\n",
              "  }\n",
              "\n",
              "  [theme=dark] .colab-df-quickchart {\n",
              "      --bg-color: #3B4455;\n",
              "      --fill-color: #D2E3FC;\n",
              "      --hover-bg-color: #434B5C;\n",
              "      --hover-fill-color: #FFFFFF;\n",
              "      --disabled-bg-color: #3B4455;\n",
              "      --disabled-fill-color: #666;\n",
              "  }\n",
              "\n",
              "  .colab-df-quickchart {\n",
              "    background-color: var(--bg-color);\n",
              "    border: none;\n",
              "    border-radius: 50%;\n",
              "    cursor: pointer;\n",
              "    display: none;\n",
              "    fill: var(--fill-color);\n",
              "    height: 32px;\n",
              "    padding: 0;\n",
              "    width: 32px;\n",
              "  }\n",
              "\n",
              "  .colab-df-quickchart:hover {\n",
              "    background-color: var(--hover-bg-color);\n",
              "    box-shadow: 0 1px 2px rgba(60, 64, 67, 0.3), 0 1px 3px 1px rgba(60, 64, 67, 0.15);\n",
              "    fill: var(--button-hover-fill-color);\n",
              "  }\n",
              "\n",
              "  .colab-df-quickchart-complete:disabled,\n",
              "  .colab-df-quickchart-complete:disabled:hover {\n",
              "    background-color: var(--disabled-bg-color);\n",
              "    fill: var(--disabled-fill-color);\n",
              "    box-shadow: none;\n",
              "  }\n",
              "\n",
              "  .colab-df-spinner {\n",
              "    border: 2px solid var(--fill-color);\n",
              "    border-color: transparent;\n",
              "    border-bottom-color: var(--fill-color);\n",
              "    animation:\n",
              "      spin 1s steps(1) infinite;\n",
              "  }\n",
              "\n",
              "  @keyframes spin {\n",
              "    0% {\n",
              "      border-color: transparent;\n",
              "      border-bottom-color: var(--fill-color);\n",
              "      border-left-color: var(--fill-color);\n",
              "    }\n",
              "    20% {\n",
              "      border-color: transparent;\n",
              "      border-left-color: var(--fill-color);\n",
              "      border-top-color: var(--fill-color);\n",
              "    }\n",
              "    30% {\n",
              "      border-color: transparent;\n",
              "      border-left-color: var(--fill-color);\n",
              "      border-top-color: var(--fill-color);\n",
              "      border-right-color: var(--fill-color);\n",
              "    }\n",
              "    40% {\n",
              "      border-color: transparent;\n",
              "      border-right-color: var(--fill-color);\n",
              "      border-top-color: var(--fill-color);\n",
              "    }\n",
              "    60% {\n",
              "      border-color: transparent;\n",
              "      border-right-color: var(--fill-color);\n",
              "    }\n",
              "    80% {\n",
              "      border-color: transparent;\n",
              "      border-right-color: var(--fill-color);\n",
              "      border-bottom-color: var(--fill-color);\n",
              "    }\n",
              "    90% {\n",
              "      border-color: transparent;\n",
              "      border-bottom-color: var(--fill-color);\n",
              "    }\n",
              "  }\n",
              "</style>\n",
              "\n",
              "  <script>\n",
              "    async function quickchart(key) {\n",
              "      const quickchartButtonEl =\n",
              "        document.querySelector('#' + key + ' button');\n",
              "      quickchartButtonEl.disabled = true;  // To prevent multiple clicks.\n",
              "      quickchartButtonEl.classList.add('colab-df-spinner');\n",
              "      try {\n",
              "        const charts = await google.colab.kernel.invokeFunction(\n",
              "            'suggestCharts', [key], {});\n",
              "      } catch (error) {\n",
              "        console.error('Error during call to suggestCharts:', error);\n",
              "      }\n",
              "      quickchartButtonEl.classList.remove('colab-df-spinner');\n",
              "      quickchartButtonEl.classList.add('colab-df-quickchart-complete');\n",
              "    }\n",
              "    (() => {\n",
              "      let quickchartButtonEl =\n",
              "        document.querySelector('#df-a5705471-8e03-4884-9fee-b2d42e7d5468 button');\n",
              "      quickchartButtonEl.style.display =\n",
              "        google.colab.kernel.accessAllowed ? 'block' : 'none';\n",
              "    })();\n",
              "  </script>\n",
              "</div>\n",
              "    </div>\n",
              "  </div>\n"
            ]
          },
          "metadata": {},
          "execution_count": 142
        }
      ]
    },
    {
      "cell_type": "code",
      "source": [
        "fig, ax = plt.subplots(nrows=1, ncols=3, figsize=(30, 6))\n",
        "\n",
        "colors = [\"#72BCD4\", \"#72BCD4\", \"#72BCD4\", \"#72BCD4\", \"#72BCD4\"]\n",
        "\n",
        "sns.barplot(y=\"recency\", x=\"customer_id\", data=rfm_df.sort_values(by=\"recency\", ascending=True).head(5), palette=colors, ax=ax[0])\n",
        "ax[0].set_ylabel(None)\n",
        "ax[0].set_xlabel(None)\n",
        "ax[0].set_title(\"By Recency (days)\", loc=\"center\", fontsize=18)\n",
        "ax[0].tick_params(axis ='x', rotation=90, labelsize=8)\n",
        "\n",
        "sns.barplot(y=\"frequency\", x=\"customer_id\", data=rfm_df.sort_values(by=\"frequency\", ascending=False).head(5), palette=colors, ax=ax[1])\n",
        "ax[1].set_ylabel(None)\n",
        "ax[1].set_xlabel(None)\n",
        "ax[1].set_title(\"By Frequency\", loc=\"center\", fontsize=18)\n",
        "ax[1].tick_params(axis='x', rotation=90, labelsize=8)\n",
        "\n",
        "sns.barplot(y=\"monetary\", x=\"customer_id\", data=rfm_df.sort_values(by=\"monetary\", ascending=False).head(5), palette=colors, ax=ax[2])\n",
        "ax[2].set_ylabel(None)\n",
        "ax[2].set_xlabel(None)\n",
        "ax[2].set_title(\"By Monetary\", loc=\"center\", fontsize=18)\n",
        "ax[2].tick_params(axis='x', rotation=90, labelsize=8)\n",
        "\n",
        "plt.suptitle(\"Best Customer Based on RFM Parameters (customer_id)\", fontsize=20)\n",
        "plt.show()"
      ],
      "metadata": {
        "colab": {
          "base_uri": "https://localhost:8080/",
          "height": 220
        },
        "id": "gPJ2186-GcYo",
        "outputId": "6c5968a4-0618-45ee-b8d3-1814987350de"
      },
      "execution_count": 143,
      "outputs": [
        {
          "output_type": "display_data",
          "data": {
            "text/plain": [
              "<Figure size 3000x600 with 3 Axes>"
            ],
            "image/png": "[encoded data removed]"
          },
          "metadata": {}
        }
      ]
    },
    {
      "cell_type": "markdown",
      "source": [
        "## Conclusion"
      ],
      "metadata": {
        "id": "J2CnXYGT9Tc2"
      }
    },
    {
      "cell_type": "markdown",
      "source": [
        "- Conclution pertanyaan 1 : Penurunan jumlah orderan yang sangat signifikan terjadi pada bulan November 2017, Februari 2018, dan Juni 2018 berdampak terhadap penurunan revenue perusahaan.\n",
        "- Conclution pertanyaan 2 : Kategori produk dengan jumlah penjualan terbanyak adalah produk bed_bath_table, sedangkan yang paling sedikit adalah produk security_and_services.\n",
        "- Conclusion pertanyaan 3 :"
      ],
      "metadata": {
        "id": "f73FBkLw9V8C"
      }
    },
    {
      "cell_type": "code",
      "source": [
        "recent_date = df['order_purchase_timestamp'].dt.date.max()\n",
        "tanggal_terakhir = recent_date.strftime(\"%d %B %Y\")\n",
        "print (\"Tanggal terakhir pelanggan melakukan transaksi adalah \", tanggal_terakhir)"
      ],
      "metadata": {
        "colab": {
          "base_uri": "https://localhost:8080/"
        },
        "id": "QcuhTzRhQwyf",
        "outputId": "23d2dca5-3ffc-4ab8-c42b-0bc3ec8ab6f4"
      },
      "execution_count": 144,
      "outputs": [
        {
          "output_type": "stream",
          "name": "stdout",
          "text": [
            "Tanggal terakhir pelanggan melakukan transaksi adalah  29 August 2018\n"
          ]
        }
      ]
    },
    {
      "cell_type": "markdown",
      "source": [
        "- Conclution pertanyaan 4 : Seorang pelanggan melakukan 1x pembelian dalam beberapa bulan terakhir.\n",
        "- Conclusion pertanyaan 5 :"
      ],
      "metadata": {
        "id": "yWK4RNvURrMV"
      }
    },
    {
      "cell_type": "code",
      "source": [
        "avg_spending = rfm_df['monetary'].mean()\n",
        "print('Rata-rata banyak uang yang dihabiskan pelanggan dalam beberapa bulan terakhir adalah :',avg_spending)"
      ],
      "metadata": {
        "id": "b32P72p99VN9",
        "colab": {
          "base_uri": "https://localhost:8080/"
        },
        "outputId": "44469aad-012a-4252-bf7b-edf0fe0a9b3e"
      },
      "execution_count": 145,
      "outputs": [
        {
          "output_type": "stream",
          "name": "stdout",
          "text": [
            "Rata-rata banyak uang yang dihabiskan pelanggan dalam beberapa bulan terakhir adalah : 205.26760890892774\n"
          ]
        }
      ]
    },
    {
      "cell_type": "code",
      "source": [
        "df.to_csv(\"all_data.csv\", index=False)\n"
      ],
      "metadata": {
        "id": "p0jcd2IOVH_Q"
      },
      "execution_count": 146,
      "outputs": []
    },
    {
      "cell_type": "markdown",
      "source": [
        "#### Dashboard by Streamlit"
      ],
      "metadata": {
        "id": "YjS3kRVicfwN"
      }
    },
    {
      "cell_type": "code",
      "source": [
        "# install Streamlit dan pyngrok\n",
        "!pip install streamlit"
      ],
      "metadata": {
        "colab": {
          "base_uri": "https://localhost:8080/"
        },
        "id": "_SxV9bf4cJfE",
        "outputId": "3bfa4206-a912-47c1-a0c2-2ff08524f6d6"
      },
      "execution_count": 147,
      "outputs": [
        {
          "output_type": "stream",
          "name": "stdout",
          "text": [
            "Requirement already satisfied: streamlit in /usr/local/lib/python3.10/dist-packages (1.28.2)\n",
            "Requirement already satisfied: altair<6,>=4.0 in /usr/local/lib/python3.10/dist-packages (from streamlit) (4.2.2)\n",
            "Requirement already satisfied: blinker<2,>=1.0.0 in /usr/lib/python3/dist-packages (from streamlit) (1.4)\n",
            "Requirement already satisfied: cachetools<6,>=4.0 in /usr/local/lib/python3.10/dist-packages (from streamlit) (5.3.2)\n",
            "Requirement already satisfied: click<9,>=7.0 in /usr/local/lib/python3.10/dist-packages (from streamlit) (8.1.7)\n",
            "Requirement already satisfied: importlib-metadata<7,>=1.4 in /usr/local/lib/python3.10/dist-packages (from streamlit) (6.8.0)\n",
            "Requirement already satisfied: numpy<2,>=1.19.3 in /usr/local/lib/python3.10/dist-packages (from streamlit) (1.23.5)\n",
            "Requirement already satisfied: packaging<24,>=16.8 in /usr/local/lib/python3.10/dist-packages (from streamlit) (23.2)\n",
            "Requirement already satisfied: pandas<3,>=1.3.0 in /usr/local/lib/python3.10/dist-packages (from streamlit) (1.5.3)\n",
            "Requirement already satisfied: pillow<11,>=7.1.0 in /usr/local/lib/python3.10/dist-packages (from streamlit) (9.4.0)\n",
            "Requirement already satisfied: protobuf<5,>=3.20 in /usr/local/lib/python3.10/dist-packages (from streamlit) (3.20.3)\n",
            "Requirement already satisfied: pyarrow>=6.0 in /usr/local/lib/python3.10/dist-packages (from streamlit) (9.0.0)\n",
            "Requirement already satisfied: python-dateutil<3,>=2.7.3 in /usr/local/lib/python3.10/dist-packages (from streamlit) (2.8.2)\n",
            "Requirement already satisfied: requests<3,>=2.27 in /usr/local/lib/python3.10/dist-packages (from streamlit) (2.31.0)\n",
            "Requirement already satisfied: rich<14,>=10.14.0 in /usr/local/lib/python3.10/dist-packages (from streamlit) (13.7.0)\n",
            "Requirement already satisfied: tenacity<9,>=8.1.0 in /usr/local/lib/python3.10/dist-packages (from streamlit) (8.2.3)\n",
            "Requirement already satisfied: toml<2,>=0.10.1 in /usr/local/lib/python3.10/dist-packages (from streamlit) (0.10.2)\n",
            "Requirement already satisfied: typing-extensions<5,>=4.3.0 in /usr/local/lib/python3.10/dist-packages (from streamlit) (4.5.0)\n",
            "Requirement already satisfied: tzlocal<6,>=1.1 in /usr/local/lib/python3.10/dist-packages (from streamlit) (5.2)\n",
            "Requirement already satisfied: validators<1,>=0.2 in /usr/local/lib/python3.10/dist-packages (from streamlit) (0.22.0)\n",
            "Requirement already satisfied: gitpython!=3.1.19,<4,>=3.0.7 in /usr/local/lib/python3.10/dist-packages (from streamlit) (3.1.40)\n",
            "Requirement already satisfied: pydeck<1,>=0.8.0b4 in /usr/local/lib/python3.10/dist-packages (from streamlit) (0.8.1b0)\n",
            "Requirement already satisfied: tornado<7,>=6.0.3 in /usr/local/lib/python3.10/dist-packages (from streamlit) (6.3.2)\n",
            "Requirement already satisfied: watchdog>=2.1.5 in /usr/local/lib/python3.10/dist-packages (from streamlit) (3.0.0)\n",
            "Requirement already satisfied: entrypoints in /usr/local/lib/python3.10/dist-packages (from altair<6,>=4.0->streamlit) (0.4)\n",
            "Requirement already satisfied: jinja2 in /usr/local/lib/python3.10/dist-packages (from altair<6,>=4.0->streamlit) (3.1.2)\n",
            "Requirement already satisfied: jsonschema>=3.0 in /usr/local/lib/python3.10/dist-packages (from altair<6,>=4.0->streamlit) (4.19.2)\n",
            "Requirement already satisfied: toolz in /usr/local/lib/python3.10/dist-packages (from altair<6,>=4.0->streamlit) (0.12.0)\n",
            "Requirement already satisfied: gitdb<5,>=4.0.1 in /usr/local/lib/python3.10/dist-packages (from gitpython!=3.1.19,<4,>=3.0.7->streamlit) (4.0.11)\n",
            "Requirement already satisfied: zipp>=0.5 in /usr/local/lib/python3.10/dist-packages (from importlib-metadata<7,>=1.4->streamlit) (3.17.0)\n",
            "Requirement already satisfied: pytz>=2020.1 in /usr/local/lib/python3.10/dist-packages (from pandas<3,>=1.3.0->streamlit) (2023.3.post1)\n",
            "Requirement already satisfied: six>=1.5 in /usr/local/lib/python3.10/dist-packages (from python-dateutil<3,>=2.7.3->streamlit) (1.16.0)\n",
            "Requirement already satisfied: charset-normalizer<4,>=2 in /usr/local/lib/python3.10/dist-packages (from requests<3,>=2.27->streamlit) (3.3.2)\n",
            "Requirement already satisfied: idna<4,>=2.5 in /usr/local/lib/python3.10/dist-packages (from requests<3,>=2.27->streamlit) (3.4)\n",
            "Requirement already satisfied: urllib3<3,>=1.21.1 in /usr/local/lib/python3.10/dist-packages (from requests<3,>=2.27->streamlit) (2.0.7)\n",
            "Requirement already satisfied: certifi>=2017.4.17 in /usr/local/lib/python3.10/dist-packages (from requests<3,>=2.27->streamlit) (2023.7.22)\n",
            "Requirement already satisfied: markdown-it-py>=2.2.0 in /usr/local/lib/python3.10/dist-packages (from rich<14,>=10.14.0->streamlit) (3.0.0)\n",
            "Requirement already satisfied: pygments<3.0.0,>=2.13.0 in /usr/local/lib/python3.10/dist-packages (from rich<14,>=10.14.0->streamlit) (2.16.1)\n",
            "Requirement already satisfied: smmap<6,>=3.0.1 in /usr/local/lib/python3.10/dist-packages (from gitdb<5,>=4.0.1->gitpython!=3.1.19,<4,>=3.0.7->streamlit) (5.0.1)\n",
            "Requirement already satisfied: MarkupSafe>=2.0 in /usr/local/lib/python3.10/dist-packages (from jinja2->altair<6,>=4.0->streamlit) (2.1.3)\n",
            "Requirement already satisfied: attrs>=22.2.0 in /usr/local/lib/python3.10/dist-packages (from jsonschema>=3.0->altair<6,>=4.0->streamlit) (23.1.0)\n",
            "Requirement already satisfied: jsonschema-specifications>=2023.03.6 in /usr/local/lib/python3.10/dist-packages (from jsonschema>=3.0->altair<6,>=4.0->streamlit) (2023.11.1)\n",
            "Requirement already satisfied: referencing>=0.28.4 in /usr/local/lib/python3.10/dist-packages (from jsonschema>=3.0->altair<6,>=4.0->streamlit) (0.31.0)\n",
            "Requirement already satisfied: rpds-py>=0.7.1 in /usr/local/lib/python3.10/dist-packages (from jsonschema>=3.0->altair<6,>=4.0->streamlit) (0.13.0)\n",
            "Requirement already satisfied: mdurl~=0.1 in /usr/local/lib/python3.10/dist-packages (from markdown-it-py>=2.2.0->rich<14,>=10.14.0->streamlit) (0.1.2)\n"
          ]
        }
      ]
    },
    {
      "cell_type": "code",
      "source": [
        "%%writefile dashboard.py\n",
        "import pandas as pd\n",
        "import numpy as np\n",
        "import matplotlib.pyplot as plt\n",
        "import seaborn as sns\n",
        "import streamlit as st\n",
        "\n",
        "sns.set(style='dark')\n",
        "\n",
        "def main():\n",
        "  st.title(\"Proyek Analisis Data Dicoding\")\n",
        "  st.text(\"Studi Kasus Brazilian E-Commerce\")\n",
        "\n",
        "  menu = [\"Home\",\"About\"]\n",
        "  choice = st.sidebar.selectbox('Menu',menu)\n",
        "  if choice == 'Home':\n",
        "    st.subheader(\"Dashboard\")\n",
        "\n",
        "if __name__ == \"__main__\":\n",
        "  main()\n",
        "\n",
        "\n",
        "# Membuat beberapa helper function :\n",
        "## Membuat daily_order_df :\n",
        "\n",
        "def create_daily_orders_df(df):\n",
        "    daily_orders_df = df.resample(rule='D', on='order_purchase_timestamp').agg({\n",
        "        \"order_id\": \"nunique\",\n",
        "        \"payment_value\": \"sum\"\n",
        "    })\n",
        "    daily_orders_df = daily_orders_df.reset_index()\n",
        "    daily_orders_df.rename(columns={\n",
        "        \"order_id\": \"order_count\",\n",
        "        \"payment_value\": \"revenue\"\n",
        "    }, inplace=True)\n",
        "\n",
        "    return daily_orders_df\n",
        "\n",
        "## Membuat sum_order_items_df :\n",
        "\n",
        "def create_sum_order_items_df(df):\n",
        "    sum_order_items_df = df.groupby(\"product_category_name_english\").order_item_id.sum().sort_values(ascending=False).reset_index()\n",
        "    return sum_order_items_df\n",
        "\n",
        "## Membuat rfm_df :\n",
        "\n",
        "def create_rfm_df(df):\n",
        "    rfm_df = df.groupby(by=\"customer_id\", as_index=False).agg({\n",
        "        \"order_purchase_timestamp\": \"max\", #mengambil tanggal order terakhir\n",
        "        \"order_id\": \"nunique\",\n",
        "        \"payment_value\": \"sum\"\n",
        "    })\n",
        "    rfm_df.columns = [\"customer_id\", \"max_order_timestamp\", \"frequency\", \"monetary\"]\n",
        "\n",
        "    rfm_df[\"max_order_timestamp\"] = rfm_df[\"max_order_timestamp\"].dt.date\n",
        "    recent_date = df[\"order_purchase_timestamp\"].dt.date.max()\n",
        "    rfm_df[\"recency\"] = rfm_df[\"max_order_timestamp\"].apply(lambda x: (recent_date - x).days)\n",
        "    rfm_df.drop(\"max_order_timestamp\", axis=1, inplace=True)\n",
        "\n",
        "    return rfm_df\n",
        "\n",
        "# Memanggil cleaned data\n",
        "all_df = pd.read_csv(\"https://raw.githubusercontent.com/littleowl008/Proyek-Data-Analisis-Dicoding/main/dashboard/all_data.csv\")\n",
        "\n",
        "\n",
        "datetime_columns = [\"order_purchase_timestamp\", \"order_delivered_customer_date\"]\n",
        "all_df.sort_values(by=\"order_purchase_timestamp\", inplace=True)\n",
        "all_df.reset_index(inplace=True)\n",
        "\n",
        "for column in datetime_columns:\n",
        "    all_df[column] = pd.to_datetime(all_df[column])\n",
        "\n",
        "\n",
        "# Membuat filter data\n",
        "\n",
        "min_date = all_df[\"order_purchase_timestamp\"].min()\n",
        "max_date = all_df[\"order_purchase_timestamp\"].max()\n",
        "\n",
        "with st.sidebar:\n",
        "    # Mengambil start_date & end_date dari date_input\n",
        "    start_date, end_date = st.date_input(\n",
        "        label='Rentang Waktu',min_value=min_date,\n",
        "        max_value=max_date,\n",
        "        value=[min_date, max_date]\n",
        "    )\n",
        "\n",
        "main_df = all_df[(all_df[\"order_purchase_timestamp\"] >= str(start_date)) &\n",
        "                (all_df[\"order_purchase_timestamp\"] <= str(end_date))]\n",
        "\n",
        "\n",
        "# Menyiapkan dataframe\n",
        "daily_orders_df = create_daily_orders_df(main_df)\n",
        "sum_order_items_df = create_sum_order_items_df(main_df)\n",
        "rfm_df = create_rfm_df(main_df)\n",
        "\n",
        "\n",
        "tab1, tab2, tab3 = st.tabs([\"Daily Orders\", \"Best & Worst Performing Products\", \"Best Customer Based on RFM Parameters\"])\n",
        "\n",
        "with tab1: # daily order\n",
        "    st.header(\"Daily Orders\")\n",
        "    col1, col2 = st.columns(2)\n",
        "\n",
        "    with col1:\n",
        "      total_orders = daily_orders_df.order_count.sum()\n",
        "      st.metric(\"Total orders\", value=total_orders)\n",
        "\n",
        "    with col2:\n",
        "      total_revenue = daily_orders_df.revenue.sum()\n",
        "      st.metric(\"Total Revenue\", value=total_revenue)\n",
        "\n",
        "    fig, ax = plt.subplots(figsize=(16, 8))\n",
        "    ax.plot(\n",
        "      daily_orders_df[\"order_purchase_timestamp\"],\n",
        "      daily_orders_df[\"order_count\"],\n",
        "      marker='o',\n",
        "      linewidth=2,\n",
        "      color=\"#90CAF9\"\n",
        "    )\n",
        "    ax.tick_params(axis='y', labelsize=20)\n",
        "    ax.tick_params(axis='x', labelsize=15)\n",
        "\n",
        "    st.pyplot(fig)\n",
        "\n",
        "with tab2: # performansi produk\n",
        "    st.header(\"Best & Worst Performing Products\")\n",
        "    sum_order_items_df = all_df.groupby(\"product_category_name_english\").order_item_id.sum().sort_values(ascending=False).reset_index()\n",
        "    sum_order_items_df.rename(columns={\"product_category_name_english\":\"product_category\", \"order_item_id\":\"quantity\"}, inplace=True)\n",
        "\n",
        "    st.subheader(\"Best & Worst Performing Product\")\n",
        "\n",
        "    fig, ax = plt.subplots(nrows=1, ncols=2, figsize=(35, 15))\n",
        "\n",
        "    colors = [\"#90CAF9\", \"#D3D3D3\", \"#D3D3D3\", \"#D3D3D3\", \"#D3D3D3\"]\n",
        "\n",
        "    sns.barplot(x=\"quantity\", y=\"product_category\", data=sum_order_items_df.head(5), palette=colors, ax=ax[0])\n",
        "    ax[0].set_ylabel(None)\n",
        "    ax[0].set_xlabel(\"Number of Sales\", fontsize=30)\n",
        "    ax[0].set_title(\"Best Performing Product\", loc=\"center\", fontsize=50)\n",
        "    ax[0].tick_params(axis='y', labelsize=35)\n",
        "    ax[0].tick_params(axis='x', labelsize=30)\n",
        "\n",
        "    sns.barplot(x=\"quantity\", y=\"product_category\", data=sum_order_items_df.sort_values(by=\"quantity\", ascending=True).head(5), palette=colors, ax=ax[1])\n",
        "    ax[1].set_ylabel(None)\n",
        "    ax[1].set_xlabel(\"Number of Sales\", fontsize=30)\n",
        "    ax[1].invert_xaxis()\n",
        "    ax[1].yaxis.set_label_position(\"right\")\n",
        "    ax[1].yaxis.tick_right()\n",
        "    ax[1].set_title(\"Worst Performing Product\", loc=\"center\", fontsize=50)\n",
        "    ax[1].tick_params(axis='y', labelsize=35)\n",
        "    ax[1].tick_params(axis='x', labelsize=30)\n",
        "\n",
        "    st.pyplot(fig)\n",
        "\n",
        "with tab3: # RFM analysis\n",
        "    st.header(\"Best Customer Based on RFM Parameters\")\n",
        "    col1, col2, col3 = st.columns(3)\n",
        "\n",
        "    with col1:\n",
        "      avg_recency = round(rfm_df.recency.mean(), 1)\n",
        "      st.metric(\"Average Recency (days)\", value=avg_recency)\n",
        "\n",
        "    with col2:\n",
        "      avg_frequency = round(rfm_df.frequency.mean(), 2)\n",
        "      st.metric(\"Average Frequency\", value=avg_frequency)\n",
        "\n",
        "    with col3:\n",
        "      avg_frequency = rfm_df.monetary.mean()\n",
        "      st.metric(\"Average Monetary\", value=avg_frequency)\n",
        "\n",
        "    fig, ax = plt.subplots(nrows=1, ncols=3, figsize=(35, 15))\n",
        "    colors = [\"#90CAF9\", \"#90CAF9\", \"#90CAF9\", \"#90CAF9\", \"#90CAF9\"]\n",
        "\n",
        "    sns.barplot(y=\"recency\", x=\"customer_id\", data=rfm_df.sort_values(by=\"recency\", ascending=True).head(5), palette=colors, ax=ax[0])\n",
        "    ax[0].set_ylabel(None)\n",
        "    ax[0].set_xlabel(\"customer_id\", fontsize=30)\n",
        "    ax[0].set_title(\"By Recency (days)\", loc=\"center\", fontsize=50)\n",
        "    ax[0].tick_params(axis='y', labelsize=30)\n",
        "    ax[0].tick_params(axis='x', rotation=90, labelsize=35)\n",
        "\n",
        "    sns.barplot(y=\"frequency\", x=\"customer_id\", data=rfm_df.sort_values(by=\"frequency\", ascending=False).head(5), palette=colors, ax=ax[1])\n",
        "    ax[1].set_ylabel(None)\n",
        "    ax[1].set_xlabel(\"customer_id\", fontsize=30)\n",
        "    ax[1].set_title(\"By Frequency\", loc=\"center\", fontsize=50)\n",
        "    ax[1].tick_params(axis='y',  labelsize=30)\n",
        "    ax[1].tick_params(axis='x', rotation=90, labelsize=35)\n",
        "\n",
        "    sns.barplot(y=\"monetary\", x=\"customer_id\", data=rfm_df.sort_values(by=\"monetary\", ascending=False).head(5), palette=colors, ax=ax[2])\n",
        "    ax[2].set_ylabel(None)\n",
        "    ax[2].set_xlabel(\"customer_id\", fontsize=30)\n",
        "    ax[2].set_title(\"By Monetary\", loc=\"center\", fontsize=50)\n",
        "    ax[2].tick_params(axis='y', labelsize=30)\n",
        "    ax[2].tick_params(axis='x', rotation=90, labelsize=35)\n",
        "\n",
        "    st.pyplot(fig)\n",
        "\n",
        "st.caption('Copyright © JaneTamara 2023')"
      ],
      "metadata": {
        "colab": {
          "base_uri": "https://localhost:8080/"
        },
        "id": "dVuZF3aYm3Gr",
        "outputId": "9d394f51-e05f-48f2-d3a1-20ec6695c6d8"
      },
      "execution_count": 150,
      "outputs": [
        {
          "output_type": "stream",
          "name": "stdout",
          "text": [
            "Overwriting dashboard.py\n"
          ]
        }
      ]
    },
    {
      "cell_type": "code",
      "source": [
        "!streamlit run dashboard.py & npx localtunnel --port 8501"
      ],
      "metadata": {
        "colab": {
          "base_uri": "https://localhost:8080/"
        },
        "id": "synye3IHQhuM",
        "outputId": "18e3a5d7-3af6-4c3c-ac9d-a2dbaee8e5b3"
      },
      "execution_count": null,
      "outputs": [
        {
          "output_type": "stream",
          "name": "stdout",
          "text": [
            "\u001b[?25l[..................] / rollbackFailedOptional: verb npm-session 696a31d0a3cc9c6\u001b[0m\u001b[K\r[..................] / rollbackFailedOptional: verb npm-session 696a31d0a3cc9c6\u001b[0m\u001b[K\r\n",
            "Collecting usage statistics. To deactivate, set browser.gatherUsageStats to False.\n",
            "\u001b[0m\n",
            "\u001b[0m\n",
            "\u001b[34m\u001b[1m  You can now view your Streamlit app in your browser.\u001b[0m\n",
            "\u001b[0m\n",
            "\u001b[34m  Network URL: \u001b[0m\u001b[1mhttp://172.28.0.12:8501\u001b[0m\n",
            "\u001b[34m  External URL: \u001b[0m\u001b[1mhttp://34.171.35.66:8501\u001b[0m\n",
            "\u001b[0m\n",
            "\u001b[K\u001b[?25hnpx: installed 22 in 2.182s\n",
            "your url is: https://nice-facts-lay.loca.lt\n"
          ]
        }
      ]
    }
  ]
}